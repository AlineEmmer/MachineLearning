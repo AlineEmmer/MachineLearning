{
  "cells": [
    {
      "cell_type": "markdown",
      "metadata": {
        "id": "view-in-github",
        "colab_type": "text"
      },
      "source": [
        "<a href=\"https://colab.research.google.com/github/AlineEmmer/MachineLearning/blob/main/gbc_Dyslipidemia_Prediction.ipynb\" target=\"_parent\"><img src=\"https://colab.research.google.com/assets/colab-badge.svg\" alt=\"Open In Colab\"/></a>"
      ]
    },
    {
      "cell_type": "markdown",
      "metadata": {
        "id": "7da0e5ca"
      },
      "source": [
        "#This project analyzed a database containing infrared spectra of patients: group 0 = patients with dyslipidemia (n=100), group 1 = individuals with hypertriglyceridemia (n=100), group 2 = patients with hypercholesterolemia (n=100), and group 3 = healthy patients (n=100). The variables were selected according the VIP score - PLS-DA (Matlab) (n=188). The aim is to develop a machine learning model for predicting dyslipidemia and identifying wavelengths in the spectrum associated with these diseases, with a view to optimizing diagnosis\n"
      ],
      "id": "7da0e5ca"
    },
    {
      "cell_type": "code",
      "execution_count": null,
      "metadata": {
        "id": "v13OXQGW32Jv"
      },
      "outputs": [],
      "source": [
        "# Task to be performed\n",
        "# Step 1: Import the database\n",
        "# Step 2: Import the Pandas library to help manipulate the database\n",
        "# Step 3: Installing the Pycaret library (helps to perform Auto-Machine Learn)\n",
        "# Step 4: Importing the Pycaret library\n",
        "# Step 5: Pre-processing the data\n",
        "# Step 6: Building and comparing different models\n",
        "# Step 7: Training the best model based on predictive performance metrics\n",
        "# Step 8: Extracting the results of the model's metrics\n",
        "# Step 9: Ploting the 10 most important wavenumbers\n",
        "# Step 10: Conclusions about the model\n",
        "# Step 11: Saving the model to make predictions in real life (Deploy)"
      ],
      "id": "v13OXQGW32Jv"
    },
    {
      "cell_type": "markdown",
      "source": [
        "# # Step 1: Import the database\n"
      ],
      "metadata": {
        "id": "J9r7lCahnEGd"
      },
      "id": "J9r7lCahnEGd"
    },
    {
      "cell_type": "code",
      "execution_count": null,
      "metadata": {
        "colab": {
          "base_uri": "https://localhost:8080/",
          "height": 73
        },
        "id": "2N_0Ipu7mqGN",
        "outputId": "80187317-f047-4bdc-92f5-c06a68f56d9b"
      },
      "outputs": [
        {
          "output_type": "display_data",
          "data": {
            "text/plain": [
              "<IPython.core.display.HTML object>"
            ],
            "text/html": [
              "\n",
              "     <input type=\"file\" id=\"files-a37e0666-faa1-489c-aab5-d7f6300883dc\" name=\"files[]\" multiple disabled\n",
              "        style=\"border:none\" />\n",
              "     <output id=\"result-a37e0666-faa1-489c-aab5-d7f6300883dc\">\n",
              "      Upload widget is only available when the cell has been executed in the\n",
              "      current browser session. Please rerun this cell to enable.\n",
              "      </output>\n",
              "      <script>// Copyright 2017 Google LLC\n",
              "//\n",
              "// Licensed under the Apache License, Version 2.0 (the \"License\");\n",
              "// you may not use this file except in compliance with the License.\n",
              "// You may obtain a copy of the License at\n",
              "//\n",
              "//      http://www.apache.org/licenses/LICENSE-2.0\n",
              "//\n",
              "// Unless required by applicable law or agreed to in writing, software\n",
              "// distributed under the License is distributed on an \"AS IS\" BASIS,\n",
              "// WITHOUT WARRANTIES OR CONDITIONS OF ANY KIND, either express or implied.\n",
              "// See the License for the specific language governing permissions and\n",
              "// limitations under the License.\n",
              "\n",
              "/**\n",
              " * @fileoverview Helpers for google.colab Python module.\n",
              " */\n",
              "(function(scope) {\n",
              "function span(text, styleAttributes = {}) {\n",
              "  const element = document.createElement('span');\n",
              "  element.textContent = text;\n",
              "  for (const key of Object.keys(styleAttributes)) {\n",
              "    element.style[key] = styleAttributes[key];\n",
              "  }\n",
              "  return element;\n",
              "}\n",
              "\n",
              "// Max number of bytes which will be uploaded at a time.\n",
              "const MAX_PAYLOAD_SIZE = 100 * 1024;\n",
              "\n",
              "function _uploadFiles(inputId, outputId) {\n",
              "  const steps = uploadFilesStep(inputId, outputId);\n",
              "  const outputElement = document.getElementById(outputId);\n",
              "  // Cache steps on the outputElement to make it available for the next call\n",
              "  // to uploadFilesContinue from Python.\n",
              "  outputElement.steps = steps;\n",
              "\n",
              "  return _uploadFilesContinue(outputId);\n",
              "}\n",
              "\n",
              "// This is roughly an async generator (not supported in the browser yet),\n",
              "// where there are multiple asynchronous steps and the Python side is going\n",
              "// to poll for completion of each step.\n",
              "// This uses a Promise to block the python side on completion of each step,\n",
              "// then passes the result of the previous step as the input to the next step.\n",
              "function _uploadFilesContinue(outputId) {\n",
              "  const outputElement = document.getElementById(outputId);\n",
              "  const steps = outputElement.steps;\n",
              "\n",
              "  const next = steps.next(outputElement.lastPromiseValue);\n",
              "  return Promise.resolve(next.value.promise).then((value) => {\n",
              "    // Cache the last promise value to make it available to the next\n",
              "    // step of the generator.\n",
              "    outputElement.lastPromiseValue = value;\n",
              "    return next.value.response;\n",
              "  });\n",
              "}\n",
              "\n",
              "/**\n",
              " * Generator function which is called between each async step of the upload\n",
              " * process.\n",
              " * @param {string} inputId Element ID of the input file picker element.\n",
              " * @param {string} outputId Element ID of the output display.\n",
              " * @return {!Iterable<!Object>} Iterable of next steps.\n",
              " */\n",
              "function* uploadFilesStep(inputId, outputId) {\n",
              "  const inputElement = document.getElementById(inputId);\n",
              "  inputElement.disabled = false;\n",
              "\n",
              "  const outputElement = document.getElementById(outputId);\n",
              "  outputElement.innerHTML = '';\n",
              "\n",
              "  const pickedPromise = new Promise((resolve) => {\n",
              "    inputElement.addEventListener('change', (e) => {\n",
              "      resolve(e.target.files);\n",
              "    });\n",
              "  });\n",
              "\n",
              "  const cancel = document.createElement('button');\n",
              "  inputElement.parentElement.appendChild(cancel);\n",
              "  cancel.textContent = 'Cancel upload';\n",
              "  const cancelPromise = new Promise((resolve) => {\n",
              "    cancel.onclick = () => {\n",
              "      resolve(null);\n",
              "    };\n",
              "  });\n",
              "\n",
              "  // Wait for the user to pick the files.\n",
              "  const files = yield {\n",
              "    promise: Promise.race([pickedPromise, cancelPromise]),\n",
              "    response: {\n",
              "      action: 'starting',\n",
              "    }\n",
              "  };\n",
              "\n",
              "  cancel.remove();\n",
              "\n",
              "  // Disable the input element since further picks are not allowed.\n",
              "  inputElement.disabled = true;\n",
              "\n",
              "  if (!files) {\n",
              "    return {\n",
              "      response: {\n",
              "        action: 'complete',\n",
              "      }\n",
              "    };\n",
              "  }\n",
              "\n",
              "  for (const file of files) {\n",
              "    const li = document.createElement('li');\n",
              "    li.append(span(file.name, {fontWeight: 'bold'}));\n",
              "    li.append(span(\n",
              "        `(${file.type || 'n/a'}) - ${file.size} bytes, ` +\n",
              "        `last modified: ${\n",
              "            file.lastModifiedDate ? file.lastModifiedDate.toLocaleDateString() :\n",
              "                                    'n/a'} - `));\n",
              "    const percent = span('0% done');\n",
              "    li.appendChild(percent);\n",
              "\n",
              "    outputElement.appendChild(li);\n",
              "\n",
              "    const fileDataPromise = new Promise((resolve) => {\n",
              "      const reader = new FileReader();\n",
              "      reader.onload = (e) => {\n",
              "        resolve(e.target.result);\n",
              "      };\n",
              "      reader.readAsArrayBuffer(file);\n",
              "    });\n",
              "    // Wait for the data to be ready.\n",
              "    let fileData = yield {\n",
              "      promise: fileDataPromise,\n",
              "      response: {\n",
              "        action: 'continue',\n",
              "      }\n",
              "    };\n",
              "\n",
              "    // Use a chunked sending to avoid message size limits. See b/62115660.\n",
              "    let position = 0;\n",
              "    do {\n",
              "      const length = Math.min(fileData.byteLength - position, MAX_PAYLOAD_SIZE);\n",
              "      const chunk = new Uint8Array(fileData, position, length);\n",
              "      position += length;\n",
              "\n",
              "      const base64 = btoa(String.fromCharCode.apply(null, chunk));\n",
              "      yield {\n",
              "        response: {\n",
              "          action: 'append',\n",
              "          file: file.name,\n",
              "          data: base64,\n",
              "        },\n",
              "      };\n",
              "\n",
              "      let percentDone = fileData.byteLength === 0 ?\n",
              "          100 :\n",
              "          Math.round((position / fileData.byteLength) * 100);\n",
              "      percent.textContent = `${percentDone}% done`;\n",
              "\n",
              "    } while (position < fileData.byteLength);\n",
              "  }\n",
              "\n",
              "  // All done.\n",
              "  yield {\n",
              "    response: {\n",
              "      action: 'complete',\n",
              "    }\n",
              "  };\n",
              "}\n",
              "\n",
              "scope.google = scope.google || {};\n",
              "scope.google.colab = scope.google.colab || {};\n",
              "scope.google.colab._files = {\n",
              "  _uploadFiles,\n",
              "  _uploadFilesContinue,\n",
              "};\n",
              "})(self);\n",
              "</script> "
            ]
          },
          "metadata": {}
        },
        {
          "output_type": "stream",
          "name": "stdout",
          "text": [
            "Saving VIPs_PLS-DA.xlsx to VIPs_PLS-DA.xlsx\n"
          ]
        }
      ],
      "source": [
        "# Step 1: Import the database\n",
        "\n",
        "from google.colab import files\n",
        "uploaded = files.upload()"
      ],
      "id": "2N_0Ipu7mqGN"
    },
    {
      "cell_type": "markdown",
      "source": [
        "# # Step 2: Import the Pandas library to help manipulate the database\n"
      ],
      "metadata": {
        "id": "KXD0FmQmnaht"
      },
      "id": "KXD0FmQmnaht"
    },
    {
      "cell_type": "code",
      "execution_count": null,
      "metadata": {
        "id": "Y4YeHICemuoc",
        "colab": {
          "base_uri": "https://localhost:8080/",
          "height": 443
        },
        "outputId": "ce893187-33fe-44c8-ed61-54402bbb1654"
      },
      "outputs": [
        {
          "output_type": "display_data",
          "data": {
            "text/plain": [
              "    Classes    3000  2999.5  2998.1  2996.7  2995.3  2993.9  2992.4    2991  \\\n",
              "0        HC  0.8724  0.8733  0.8742  0.8754  0.8767  0.8780  0.8791  0.8803   \n",
              "1        HC  0.8730  0.8739  0.8749  0.8760  0.8771  0.8783  0.8795  0.8808   \n",
              "2        HC  0.8725  0.8736  0.8747  0.8760  0.8773  0.8785  0.8795  0.8807   \n",
              "3        HC  0.8728  0.8737  0.8747  0.8758  0.8772  0.8786  0.8800  0.8813   \n",
              "4        HC  0.8729  0.8738  0.8746  0.8757  0.8770  0.8783  0.8797  0.8810   \n",
              "..      ...     ...     ...     ...     ...     ...     ...     ...     ...   \n",
              "395     DYS  0.8794  0.8808  0.8821  0.8835  0.8848  0.8861  0.8874  0.8888   \n",
              "396     DYS  0.8796  0.8808  0.8820  0.8835  0.8851  0.8865  0.8878  0.8891   \n",
              "397     DYS  0.8797  0.8809  0.8821  0.8836  0.8849  0.8861  0.8873  0.8886   \n",
              "398     DYS  0.8799  0.8812  0.8825  0.8839  0.8852  0.8864  0.8876  0.8889   \n",
              "399     DYS  0.8799  0.8812  0.8825  0.8839  0.8852  0.8864  0.8876  0.8889   \n",
              "\n",
              "     2989.6  ...  1503.3  1501.9  1500.5  1499.1  1497.6  1405.5  1404.1  \\\n",
              "0    0.8816  ...  0.8865  0.8869  0.8871  0.8872  0.8875  0.8931  0.8926   \n",
              "1    0.8823  ...  0.8887  0.8891  0.8893  0.8895  0.8899  0.8963  0.8958   \n",
              "2    0.8819  ...  0.8889  0.8894  0.8896  0.8898  0.8900  0.8961  0.8959   \n",
              "3    0.8826  ...  0.8895  0.8897  0.8898  0.8898  0.8900  0.8965  0.8961   \n",
              "4    0.8823  ...  0.8888  0.8891  0.8892  0.8893  0.8896  0.8960  0.8955   \n",
              "..      ...  ...     ...     ...     ...     ...     ...     ...     ...   \n",
              "395  0.8903  ...  0.8912  0.8914  0.8915  0.8916  0.8920  0.8981  0.8978   \n",
              "396  0.8904  ...  0.8904  0.8908  0.8912  0.8915  0.8919  0.8978  0.8973   \n",
              "397  0.8901  ...  0.8903  0.8907  0.8910  0.8913  0.8918  0.8972  0.8968   \n",
              "398  0.8904  ...  0.8903  0.8908  0.8911  0.8915  0.8918  0.8969  0.8965   \n",
              "399  0.8904  ...  0.8903  0.8908  0.8911  0.8915  0.8918  0.8969  0.8965   \n",
              "\n",
              "     1402.7  1401.3    1400  \n",
              "0    0.8921  0.8915  0.8908  \n",
              "1    0.8953  0.8947  0.8940  \n",
              "2    0.8956  0.8950  0.8942  \n",
              "3    0.8954  0.8946  0.8936  \n",
              "4    0.8949  0.8943  0.8936  \n",
              "..      ...     ...     ...  \n",
              "395  0.8975  0.8972  0.8969  \n",
              "396  0.8969  0.8965  0.8960  \n",
              "397  0.8963  0.8959  0.8956  \n",
              "398  0.8962  0.8959  0.8955  \n",
              "399  0.8962  0.8959  0.8955  \n",
              "\n",
              "[400 rows x 189 columns]"
            ],
            "text/html": [
              "\n",
              "  <div id=\"df-268321d8-26d6-407a-b289-711c49d6e948\" class=\"colab-df-container\">\n",
              "    <div>\n",
              "<style scoped>\n",
              "    .dataframe tbody tr th:only-of-type {\n",
              "        vertical-align: middle;\n",
              "    }\n",
              "\n",
              "    .dataframe tbody tr th {\n",
              "        vertical-align: top;\n",
              "    }\n",
              "\n",
              "    .dataframe thead th {\n",
              "        text-align: right;\n",
              "    }\n",
              "</style>\n",
              "<table border=\"1\" class=\"dataframe\">\n",
              "  <thead>\n",
              "    <tr style=\"text-align: right;\">\n",
              "      <th></th>\n",
              "      <th>Classes</th>\n",
              "      <th>3000</th>\n",
              "      <th>2999.5</th>\n",
              "      <th>2998.1</th>\n",
              "      <th>2996.7</th>\n",
              "      <th>2995.3</th>\n",
              "      <th>2993.9</th>\n",
              "      <th>2992.4</th>\n",
              "      <th>2991</th>\n",
              "      <th>2989.6</th>\n",
              "      <th>...</th>\n",
              "      <th>1503.3</th>\n",
              "      <th>1501.9</th>\n",
              "      <th>1500.5</th>\n",
              "      <th>1499.1</th>\n",
              "      <th>1497.6</th>\n",
              "      <th>1405.5</th>\n",
              "      <th>1404.1</th>\n",
              "      <th>1402.7</th>\n",
              "      <th>1401.3</th>\n",
              "      <th>1400</th>\n",
              "    </tr>\n",
              "  </thead>\n",
              "  <tbody>\n",
              "    <tr>\n",
              "      <th>0</th>\n",
              "      <td>HC</td>\n",
              "      <td>0.8724</td>\n",
              "      <td>0.8733</td>\n",
              "      <td>0.8742</td>\n",
              "      <td>0.8754</td>\n",
              "      <td>0.8767</td>\n",
              "      <td>0.8780</td>\n",
              "      <td>0.8791</td>\n",
              "      <td>0.8803</td>\n",
              "      <td>0.8816</td>\n",
              "      <td>...</td>\n",
              "      <td>0.8865</td>\n",
              "      <td>0.8869</td>\n",
              "      <td>0.8871</td>\n",
              "      <td>0.8872</td>\n",
              "      <td>0.8875</td>\n",
              "      <td>0.8931</td>\n",
              "      <td>0.8926</td>\n",
              "      <td>0.8921</td>\n",
              "      <td>0.8915</td>\n",
              "      <td>0.8908</td>\n",
              "    </tr>\n",
              "    <tr>\n",
              "      <th>1</th>\n",
              "      <td>HC</td>\n",
              "      <td>0.8730</td>\n",
              "      <td>0.8739</td>\n",
              "      <td>0.8749</td>\n",
              "      <td>0.8760</td>\n",
              "      <td>0.8771</td>\n",
              "      <td>0.8783</td>\n",
              "      <td>0.8795</td>\n",
              "      <td>0.8808</td>\n",
              "      <td>0.8823</td>\n",
              "      <td>...</td>\n",
              "      <td>0.8887</td>\n",
              "      <td>0.8891</td>\n",
              "      <td>0.8893</td>\n",
              "      <td>0.8895</td>\n",
              "      <td>0.8899</td>\n",
              "      <td>0.8963</td>\n",
              "      <td>0.8958</td>\n",
              "      <td>0.8953</td>\n",
              "      <td>0.8947</td>\n",
              "      <td>0.8940</td>\n",
              "    </tr>\n",
              "    <tr>\n",
              "      <th>2</th>\n",
              "      <td>HC</td>\n",
              "      <td>0.8725</td>\n",
              "      <td>0.8736</td>\n",
              "      <td>0.8747</td>\n",
              "      <td>0.8760</td>\n",
              "      <td>0.8773</td>\n",
              "      <td>0.8785</td>\n",
              "      <td>0.8795</td>\n",
              "      <td>0.8807</td>\n",
              "      <td>0.8819</td>\n",
              "      <td>...</td>\n",
              "      <td>0.8889</td>\n",
              "      <td>0.8894</td>\n",
              "      <td>0.8896</td>\n",
              "      <td>0.8898</td>\n",
              "      <td>0.8900</td>\n",
              "      <td>0.8961</td>\n",
              "      <td>0.8959</td>\n",
              "      <td>0.8956</td>\n",
              "      <td>0.8950</td>\n",
              "      <td>0.8942</td>\n",
              "    </tr>\n",
              "    <tr>\n",
              "      <th>3</th>\n",
              "      <td>HC</td>\n",
              "      <td>0.8728</td>\n",
              "      <td>0.8737</td>\n",
              "      <td>0.8747</td>\n",
              "      <td>0.8758</td>\n",
              "      <td>0.8772</td>\n",
              "      <td>0.8786</td>\n",
              "      <td>0.8800</td>\n",
              "      <td>0.8813</td>\n",
              "      <td>0.8826</td>\n",
              "      <td>...</td>\n",
              "      <td>0.8895</td>\n",
              "      <td>0.8897</td>\n",
              "      <td>0.8898</td>\n",
              "      <td>0.8898</td>\n",
              "      <td>0.8900</td>\n",
              "      <td>0.8965</td>\n",
              "      <td>0.8961</td>\n",
              "      <td>0.8954</td>\n",
              "      <td>0.8946</td>\n",
              "      <td>0.8936</td>\n",
              "    </tr>\n",
              "    <tr>\n",
              "      <th>4</th>\n",
              "      <td>HC</td>\n",
              "      <td>0.8729</td>\n",
              "      <td>0.8738</td>\n",
              "      <td>0.8746</td>\n",
              "      <td>0.8757</td>\n",
              "      <td>0.8770</td>\n",
              "      <td>0.8783</td>\n",
              "      <td>0.8797</td>\n",
              "      <td>0.8810</td>\n",
              "      <td>0.8823</td>\n",
              "      <td>...</td>\n",
              "      <td>0.8888</td>\n",
              "      <td>0.8891</td>\n",
              "      <td>0.8892</td>\n",
              "      <td>0.8893</td>\n",
              "      <td>0.8896</td>\n",
              "      <td>0.8960</td>\n",
              "      <td>0.8955</td>\n",
              "      <td>0.8949</td>\n",
              "      <td>0.8943</td>\n",
              "      <td>0.8936</td>\n",
              "    </tr>\n",
              "    <tr>\n",
              "      <th>...</th>\n",
              "      <td>...</td>\n",
              "      <td>...</td>\n",
              "      <td>...</td>\n",
              "      <td>...</td>\n",
              "      <td>...</td>\n",
              "      <td>...</td>\n",
              "      <td>...</td>\n",
              "      <td>...</td>\n",
              "      <td>...</td>\n",
              "      <td>...</td>\n",
              "      <td>...</td>\n",
              "      <td>...</td>\n",
              "      <td>...</td>\n",
              "      <td>...</td>\n",
              "      <td>...</td>\n",
              "      <td>...</td>\n",
              "      <td>...</td>\n",
              "      <td>...</td>\n",
              "      <td>...</td>\n",
              "      <td>...</td>\n",
              "      <td>...</td>\n",
              "    </tr>\n",
              "    <tr>\n",
              "      <th>395</th>\n",
              "      <td>DYS</td>\n",
              "      <td>0.8794</td>\n",
              "      <td>0.8808</td>\n",
              "      <td>0.8821</td>\n",
              "      <td>0.8835</td>\n",
              "      <td>0.8848</td>\n",
              "      <td>0.8861</td>\n",
              "      <td>0.8874</td>\n",
              "      <td>0.8888</td>\n",
              "      <td>0.8903</td>\n",
              "      <td>...</td>\n",
              "      <td>0.8912</td>\n",
              "      <td>0.8914</td>\n",
              "      <td>0.8915</td>\n",
              "      <td>0.8916</td>\n",
              "      <td>0.8920</td>\n",
              "      <td>0.8981</td>\n",
              "      <td>0.8978</td>\n",
              "      <td>0.8975</td>\n",
              "      <td>0.8972</td>\n",
              "      <td>0.8969</td>\n",
              "    </tr>\n",
              "    <tr>\n",
              "      <th>396</th>\n",
              "      <td>DYS</td>\n",
              "      <td>0.8796</td>\n",
              "      <td>0.8808</td>\n",
              "      <td>0.8820</td>\n",
              "      <td>0.8835</td>\n",
              "      <td>0.8851</td>\n",
              "      <td>0.8865</td>\n",
              "      <td>0.8878</td>\n",
              "      <td>0.8891</td>\n",
              "      <td>0.8904</td>\n",
              "      <td>...</td>\n",
              "      <td>0.8904</td>\n",
              "      <td>0.8908</td>\n",
              "      <td>0.8912</td>\n",
              "      <td>0.8915</td>\n",
              "      <td>0.8919</td>\n",
              "      <td>0.8978</td>\n",
              "      <td>0.8973</td>\n",
              "      <td>0.8969</td>\n",
              "      <td>0.8965</td>\n",
              "      <td>0.8960</td>\n",
              "    </tr>\n",
              "    <tr>\n",
              "      <th>397</th>\n",
              "      <td>DYS</td>\n",
              "      <td>0.8797</td>\n",
              "      <td>0.8809</td>\n",
              "      <td>0.8821</td>\n",
              "      <td>0.8836</td>\n",
              "      <td>0.8849</td>\n",
              "      <td>0.8861</td>\n",
              "      <td>0.8873</td>\n",
              "      <td>0.8886</td>\n",
              "      <td>0.8901</td>\n",
              "      <td>...</td>\n",
              "      <td>0.8903</td>\n",
              "      <td>0.8907</td>\n",
              "      <td>0.8910</td>\n",
              "      <td>0.8913</td>\n",
              "      <td>0.8918</td>\n",
              "      <td>0.8972</td>\n",
              "      <td>0.8968</td>\n",
              "      <td>0.8963</td>\n",
              "      <td>0.8959</td>\n",
              "      <td>0.8956</td>\n",
              "    </tr>\n",
              "    <tr>\n",
              "      <th>398</th>\n",
              "      <td>DYS</td>\n",
              "      <td>0.8799</td>\n",
              "      <td>0.8812</td>\n",
              "      <td>0.8825</td>\n",
              "      <td>0.8839</td>\n",
              "      <td>0.8852</td>\n",
              "      <td>0.8864</td>\n",
              "      <td>0.8876</td>\n",
              "      <td>0.8889</td>\n",
              "      <td>0.8904</td>\n",
              "      <td>...</td>\n",
              "      <td>0.8903</td>\n",
              "      <td>0.8908</td>\n",
              "      <td>0.8911</td>\n",
              "      <td>0.8915</td>\n",
              "      <td>0.8918</td>\n",
              "      <td>0.8969</td>\n",
              "      <td>0.8965</td>\n",
              "      <td>0.8962</td>\n",
              "      <td>0.8959</td>\n",
              "      <td>0.8955</td>\n",
              "    </tr>\n",
              "    <tr>\n",
              "      <th>399</th>\n",
              "      <td>DYS</td>\n",
              "      <td>0.8799</td>\n",
              "      <td>0.8812</td>\n",
              "      <td>0.8825</td>\n",
              "      <td>0.8839</td>\n",
              "      <td>0.8852</td>\n",
              "      <td>0.8864</td>\n",
              "      <td>0.8876</td>\n",
              "      <td>0.8889</td>\n",
              "      <td>0.8904</td>\n",
              "      <td>...</td>\n",
              "      <td>0.8903</td>\n",
              "      <td>0.8908</td>\n",
              "      <td>0.8911</td>\n",
              "      <td>0.8915</td>\n",
              "      <td>0.8918</td>\n",
              "      <td>0.8969</td>\n",
              "      <td>0.8965</td>\n",
              "      <td>0.8962</td>\n",
              "      <td>0.8959</td>\n",
              "      <td>0.8955</td>\n",
              "    </tr>\n",
              "  </tbody>\n",
              "</table>\n",
              "<p>400 rows × 189 columns</p>\n",
              "</div>\n",
              "    <div class=\"colab-df-buttons\">\n",
              "\n",
              "  <div class=\"colab-df-container\">\n",
              "    <button class=\"colab-df-convert\" onclick=\"convertToInteractive('df-268321d8-26d6-407a-b289-711c49d6e948')\"\n",
              "            title=\"Convert this dataframe to an interactive table.\"\n",
              "            style=\"display:none;\">\n",
              "\n",
              "  <svg xmlns=\"http://www.w3.org/2000/svg\" height=\"24px\" viewBox=\"0 -960 960 960\">\n",
              "    <path d=\"M120-120v-720h720v720H120Zm60-500h600v-160H180v160Zm220 220h160v-160H400v160Zm0 220h160v-160H400v160ZM180-400h160v-160H180v160Zm440 0h160v-160H620v160ZM180-180h160v-160H180v160Zm440 0h160v-160H620v160Z\"/>\n",
              "  </svg>\n",
              "    </button>\n",
              "\n",
              "  <style>\n",
              "    .colab-df-container {\n",
              "      display:flex;\n",
              "      gap: 12px;\n",
              "    }\n",
              "\n",
              "    .colab-df-convert {\n",
              "      background-color: #E8F0FE;\n",
              "      border: none;\n",
              "      border-radius: 50%;\n",
              "      cursor: pointer;\n",
              "      display: none;\n",
              "      fill: #1967D2;\n",
              "      height: 32px;\n",
              "      padding: 0 0 0 0;\n",
              "      width: 32px;\n",
              "    }\n",
              "\n",
              "    .colab-df-convert:hover {\n",
              "      background-color: #E2EBFA;\n",
              "      box-shadow: 0px 1px 2px rgba(60, 64, 67, 0.3), 0px 1px 3px 1px rgba(60, 64, 67, 0.15);\n",
              "      fill: #174EA6;\n",
              "    }\n",
              "\n",
              "    .colab-df-buttons div {\n",
              "      margin-bottom: 4px;\n",
              "    }\n",
              "\n",
              "    [theme=dark] .colab-df-convert {\n",
              "      background-color: #3B4455;\n",
              "      fill: #D2E3FC;\n",
              "    }\n",
              "\n",
              "    [theme=dark] .colab-df-convert:hover {\n",
              "      background-color: #434B5C;\n",
              "      box-shadow: 0px 1px 3px 1px rgba(0, 0, 0, 0.15);\n",
              "      filter: drop-shadow(0px 1px 2px rgba(0, 0, 0, 0.3));\n",
              "      fill: #FFFFFF;\n",
              "    }\n",
              "  </style>\n",
              "\n",
              "    <script>\n",
              "      const buttonEl =\n",
              "        document.querySelector('#df-268321d8-26d6-407a-b289-711c49d6e948 button.colab-df-convert');\n",
              "      buttonEl.style.display =\n",
              "        google.colab.kernel.accessAllowed ? 'block' : 'none';\n",
              "\n",
              "      async function convertToInteractive(key) {\n",
              "        const element = document.querySelector('#df-268321d8-26d6-407a-b289-711c49d6e948');\n",
              "        const dataTable =\n",
              "          await google.colab.kernel.invokeFunction('convertToInteractive',\n",
              "                                                    [key], {});\n",
              "        if (!dataTable) return;\n",
              "\n",
              "        const docLinkHtml = 'Like what you see? Visit the ' +\n",
              "          '<a target=\"_blank\" href=https://colab.research.google.com/notebooks/data_table.ipynb>data table notebook</a>'\n",
              "          + ' to learn more about interactive tables.';\n",
              "        element.innerHTML = '';\n",
              "        dataTable['output_type'] = 'display_data';\n",
              "        await google.colab.output.renderOutput(dataTable, element);\n",
              "        const docLink = document.createElement('div');\n",
              "        docLink.innerHTML = docLinkHtml;\n",
              "        element.appendChild(docLink);\n",
              "      }\n",
              "    </script>\n",
              "  </div>\n",
              "\n",
              "\n",
              "<div id=\"df-496a9382-fcd8-48f0-9605-5ac943e521ef\">\n",
              "  <button class=\"colab-df-quickchart\" onclick=\"quickchart('df-496a9382-fcd8-48f0-9605-5ac943e521ef')\"\n",
              "            title=\"Suggest charts\"\n",
              "            style=\"display:none;\">\n",
              "\n",
              "<svg xmlns=\"http://www.w3.org/2000/svg\" height=\"24px\"viewBox=\"0 0 24 24\"\n",
              "     width=\"24px\">\n",
              "    <g>\n",
              "        <path d=\"M19 3H5c-1.1 0-2 .9-2 2v14c0 1.1.9 2 2 2h14c1.1 0 2-.9 2-2V5c0-1.1-.9-2-2-2zM9 17H7v-7h2v7zm4 0h-2V7h2v10zm4 0h-2v-4h2v4z\"/>\n",
              "    </g>\n",
              "</svg>\n",
              "  </button>\n",
              "\n",
              "<style>\n",
              "  .colab-df-quickchart {\n",
              "      --bg-color: #E8F0FE;\n",
              "      --fill-color: #1967D2;\n",
              "      --hover-bg-color: #E2EBFA;\n",
              "      --hover-fill-color: #174EA6;\n",
              "      --disabled-fill-color: #AAA;\n",
              "      --disabled-bg-color: #DDD;\n",
              "  }\n",
              "\n",
              "  [theme=dark] .colab-df-quickchart {\n",
              "      --bg-color: #3B4455;\n",
              "      --fill-color: #D2E3FC;\n",
              "      --hover-bg-color: #434B5C;\n",
              "      --hover-fill-color: #FFFFFF;\n",
              "      --disabled-bg-color: #3B4455;\n",
              "      --disabled-fill-color: #666;\n",
              "  }\n",
              "\n",
              "  .colab-df-quickchart {\n",
              "    background-color: var(--bg-color);\n",
              "    border: none;\n",
              "    border-radius: 50%;\n",
              "    cursor: pointer;\n",
              "    display: none;\n",
              "    fill: var(--fill-color);\n",
              "    height: 32px;\n",
              "    padding: 0;\n",
              "    width: 32px;\n",
              "  }\n",
              "\n",
              "  .colab-df-quickchart:hover {\n",
              "    background-color: var(--hover-bg-color);\n",
              "    box-shadow: 0 1px 2px rgba(60, 64, 67, 0.3), 0 1px 3px 1px rgba(60, 64, 67, 0.15);\n",
              "    fill: var(--button-hover-fill-color);\n",
              "  }\n",
              "\n",
              "  .colab-df-quickchart-complete:disabled,\n",
              "  .colab-df-quickchart-complete:disabled:hover {\n",
              "    background-color: var(--disabled-bg-color);\n",
              "    fill: var(--disabled-fill-color);\n",
              "    box-shadow: none;\n",
              "  }\n",
              "\n",
              "  .colab-df-spinner {\n",
              "    border: 2px solid var(--fill-color);\n",
              "    border-color: transparent;\n",
              "    border-bottom-color: var(--fill-color);\n",
              "    animation:\n",
              "      spin 1s steps(1) infinite;\n",
              "  }\n",
              "\n",
              "  @keyframes spin {\n",
              "    0% {\n",
              "      border-color: transparent;\n",
              "      border-bottom-color: var(--fill-color);\n",
              "      border-left-color: var(--fill-color);\n",
              "    }\n",
              "    20% {\n",
              "      border-color: transparent;\n",
              "      border-left-color: var(--fill-color);\n",
              "      border-top-color: var(--fill-color);\n",
              "    }\n",
              "    30% {\n",
              "      border-color: transparent;\n",
              "      border-left-color: var(--fill-color);\n",
              "      border-top-color: var(--fill-color);\n",
              "      border-right-color: var(--fill-color);\n",
              "    }\n",
              "    40% {\n",
              "      border-color: transparent;\n",
              "      border-right-color: var(--fill-color);\n",
              "      border-top-color: var(--fill-color);\n",
              "    }\n",
              "    60% {\n",
              "      border-color: transparent;\n",
              "      border-right-color: var(--fill-color);\n",
              "    }\n",
              "    80% {\n",
              "      border-color: transparent;\n",
              "      border-right-color: var(--fill-color);\n",
              "      border-bottom-color: var(--fill-color);\n",
              "    }\n",
              "    90% {\n",
              "      border-color: transparent;\n",
              "      border-bottom-color: var(--fill-color);\n",
              "    }\n",
              "  }\n",
              "</style>\n",
              "\n",
              "  <script>\n",
              "    async function quickchart(key) {\n",
              "      const quickchartButtonEl =\n",
              "        document.querySelector('#' + key + ' button');\n",
              "      quickchartButtonEl.disabled = true;  // To prevent multiple clicks.\n",
              "      quickchartButtonEl.classList.add('colab-df-spinner');\n",
              "      try {\n",
              "        const charts = await google.colab.kernel.invokeFunction(\n",
              "            'suggestCharts', [key], {});\n",
              "      } catch (error) {\n",
              "        console.error('Error during call to suggestCharts:', error);\n",
              "      }\n",
              "      quickchartButtonEl.classList.remove('colab-df-spinner');\n",
              "      quickchartButtonEl.classList.add('colab-df-quickchart-complete');\n",
              "    }\n",
              "    (() => {\n",
              "      let quickchartButtonEl =\n",
              "        document.querySelector('#df-496a9382-fcd8-48f0-9605-5ac943e521ef button');\n",
              "      quickchartButtonEl.style.display =\n",
              "        google.colab.kernel.accessAllowed ? 'block' : 'none';\n",
              "    })();\n",
              "  </script>\n",
              "</div>\n",
              "\n",
              "  <div id=\"id_35e425ae-a51c-48ec-882c-7e86a1ec3e60\">\n",
              "    <style>\n",
              "      .colab-df-generate {\n",
              "        background-color: #E8F0FE;\n",
              "        border: none;\n",
              "        border-radius: 50%;\n",
              "        cursor: pointer;\n",
              "        display: none;\n",
              "        fill: #1967D2;\n",
              "        height: 32px;\n",
              "        padding: 0 0 0 0;\n",
              "        width: 32px;\n",
              "      }\n",
              "\n",
              "      .colab-df-generate:hover {\n",
              "        background-color: #E2EBFA;\n",
              "        box-shadow: 0px 1px 2px rgba(60, 64, 67, 0.3), 0px 1px 3px 1px rgba(60, 64, 67, 0.15);\n",
              "        fill: #174EA6;\n",
              "      }\n",
              "\n",
              "      [theme=dark] .colab-df-generate {\n",
              "        background-color: #3B4455;\n",
              "        fill: #D2E3FC;\n",
              "      }\n",
              "\n",
              "      [theme=dark] .colab-df-generate:hover {\n",
              "        background-color: #434B5C;\n",
              "        box-shadow: 0px 1px 3px 1px rgba(0, 0, 0, 0.15);\n",
              "        filter: drop-shadow(0px 1px 2px rgba(0, 0, 0, 0.3));\n",
              "        fill: #FFFFFF;\n",
              "      }\n",
              "    </style>\n",
              "    <button class=\"colab-df-generate\" onclick=\"generateWithVariable('df1')\"\n",
              "            title=\"Generate code using this dataframe.\"\n",
              "            style=\"display:none;\">\n",
              "\n",
              "  <svg xmlns=\"http://www.w3.org/2000/svg\" height=\"24px\"viewBox=\"0 0 24 24\"\n",
              "       width=\"24px\">\n",
              "    <path d=\"M7,19H8.4L18.45,9,17,7.55,7,17.6ZM5,21V16.75L18.45,3.32a2,2,0,0,1,2.83,0l1.4,1.43a1.91,1.91,0,0,1,.58,1.4,1.91,1.91,0,0,1-.58,1.4L9.25,21ZM18.45,9,17,7.55Zm-12,3A5.31,5.31,0,0,0,4.9,8.1,5.31,5.31,0,0,0,1,6.5,5.31,5.31,0,0,0,4.9,4.9,5.31,5.31,0,0,0,6.5,1,5.31,5.31,0,0,0,8.1,4.9,5.31,5.31,0,0,0,12,6.5,5.46,5.46,0,0,0,6.5,12Z\"/>\n",
              "  </svg>\n",
              "    </button>\n",
              "    <script>\n",
              "      (() => {\n",
              "      const buttonEl =\n",
              "        document.querySelector('#id_35e425ae-a51c-48ec-882c-7e86a1ec3e60 button.colab-df-generate');\n",
              "      buttonEl.style.display =\n",
              "        google.colab.kernel.accessAllowed ? 'block' : 'none';\n",
              "\n",
              "      buttonEl.onclick = () => {\n",
              "        google.colab.notebook.generateWithVariable('df1');\n",
              "      }\n",
              "      })();\n",
              "    </script>\n",
              "  </div>\n",
              "\n",
              "    </div>\n",
              "  </div>\n"
            ]
          },
          "metadata": {}
        }
      ],
      "source": [
        "# Step 2: Import the Pandas library to help manipulate the database\n",
        "import pandas as pd\n",
        "df1 = pd.read_excel(\"VIPs_PLS-DA.xlsx\")\n",
        "display (df1)"
      ],
      "id": "Y4YeHICemuoc"
    },
    {
      "cell_type": "markdown",
      "source": [
        "# # Step 3: Installing the Pycaret library (helps to perform Auto-Machine Learn)\n"
      ],
      "metadata": {
        "id": "PUOvV4-1ngZ3"
      },
      "id": "PUOvV4-1ngZ3"
    },
    {
      "cell_type": "code",
      "execution_count": null,
      "metadata": {
        "id": "5U1Mqbfvsp2w",
        "colab": {
          "base_uri": "https://localhost:8080/",
          "height": 1000
        },
        "outputId": "359d0317-760b-4624-b828-790e3ddefc9e"
      },
      "outputs": [
        {
          "output_type": "stream",
          "name": "stdout",
          "text": [
            "Collecting pycaret\n",
            "  Downloading pycaret-3.2.0-py3-none-any.whl (484 kB)\n",
            "\u001b[2K     \u001b[90m━━━━━━━━━━━━━━━━━━━━━━━━━━━━━━━━━━━━━━━━\u001b[0m \u001b[32m484.7/484.7 kB\u001b[0m \u001b[31m6.9 MB/s\u001b[0m eta \u001b[36m0:00:00\u001b[0m\n",
            "\u001b[?25hCollecting category-encoders>=2.4.0 (from pycaret)\n",
            "  Downloading category_encoders-2.6.3-py2.py3-none-any.whl (81 kB)\n",
            "\u001b[2K     \u001b[90m━━━━━━━━━━━━━━━━━━━━━━━━━━━━━━━━━━━━━━━━\u001b[0m \u001b[32m81.9/81.9 kB\u001b[0m \u001b[31m10.9 MB/s\u001b[0m eta \u001b[36m0:00:00\u001b[0m\n",
            "\u001b[?25hRequirement already satisfied: cloudpickle in /usr/local/lib/python3.10/dist-packages (from pycaret) (2.2.1)\n",
            "Collecting deprecation>=2.1.0 (from pycaret)\n",
            "  Downloading deprecation-2.1.0-py2.py3-none-any.whl (11 kB)\n",
            "Requirement already satisfied: imbalanced-learn>=0.8.1 in /usr/local/lib/python3.10/dist-packages (from pycaret) (0.10.1)\n",
            "Requirement already satisfied: importlib-metadata>=4.12.0 in /usr/local/lib/python3.10/dist-packages (from pycaret) (7.0.1)\n",
            "Requirement already satisfied: ipython>=5.5.0 in /usr/local/lib/python3.10/dist-packages (from pycaret) (7.34.0)\n",
            "Requirement already satisfied: ipywidgets>=7.6.5 in /usr/local/lib/python3.10/dist-packages (from pycaret) (7.7.1)\n",
            "Requirement already satisfied: jinja2>=1.2 in /usr/local/lib/python3.10/dist-packages (from pycaret) (3.1.3)\n",
            "Requirement already satisfied: joblib>=1.2.0 in /usr/local/lib/python3.10/dist-packages (from pycaret) (1.3.2)\n",
            "Collecting kaleido>=0.2.1 (from pycaret)\n",
            "  Downloading kaleido-0.2.1-py2.py3-none-manylinux1_x86_64.whl (79.9 MB)\n",
            "\u001b[2K     \u001b[90m━━━━━━━━━━━━━━━━━━━━━━━━━━━━━━━━━━━━━━━━\u001b[0m \u001b[32m79.9/79.9 MB\u001b[0m \u001b[31m19.5 MB/s\u001b[0m eta \u001b[36m0:00:00\u001b[0m\n",
            "\u001b[?25hRequirement already satisfied: lightgbm>=3.0.0 in /usr/local/lib/python3.10/dist-packages (from pycaret) (4.1.0)\n",
            "Requirement already satisfied: markupsafe>=2.0.1 in /usr/local/lib/python3.10/dist-packages (from pycaret) (2.1.5)\n",
            "Collecting matplotlib<=3.6,>=3.3.0 (from pycaret)\n",
            "  Downloading matplotlib-3.6.0-cp310-cp310-manylinux_2_17_x86_64.manylinux2014_x86_64.whl (11.8 MB)\n",
            "\u001b[2K     \u001b[90m━━━━━━━━━━━━━━━━━━━━━━━━━━━━━━━━━━━━━━━━\u001b[0m \u001b[32m11.8/11.8 MB\u001b[0m \u001b[31m63.1 MB/s\u001b[0m eta \u001b[36m0:00:00\u001b[0m\n",
            "\u001b[?25hRequirement already satisfied: nbformat>=4.2.0 in /usr/local/lib/python3.10/dist-packages (from pycaret) (5.9.2)\n",
            "Requirement already satisfied: numba>=0.55.0 in /usr/local/lib/python3.10/dist-packages (from pycaret) (0.58.1)\n",
            "Requirement already satisfied: numpy<1.27,>=1.21 in /usr/local/lib/python3.10/dist-packages (from pycaret) (1.23.5)\n",
            "Requirement already satisfied: pandas<2.0.0,>=1.3.0 in /usr/local/lib/python3.10/dist-packages (from pycaret) (1.5.3)\n",
            "Collecting plotly-resampler>=0.8.3.1 (from pycaret)\n",
            "  Downloading plotly_resampler-0.9.2-py3-none-any.whl (81 kB)\n",
            "\u001b[2K     \u001b[90m━━━━━━━━━━━━━━━━━━━━━━━━━━━━━━━━━━━━━━━━\u001b[0m \u001b[32m81.1/81.1 kB\u001b[0m \u001b[31m11.0 MB/s\u001b[0m eta \u001b[36m0:00:00\u001b[0m\n",
            "\u001b[?25hRequirement already satisfied: plotly>=5.0.0 in /usr/local/lib/python3.10/dist-packages (from pycaret) (5.15.0)\n",
            "Collecting pmdarima!=1.8.1,<3.0.0,>=1.8.0 (from pycaret)\n",
            "  Downloading pmdarima-2.0.4-cp310-cp310-manylinux_2_17_x86_64.manylinux2014_x86_64.manylinux_2_28_x86_64.whl (2.1 MB)\n",
            "\u001b[2K     \u001b[90m━━━━━━━━━━━━━━━━━━━━━━━━━━━━━━━━━━━━━━━━\u001b[0m \u001b[32m2.1/2.1 MB\u001b[0m \u001b[31m82.1 MB/s\u001b[0m eta \u001b[36m0:00:00\u001b[0m\n",
            "\u001b[?25hRequirement already satisfied: psutil>=5.9.0 in /usr/local/lib/python3.10/dist-packages (from pycaret) (5.9.5)\n",
            "Collecting pyod>=1.0.8 (from pycaret)\n",
            "  Downloading pyod-1.1.3.tar.gz (160 kB)\n",
            "\u001b[2K     \u001b[90m━━━━━━━━━━━━━━━━━━━━━━━━━━━━━━━━━━━━━━━━\u001b[0m \u001b[32m160.5/160.5 kB\u001b[0m \u001b[31m20.3 MB/s\u001b[0m eta \u001b[36m0:00:00\u001b[0m\n",
            "\u001b[?25h  Preparing metadata (setup.py) ... \u001b[?25l\u001b[?25hdone\n",
            "Requirement already satisfied: requests>=2.27.1 in /usr/local/lib/python3.10/dist-packages (from pycaret) (2.31.0)\n",
            "Collecting schemdraw==0.15 (from pycaret)\n",
            "  Downloading schemdraw-0.15-py3-none-any.whl (106 kB)\n",
            "\u001b[2K     \u001b[90m━━━━━━━━━━━━━━━━━━━━━━━━━━━━━━━━━━━━━━━━\u001b[0m \u001b[32m106.8/106.8 kB\u001b[0m \u001b[31m14.4 MB/s\u001b[0m eta \u001b[36m0:00:00\u001b[0m\n",
            "\u001b[?25hRequirement already satisfied: scikit-learn<1.3.0,>=1.0 in /usr/local/lib/python3.10/dist-packages (from pycaret) (1.2.2)\n",
            "Collecting scikit-plot>=0.3.7 (from pycaret)\n",
            "  Downloading scikit_plot-0.3.7-py3-none-any.whl (33 kB)\n",
            "Collecting scipy~=1.10.1 (from pycaret)\n",
            "  Downloading scipy-1.10.1-cp310-cp310-manylinux_2_17_x86_64.manylinux2014_x86_64.whl (34.4 MB)\n",
            "\u001b[2K     \u001b[90m━━━━━━━━━━━━━━━━━━━━━━━━━━━━━━━━━━━━━━━━\u001b[0m \u001b[32m34.4/34.4 MB\u001b[0m \u001b[31m38.4 MB/s\u001b[0m eta \u001b[36m0:00:00\u001b[0m\n",
            "\u001b[?25hCollecting sktime!=0.17.1,!=0.17.2,!=0.18.0,<0.22.0,>=0.16.1 (from pycaret)\n",
            "  Downloading sktime-0.21.1-py3-none-any.whl (17.1 MB)\n",
            "\u001b[2K     \u001b[90m━━━━━━━━━━━━━━━━━━━━━━━━━━━━━━━━━━━━━━━━\u001b[0m \u001b[32m17.1/17.1 MB\u001b[0m \u001b[31m64.5 MB/s\u001b[0m eta \u001b[36m0:00:00\u001b[0m\n",
            "\u001b[?25hRequirement already satisfied: statsmodels>=0.12.1 in /usr/local/lib/python3.10/dist-packages (from pycaret) (0.14.1)\n",
            "Collecting tbats>=1.1.3 (from pycaret)\n",
            "  Downloading tbats-1.1.3-py3-none-any.whl (44 kB)\n",
            "\u001b[2K     \u001b[90m━━━━━━━━━━━━━━━━━━━━━━━━━━━━━━━━━━━━━━━━\u001b[0m \u001b[32m44.0/44.0 kB\u001b[0m \u001b[31m6.0 MB/s\u001b[0m eta \u001b[36m0:00:00\u001b[0m\n",
            "\u001b[?25hRequirement already satisfied: tqdm>=4.62.0 in /usr/local/lib/python3.10/dist-packages (from pycaret) (4.66.1)\n",
            "Requirement already satisfied: xxhash in /usr/local/lib/python3.10/dist-packages (from pycaret) (3.4.1)\n",
            "Requirement already satisfied: yellowbrick>=1.4 in /usr/local/lib/python3.10/dist-packages (from pycaret) (1.5)\n",
            "Collecting wurlitzer (from pycaret)\n",
            "  Downloading wurlitzer-3.0.3-py3-none-any.whl (7.3 kB)\n",
            "Requirement already satisfied: patsy>=0.5.1 in /usr/local/lib/python3.10/dist-packages (from category-encoders>=2.4.0->pycaret) (0.5.6)\n",
            "Requirement already satisfied: packaging in /usr/local/lib/python3.10/dist-packages (from deprecation>=2.1.0->pycaret) (23.2)\n",
            "Requirement already satisfied: threadpoolctl>=2.0.0 in /usr/local/lib/python3.10/dist-packages (from imbalanced-learn>=0.8.1->pycaret) (3.2.0)\n",
            "Requirement already satisfied: zipp>=0.5 in /usr/local/lib/python3.10/dist-packages (from importlib-metadata>=4.12.0->pycaret) (3.17.0)\n",
            "Requirement already satisfied: setuptools>=18.5 in /usr/local/lib/python3.10/dist-packages (from ipython>=5.5.0->pycaret) (67.7.2)\n",
            "Collecting jedi>=0.16 (from ipython>=5.5.0->pycaret)\n",
            "  Downloading jedi-0.19.1-py2.py3-none-any.whl (1.6 MB)\n",
            "\u001b[2K     \u001b[90m━━━━━━━━━━━━━━━━━━━━━━━━━━━━━━━━━━━━━━━━\u001b[0m \u001b[32m1.6/1.6 MB\u001b[0m \u001b[31m77.8 MB/s\u001b[0m eta \u001b[36m0:00:00\u001b[0m\n",
            "\u001b[?25hRequirement already satisfied: decorator in /usr/local/lib/python3.10/dist-packages (from ipython>=5.5.0->pycaret) (4.4.2)\n",
            "Requirement already satisfied: pickleshare in /usr/local/lib/python3.10/dist-packages (from ipython>=5.5.0->pycaret) (0.7.5)\n",
            "Requirement already satisfied: traitlets>=4.2 in /usr/local/lib/python3.10/dist-packages (from ipython>=5.5.0->pycaret) (5.7.1)\n",
            "Requirement already satisfied: prompt-toolkit!=3.0.0,!=3.0.1,<3.1.0,>=2.0.0 in /usr/local/lib/python3.10/dist-packages (from ipython>=5.5.0->pycaret) (3.0.43)\n",
            "Requirement already satisfied: pygments in /usr/local/lib/python3.10/dist-packages (from ipython>=5.5.0->pycaret) (2.16.1)\n",
            "Requirement already satisfied: backcall in /usr/local/lib/python3.10/dist-packages (from ipython>=5.5.0->pycaret) (0.2.0)\n",
            "Requirement already satisfied: matplotlib-inline in /usr/local/lib/python3.10/dist-packages (from ipython>=5.5.0->pycaret) (0.1.6)\n",
            "Requirement already satisfied: pexpect>4.3 in /usr/local/lib/python3.10/dist-packages (from ipython>=5.5.0->pycaret) (4.9.0)\n",
            "Requirement already satisfied: ipykernel>=4.5.1 in /usr/local/lib/python3.10/dist-packages (from ipywidgets>=7.6.5->pycaret) (5.5.6)\n",
            "Requirement already satisfied: ipython-genutils~=0.2.0 in /usr/local/lib/python3.10/dist-packages (from ipywidgets>=7.6.5->pycaret) (0.2.0)\n",
            "Requirement already satisfied: widgetsnbextension~=3.6.0 in /usr/local/lib/python3.10/dist-packages (from ipywidgets>=7.6.5->pycaret) (3.6.6)\n",
            "Requirement already satisfied: jupyterlab-widgets>=1.0.0 in /usr/local/lib/python3.10/dist-packages (from ipywidgets>=7.6.5->pycaret) (3.0.9)\n",
            "Requirement already satisfied: contourpy>=1.0.1 in /usr/local/lib/python3.10/dist-packages (from matplotlib<=3.6,>=3.3.0->pycaret) (1.2.0)\n",
            "Requirement already satisfied: cycler>=0.10 in /usr/local/lib/python3.10/dist-packages (from matplotlib<=3.6,>=3.3.0->pycaret) (0.12.1)\n",
            "Requirement already satisfied: fonttools>=4.22.0 in /usr/local/lib/python3.10/dist-packages (from matplotlib<=3.6,>=3.3.0->pycaret) (4.48.1)\n",
            "Requirement already satisfied: kiwisolver>=1.0.1 in /usr/local/lib/python3.10/dist-packages (from matplotlib<=3.6,>=3.3.0->pycaret) (1.4.5)\n",
            "Requirement already satisfied: pillow>=6.2.0 in /usr/local/lib/python3.10/dist-packages (from matplotlib<=3.6,>=3.3.0->pycaret) (9.4.0)\n",
            "Requirement already satisfied: pyparsing>=2.2.1 in /usr/local/lib/python3.10/dist-packages (from matplotlib<=3.6,>=3.3.0->pycaret) (3.1.1)\n",
            "Requirement already satisfied: python-dateutil>=2.7 in /usr/local/lib/python3.10/dist-packages (from matplotlib<=3.6,>=3.3.0->pycaret) (2.8.2)\n",
            "Requirement already satisfied: fastjsonschema in /usr/local/lib/python3.10/dist-packages (from nbformat>=4.2.0->pycaret) (2.19.1)\n",
            "Requirement already satisfied: jsonschema>=2.6 in /usr/local/lib/python3.10/dist-packages (from nbformat>=4.2.0->pycaret) (4.19.2)\n",
            "Requirement already satisfied: jupyter-core in /usr/local/lib/python3.10/dist-packages (from nbformat>=4.2.0->pycaret) (5.7.1)\n",
            "Requirement already satisfied: llvmlite<0.42,>=0.41.0dev0 in /usr/local/lib/python3.10/dist-packages (from numba>=0.55.0->pycaret) (0.41.1)\n",
            "Requirement already satisfied: pytz>=2020.1 in /usr/local/lib/python3.10/dist-packages (from pandas<2.0.0,>=1.3.0->pycaret) (2023.4)\n",
            "Requirement already satisfied: tenacity>=6.2.0 in /usr/local/lib/python3.10/dist-packages (from plotly>=5.0.0->pycaret) (8.2.3)\n",
            "Collecting dash>=2.9.0 (from plotly-resampler>=0.8.3.1->pycaret)\n",
            "  Downloading dash-2.15.0-py3-none-any.whl (10.2 MB)\n",
            "\u001b[2K     \u001b[90m━━━━━━━━━━━━━━━━━━━━━━━━━━━━━━━━━━━━━━━━\u001b[0m \u001b[32m10.2/10.2 MB\u001b[0m \u001b[31m89.1 MB/s\u001b[0m eta \u001b[36m0:00:00\u001b[0m\n",
            "\u001b[?25hCollecting orjson<4.0.0,>=3.8.0 (from plotly-resampler>=0.8.3.1->pycaret)\n",
            "  Downloading orjson-3.9.13-cp310-cp310-manylinux_2_17_x86_64.manylinux2014_x86_64.whl (138 kB)\n",
            "\u001b[2K     \u001b[90m━━━━━━━━━━━━━━━━━━━━━━━━━━━━━━━━━━━━━━━━\u001b[0m \u001b[32m138.7/138.7 kB\u001b[0m \u001b[31m17.2 MB/s\u001b[0m eta \u001b[36m0:00:00\u001b[0m\n",
            "\u001b[?25hCollecting tsdownsample==0.1.2 (from plotly-resampler>=0.8.3.1->pycaret)\n",
            "  Downloading tsdownsample-0.1.2-cp310-cp310-manylinux_2_17_x86_64.manylinux2014_x86_64.whl (2.3 MB)\n",
            "\u001b[2K     \u001b[90m━━━━━━━━━━━━━━━━━━━━━━━━━━━━━━━━━━━━━━━━\u001b[0m \u001b[32m2.3/2.3 MB\u001b[0m \u001b[31m74.1 MB/s\u001b[0m eta \u001b[36m0:00:00\u001b[0m\n",
            "\u001b[?25hRequirement already satisfied: Cython!=0.29.18,!=0.29.31,>=0.29 in /usr/local/lib/python3.10/dist-packages (from pmdarima!=1.8.1,<3.0.0,>=1.8.0->pycaret) (3.0.8)\n",
            "Requirement already satisfied: urllib3 in /usr/local/lib/python3.10/dist-packages (from pmdarima!=1.8.1,<3.0.0,>=1.8.0->pycaret) (2.0.7)\n",
            "Requirement already satisfied: six in /usr/local/lib/python3.10/dist-packages (from pyod>=1.0.8->pycaret) (1.16.0)\n",
            "Requirement already satisfied: charset-normalizer<4,>=2 in /usr/local/lib/python3.10/dist-packages (from requests>=2.27.1->pycaret) (3.3.2)\n",
            "Requirement already satisfied: idna<4,>=2.5 in /usr/local/lib/python3.10/dist-packages (from requests>=2.27.1->pycaret) (3.6)\n",
            "Requirement already satisfied: certifi>=2017.4.17 in /usr/local/lib/python3.10/dist-packages (from requests>=2.27.1->pycaret) (2024.2.2)\n",
            "Collecting deprecated>=1.2.13 (from sktime!=0.17.1,!=0.17.2,!=0.18.0,<0.22.0,>=0.16.1->pycaret)\n",
            "  Downloading Deprecated-1.2.14-py2.py3-none-any.whl (9.6 kB)\n",
            "Collecting scikit-base<0.6.0 (from sktime!=0.17.1,!=0.17.2,!=0.18.0,<0.22.0,>=0.16.1->pycaret)\n",
            "  Downloading scikit_base-0.5.2-py3-none-any.whl (118 kB)\n",
            "\u001b[2K     \u001b[90m━━━━━━━━━━━━━━━━━━━━━━━━━━━━━━━━━━━━━━━━\u001b[0m \u001b[32m119.0/119.0 kB\u001b[0m \u001b[31m15.5 MB/s\u001b[0m eta \u001b[36m0:00:00\u001b[0m\n",
            "\u001b[?25hRequirement already satisfied: Flask<3.1,>=1.0.4 in /usr/local/lib/python3.10/dist-packages (from dash>=2.9.0->plotly-resampler>=0.8.3.1->pycaret) (2.2.5)\n",
            "Requirement already satisfied: Werkzeug<3.1 in /usr/local/lib/python3.10/dist-packages (from dash>=2.9.0->plotly-resampler>=0.8.3.1->pycaret) (3.0.1)\n",
            "Collecting dash-html-components==2.0.0 (from dash>=2.9.0->plotly-resampler>=0.8.3.1->pycaret)\n",
            "  Downloading dash_html_components-2.0.0-py3-none-any.whl (4.1 kB)\n",
            "Collecting dash-core-components==2.0.0 (from dash>=2.9.0->plotly-resampler>=0.8.3.1->pycaret)\n",
            "  Downloading dash_core_components-2.0.0-py3-none-any.whl (3.8 kB)\n",
            "Collecting dash-table==5.0.0 (from dash>=2.9.0->plotly-resampler>=0.8.3.1->pycaret)\n",
            "  Downloading dash_table-5.0.0-py3-none-any.whl (3.9 kB)\n",
            "Requirement already satisfied: typing-extensions>=4.1.1 in /usr/local/lib/python3.10/dist-packages (from dash>=2.9.0->plotly-resampler>=0.8.3.1->pycaret) (4.9.0)\n",
            "Collecting retrying (from dash>=2.9.0->plotly-resampler>=0.8.3.1->pycaret)\n",
            "  Downloading retrying-1.3.4-py3-none-any.whl (11 kB)\n",
            "Requirement already satisfied: nest-asyncio in /usr/local/lib/python3.10/dist-packages (from dash>=2.9.0->plotly-resampler>=0.8.3.1->pycaret) (1.6.0)\n",
            "Requirement already satisfied: wrapt<2,>=1.10 in /usr/local/lib/python3.10/dist-packages (from deprecated>=1.2.13->sktime!=0.17.1,!=0.17.2,!=0.18.0,<0.22.0,>=0.16.1->pycaret) (1.14.1)\n",
            "Requirement already satisfied: jupyter-client in /usr/local/lib/python3.10/dist-packages (from ipykernel>=4.5.1->ipywidgets>=7.6.5->pycaret) (6.1.12)\n",
            "Requirement already satisfied: tornado>=4.2 in /usr/local/lib/python3.10/dist-packages (from ipykernel>=4.5.1->ipywidgets>=7.6.5->pycaret) (6.3.2)\n",
            "Requirement already satisfied: parso<0.9.0,>=0.8.3 in /usr/local/lib/python3.10/dist-packages (from jedi>=0.16->ipython>=5.5.0->pycaret) (0.8.3)\n",
            "Requirement already satisfied: attrs>=22.2.0 in /usr/local/lib/python3.10/dist-packages (from jsonschema>=2.6->nbformat>=4.2.0->pycaret) (23.2.0)\n",
            "Requirement already satisfied: jsonschema-specifications>=2023.03.6 in /usr/local/lib/python3.10/dist-packages (from jsonschema>=2.6->nbformat>=4.2.0->pycaret) (2023.12.1)\n",
            "Requirement already satisfied: referencing>=0.28.4 in /usr/local/lib/python3.10/dist-packages (from jsonschema>=2.6->nbformat>=4.2.0->pycaret) (0.33.0)\n",
            "Requirement already satisfied: rpds-py>=0.7.1 in /usr/local/lib/python3.10/dist-packages (from jsonschema>=2.6->nbformat>=4.2.0->pycaret) (0.17.1)\n",
            "Requirement already satisfied: ptyprocess>=0.5 in /usr/local/lib/python3.10/dist-packages (from pexpect>4.3->ipython>=5.5.0->pycaret) (0.7.0)\n",
            "Requirement already satisfied: wcwidth in /usr/local/lib/python3.10/dist-packages (from prompt-toolkit!=3.0.0,!=3.0.1,<3.1.0,>=2.0.0->ipython>=5.5.0->pycaret) (0.2.13)\n",
            "Requirement already satisfied: notebook>=4.4.1 in /usr/local/lib/python3.10/dist-packages (from widgetsnbextension~=3.6.0->ipywidgets>=7.6.5->pycaret) (6.5.5)\n",
            "Requirement already satisfied: platformdirs>=2.5 in /usr/local/lib/python3.10/dist-packages (from jupyter-core->nbformat>=4.2.0->pycaret) (4.2.0)\n",
            "Requirement already satisfied: itsdangerous>=2.0 in /usr/local/lib/python3.10/dist-packages (from Flask<3.1,>=1.0.4->dash>=2.9.0->plotly-resampler>=0.8.3.1->pycaret) (2.1.2)\n",
            "Requirement already satisfied: click>=8.0 in /usr/local/lib/python3.10/dist-packages (from Flask<3.1,>=1.0.4->dash>=2.9.0->plotly-resampler>=0.8.3.1->pycaret) (8.1.7)\n",
            "Requirement already satisfied: pyzmq<25,>=17 in /usr/local/lib/python3.10/dist-packages (from notebook>=4.4.1->widgetsnbextension~=3.6.0->ipywidgets>=7.6.5->pycaret) (23.2.1)\n",
            "Requirement already satisfied: argon2-cffi in /usr/local/lib/python3.10/dist-packages (from notebook>=4.4.1->widgetsnbextension~=3.6.0->ipywidgets>=7.6.5->pycaret) (23.1.0)\n",
            "Requirement already satisfied: nbconvert>=5 in /usr/local/lib/python3.10/dist-packages (from notebook>=4.4.1->widgetsnbextension~=3.6.0->ipywidgets>=7.6.5->pycaret) (6.5.4)\n",
            "Requirement already satisfied: Send2Trash>=1.8.0 in /usr/local/lib/python3.10/dist-packages (from notebook>=4.4.1->widgetsnbextension~=3.6.0->ipywidgets>=7.6.5->pycaret) (1.8.2)\n",
            "Requirement already satisfied: terminado>=0.8.3 in /usr/local/lib/python3.10/dist-packages (from notebook>=4.4.1->widgetsnbextension~=3.6.0->ipywidgets>=7.6.5->pycaret) (0.18.0)\n",
            "Requirement already satisfied: prometheus-client in /usr/local/lib/python3.10/dist-packages (from notebook>=4.4.1->widgetsnbextension~=3.6.0->ipywidgets>=7.6.5->pycaret) (0.19.0)\n",
            "Requirement already satisfied: nbclassic>=0.4.7 in /usr/local/lib/python3.10/dist-packages (from notebook>=4.4.1->widgetsnbextension~=3.6.0->ipywidgets>=7.6.5->pycaret) (1.0.0)\n",
            "Requirement already satisfied: jupyter-server>=1.8 in /usr/local/lib/python3.10/dist-packages (from nbclassic>=0.4.7->notebook>=4.4.1->widgetsnbextension~=3.6.0->ipywidgets>=7.6.5->pycaret) (1.24.0)\n",
            "Requirement already satisfied: notebook-shim>=0.2.3 in /usr/local/lib/python3.10/dist-packages (from nbclassic>=0.4.7->notebook>=4.4.1->widgetsnbextension~=3.6.0->ipywidgets>=7.6.5->pycaret) (0.2.3)\n",
            "Requirement already satisfied: lxml in /usr/local/lib/python3.10/dist-packages (from nbconvert>=5->notebook>=4.4.1->widgetsnbextension~=3.6.0->ipywidgets>=7.6.5->pycaret) (4.9.4)\n",
            "Requirement already satisfied: beautifulsoup4 in /usr/local/lib/python3.10/dist-packages (from nbconvert>=5->notebook>=4.4.1->widgetsnbextension~=3.6.0->ipywidgets>=7.6.5->pycaret) (4.12.3)\n",
            "Requirement already satisfied: bleach in /usr/local/lib/python3.10/dist-packages (from nbconvert>=5->notebook>=4.4.1->widgetsnbextension~=3.6.0->ipywidgets>=7.6.5->pycaret) (6.1.0)\n",
            "Requirement already satisfied: defusedxml in /usr/local/lib/python3.10/dist-packages (from nbconvert>=5->notebook>=4.4.1->widgetsnbextension~=3.6.0->ipywidgets>=7.6.5->pycaret) (0.7.1)\n",
            "Requirement already satisfied: entrypoints>=0.2.2 in /usr/local/lib/python3.10/dist-packages (from nbconvert>=5->notebook>=4.4.1->widgetsnbextension~=3.6.0->ipywidgets>=7.6.5->pycaret) (0.4)\n",
            "Requirement already satisfied: jupyterlab-pygments in /usr/local/lib/python3.10/dist-packages (from nbconvert>=5->notebook>=4.4.1->widgetsnbextension~=3.6.0->ipywidgets>=7.6.5->pycaret) (0.3.0)\n",
            "Requirement already satisfied: mistune<2,>=0.8.1 in /usr/local/lib/python3.10/dist-packages (from nbconvert>=5->notebook>=4.4.1->widgetsnbextension~=3.6.0->ipywidgets>=7.6.5->pycaret) (0.8.4)\n",
            "Requirement already satisfied: nbclient>=0.5.0 in /usr/local/lib/python3.10/dist-packages (from nbconvert>=5->notebook>=4.4.1->widgetsnbextension~=3.6.0->ipywidgets>=7.6.5->pycaret) (0.9.0)\n",
            "Requirement already satisfied: pandocfilters>=1.4.1 in /usr/local/lib/python3.10/dist-packages (from nbconvert>=5->notebook>=4.4.1->widgetsnbextension~=3.6.0->ipywidgets>=7.6.5->pycaret) (1.5.1)\n",
            "Requirement already satisfied: tinycss2 in /usr/local/lib/python3.10/dist-packages (from nbconvert>=5->notebook>=4.4.1->widgetsnbextension~=3.6.0->ipywidgets>=7.6.5->pycaret) (1.2.1)\n",
            "Requirement already satisfied: argon2-cffi-bindings in /usr/local/lib/python3.10/dist-packages (from argon2-cffi->notebook>=4.4.1->widgetsnbextension~=3.6.0->ipywidgets>=7.6.5->pycaret) (21.2.0)\n",
            "Requirement already satisfied: anyio<4,>=3.1.0 in /usr/local/lib/python3.10/dist-packages (from jupyter-server>=1.8->nbclassic>=0.4.7->notebook>=4.4.1->widgetsnbextension~=3.6.0->ipywidgets>=7.6.5->pycaret) (3.7.1)\n",
            "Requirement already satisfied: websocket-client in /usr/local/lib/python3.10/dist-packages (from jupyter-server>=1.8->nbclassic>=0.4.7->notebook>=4.4.1->widgetsnbextension~=3.6.0->ipywidgets>=7.6.5->pycaret) (1.7.0)\n",
            "Requirement already satisfied: cffi>=1.0.1 in /usr/local/lib/python3.10/dist-packages (from argon2-cffi-bindings->argon2-cffi->notebook>=4.4.1->widgetsnbextension~=3.6.0->ipywidgets>=7.6.5->pycaret) (1.16.0)\n",
            "Requirement already satisfied: soupsieve>1.2 in /usr/local/lib/python3.10/dist-packages (from beautifulsoup4->nbconvert>=5->notebook>=4.4.1->widgetsnbextension~=3.6.0->ipywidgets>=7.6.5->pycaret) (2.5)\n",
            "Requirement already satisfied: webencodings in /usr/local/lib/python3.10/dist-packages (from bleach->nbconvert>=5->notebook>=4.4.1->widgetsnbextension~=3.6.0->ipywidgets>=7.6.5->pycaret) (0.5.1)\n",
            "Requirement already satisfied: sniffio>=1.1 in /usr/local/lib/python3.10/dist-packages (from anyio<4,>=3.1.0->jupyter-server>=1.8->nbclassic>=0.4.7->notebook>=4.4.1->widgetsnbextension~=3.6.0->ipywidgets>=7.6.5->pycaret) (1.3.0)\n",
            "Requirement already satisfied: exceptiongroup in /usr/local/lib/python3.10/dist-packages (from anyio<4,>=3.1.0->jupyter-server>=1.8->nbclassic>=0.4.7->notebook>=4.4.1->widgetsnbextension~=3.6.0->ipywidgets>=7.6.5->pycaret) (1.2.0)\n",
            "Requirement already satisfied: pycparser in /usr/local/lib/python3.10/dist-packages (from cffi>=1.0.1->argon2-cffi-bindings->argon2-cffi->notebook>=4.4.1->widgetsnbextension~=3.6.0->ipywidgets>=7.6.5->pycaret) (2.21)\n",
            "Building wheels for collected packages: pyod\n",
            "  Building wheel for pyod (setup.py) ... \u001b[?25l\u001b[?25hdone\n",
            "  Created wheel for pyod: filename=pyod-1.1.3-py3-none-any.whl size=190251 sha256=16f8fa893ec340c3d8523a43f02e6c765c5501a4cf83550b567f8197e67eea92\n",
            "  Stored in directory: /root/.cache/pip/wheels/05/f8/db/124d43bec122d6ec0ab3713fadfe25ebed8af52ec561682b4e\n",
            "Successfully built pyod\n",
            "Installing collected packages: kaleido, dash-table, dash-html-components, dash-core-components, wurlitzer, tsdownsample, scipy, scikit-base, schemdraw, retrying, orjson, jedi, deprecation, deprecated, matplotlib, sktime, scikit-plot, pyod, dash, pmdarima, plotly-resampler, category-encoders, tbats, pycaret\n",
            "  Attempting uninstall: scipy\n",
            "    Found existing installation: scipy 1.11.4\n",
            "    Uninstalling scipy-1.11.4:\n",
            "      Successfully uninstalled scipy-1.11.4\n",
            "  Attempting uninstall: matplotlib\n",
            "    Found existing installation: matplotlib 3.7.1\n",
            "    Uninstalling matplotlib-3.7.1:\n",
            "      Successfully uninstalled matplotlib-3.7.1\n",
            "\u001b[31mERROR: pip's dependency resolver does not currently take into account all the packages that are installed. This behaviour is the source of the following dependency conflicts.\n",
            "lida 0.0.10 requires fastapi, which is not installed.\n",
            "lida 0.0.10 requires python-multipart, which is not installed.\n",
            "lida 0.0.10 requires uvicorn, which is not installed.\u001b[0m\u001b[31m\n",
            "\u001b[0mSuccessfully installed category-encoders-2.6.3 dash-2.15.0 dash-core-components-2.0.0 dash-html-components-2.0.0 dash-table-5.0.0 deprecated-1.2.14 deprecation-2.1.0 jedi-0.19.1 kaleido-0.2.1 matplotlib-3.6.0 orjson-3.9.13 plotly-resampler-0.9.2 pmdarima-2.0.4 pycaret-3.2.0 pyod-1.1.3 retrying-1.3.4 schemdraw-0.15 scikit-base-0.5.2 scikit-plot-0.3.7 scipy-1.10.1 sktime-0.21.1 tbats-1.1.3 tsdownsample-0.1.2 wurlitzer-3.0.3\n"
          ]
        },
        {
          "output_type": "display_data",
          "data": {
            "application/vnd.colab-display-data+json": {
              "pip_warning": {
                "packages": [
                  "matplotlib",
                  "mpl_toolkits"
                ]
              }
            }
          },
          "metadata": {}
        }
      ],
      "source": [
        "# Step 3: Installing the Pycaret library (helps to perform Auto-Machine Learn)\n",
        "!pip install pycaret"
      ],
      "id": "5U1Mqbfvsp2w"
    },
    {
      "cell_type": "markdown",
      "source": [
        "# # Step 4: Importing the Pycaret library\n"
      ],
      "metadata": {
        "id": "05BsbYCUnmXc"
      },
      "id": "05BsbYCUnmXc"
    },
    {
      "cell_type": "code",
      "execution_count": null,
      "metadata": {
        "id": "68ab1c7b"
      },
      "outputs": [],
      "source": [
        "# Step 4: Importing the Pycaret library\n",
        "from pycaret import classification"
      ],
      "id": "68ab1c7b"
    },
    {
      "cell_type": "markdown",
      "source": [
        "# # Step 5: Pre-processing the data\n"
      ],
      "metadata": {
        "id": "EGZatNKsnrIB"
      },
      "id": "EGZatNKsnrIB"
    },
    {
      "cell_type": "code",
      "execution_count": null,
      "metadata": {
        "id": "00fff9af",
        "colab": {
          "base_uri": "https://localhost:8080/",
          "height": 676
        },
        "outputId": "1fdd2355-c100-497e-c18e-12ecb1c7b94a"
      },
      "outputs": [
        {
          "output_type": "display_data",
          "data": {
            "text/plain": [
              "<pandas.io.formats.style.Styler at 0x79210277e890>"
            ],
            "text/html": [
              "<style type=\"text/css\">\n",
              "#T_6e247_row9_col1 {\n",
              "  background-color: lightgreen;\n",
              "}\n",
              "</style>\n",
              "<table id=\"T_6e247\" class=\"dataframe\">\n",
              "  <thead>\n",
              "    <tr>\n",
              "      <th class=\"blank level0\" >&nbsp;</th>\n",
              "      <th id=\"T_6e247_level0_col0\" class=\"col_heading level0 col0\" >Description</th>\n",
              "      <th id=\"T_6e247_level0_col1\" class=\"col_heading level0 col1\" >Value</th>\n",
              "    </tr>\n",
              "  </thead>\n",
              "  <tbody>\n",
              "    <tr>\n",
              "      <th id=\"T_6e247_level0_row0\" class=\"row_heading level0 row0\" >0</th>\n",
              "      <td id=\"T_6e247_row0_col0\" class=\"data row0 col0\" >Session id</td>\n",
              "      <td id=\"T_6e247_row0_col1\" class=\"data row0 col1\" >8047</td>\n",
              "    </tr>\n",
              "    <tr>\n",
              "      <th id=\"T_6e247_level0_row1\" class=\"row_heading level0 row1\" >1</th>\n",
              "      <td id=\"T_6e247_row1_col0\" class=\"data row1 col0\" >Target</td>\n",
              "      <td id=\"T_6e247_row1_col1\" class=\"data row1 col1\" >Classes</td>\n",
              "    </tr>\n",
              "    <tr>\n",
              "      <th id=\"T_6e247_level0_row2\" class=\"row_heading level0 row2\" >2</th>\n",
              "      <td id=\"T_6e247_row2_col0\" class=\"data row2 col0\" >Target type</td>\n",
              "      <td id=\"T_6e247_row2_col1\" class=\"data row2 col1\" >Multiclass</td>\n",
              "    </tr>\n",
              "    <tr>\n",
              "      <th id=\"T_6e247_level0_row3\" class=\"row_heading level0 row3\" >3</th>\n",
              "      <td id=\"T_6e247_row3_col0\" class=\"data row3 col0\" >Target mapping</td>\n",
              "      <td id=\"T_6e247_row3_col1\" class=\"data row3 col1\" >DYS: 0, HC: 1, HEALTHY: 2, HT: 3</td>\n",
              "    </tr>\n",
              "    <tr>\n",
              "      <th id=\"T_6e247_level0_row4\" class=\"row_heading level0 row4\" >4</th>\n",
              "      <td id=\"T_6e247_row4_col0\" class=\"data row4 col0\" >Original data shape</td>\n",
              "      <td id=\"T_6e247_row4_col1\" class=\"data row4 col1\" >(400, 189)</td>\n",
              "    </tr>\n",
              "    <tr>\n",
              "      <th id=\"T_6e247_level0_row5\" class=\"row_heading level0 row5\" >5</th>\n",
              "      <td id=\"T_6e247_row5_col0\" class=\"data row5 col0\" >Transformed data shape</td>\n",
              "      <td id=\"T_6e247_row5_col1\" class=\"data row5 col1\" >(400, 189)</td>\n",
              "    </tr>\n",
              "    <tr>\n",
              "      <th id=\"T_6e247_level0_row6\" class=\"row_heading level0 row6\" >6</th>\n",
              "      <td id=\"T_6e247_row6_col0\" class=\"data row6 col0\" >Transformed train set shape</td>\n",
              "      <td id=\"T_6e247_row6_col1\" class=\"data row6 col1\" >(280, 189)</td>\n",
              "    </tr>\n",
              "    <tr>\n",
              "      <th id=\"T_6e247_level0_row7\" class=\"row_heading level0 row7\" >7</th>\n",
              "      <td id=\"T_6e247_row7_col0\" class=\"data row7 col0\" >Transformed test set shape</td>\n",
              "      <td id=\"T_6e247_row7_col1\" class=\"data row7 col1\" >(120, 189)</td>\n",
              "    </tr>\n",
              "    <tr>\n",
              "      <th id=\"T_6e247_level0_row8\" class=\"row_heading level0 row8\" >8</th>\n",
              "      <td id=\"T_6e247_row8_col0\" class=\"data row8 col0\" >Numeric features</td>\n",
              "      <td id=\"T_6e247_row8_col1\" class=\"data row8 col1\" >188</td>\n",
              "    </tr>\n",
              "    <tr>\n",
              "      <th id=\"T_6e247_level0_row9\" class=\"row_heading level0 row9\" >9</th>\n",
              "      <td id=\"T_6e247_row9_col0\" class=\"data row9 col0\" >Preprocess</td>\n",
              "      <td id=\"T_6e247_row9_col1\" class=\"data row9 col1\" >True</td>\n",
              "    </tr>\n",
              "    <tr>\n",
              "      <th id=\"T_6e247_level0_row10\" class=\"row_heading level0 row10\" >10</th>\n",
              "      <td id=\"T_6e247_row10_col0\" class=\"data row10 col0\" >Imputation type</td>\n",
              "      <td id=\"T_6e247_row10_col1\" class=\"data row10 col1\" >simple</td>\n",
              "    </tr>\n",
              "    <tr>\n",
              "      <th id=\"T_6e247_level0_row11\" class=\"row_heading level0 row11\" >11</th>\n",
              "      <td id=\"T_6e247_row11_col0\" class=\"data row11 col0\" >Numeric imputation</td>\n",
              "      <td id=\"T_6e247_row11_col1\" class=\"data row11 col1\" >mean</td>\n",
              "    </tr>\n",
              "    <tr>\n",
              "      <th id=\"T_6e247_level0_row12\" class=\"row_heading level0 row12\" >12</th>\n",
              "      <td id=\"T_6e247_row12_col0\" class=\"data row12 col0\" >Categorical imputation</td>\n",
              "      <td id=\"T_6e247_row12_col1\" class=\"data row12 col1\" >mode</td>\n",
              "    </tr>\n",
              "    <tr>\n",
              "      <th id=\"T_6e247_level0_row13\" class=\"row_heading level0 row13\" >13</th>\n",
              "      <td id=\"T_6e247_row13_col0\" class=\"data row13 col0\" >Fold Generator</td>\n",
              "      <td id=\"T_6e247_row13_col1\" class=\"data row13 col1\" >StratifiedKFold</td>\n",
              "    </tr>\n",
              "    <tr>\n",
              "      <th id=\"T_6e247_level0_row14\" class=\"row_heading level0 row14\" >14</th>\n",
              "      <td id=\"T_6e247_row14_col0\" class=\"data row14 col0\" >Fold Number</td>\n",
              "      <td id=\"T_6e247_row14_col1\" class=\"data row14 col1\" >10</td>\n",
              "    </tr>\n",
              "    <tr>\n",
              "      <th id=\"T_6e247_level0_row15\" class=\"row_heading level0 row15\" >15</th>\n",
              "      <td id=\"T_6e247_row15_col0\" class=\"data row15 col0\" >CPU Jobs</td>\n",
              "      <td id=\"T_6e247_row15_col1\" class=\"data row15 col1\" >-1</td>\n",
              "    </tr>\n",
              "    <tr>\n",
              "      <th id=\"T_6e247_level0_row16\" class=\"row_heading level0 row16\" >16</th>\n",
              "      <td id=\"T_6e247_row16_col0\" class=\"data row16 col0\" >Use GPU</td>\n",
              "      <td id=\"T_6e247_row16_col1\" class=\"data row16 col1\" >False</td>\n",
              "    </tr>\n",
              "    <tr>\n",
              "      <th id=\"T_6e247_level0_row17\" class=\"row_heading level0 row17\" >17</th>\n",
              "      <td id=\"T_6e247_row17_col0\" class=\"data row17 col0\" >Log Experiment</td>\n",
              "      <td id=\"T_6e247_row17_col1\" class=\"data row17 col1\" >False</td>\n",
              "    </tr>\n",
              "    <tr>\n",
              "      <th id=\"T_6e247_level0_row18\" class=\"row_heading level0 row18\" >18</th>\n",
              "      <td id=\"T_6e247_row18_col0\" class=\"data row18 col0\" >Experiment Name</td>\n",
              "      <td id=\"T_6e247_row18_col1\" class=\"data row18 col1\" >clf-default-name</td>\n",
              "    </tr>\n",
              "    <tr>\n",
              "      <th id=\"T_6e247_level0_row19\" class=\"row_heading level0 row19\" >19</th>\n",
              "      <td id=\"T_6e247_row19_col0\" class=\"data row19 col0\" >USI</td>\n",
              "      <td id=\"T_6e247_row19_col1\" class=\"data row19 col1\" >8638</td>\n",
              "    </tr>\n",
              "  </tbody>\n",
              "</table>\n"
            ]
          },
          "metadata": {}
        }
      ],
      "source": [
        "# Step 5: Pre-processing the data\n",
        "classification_setup = classification.setup(data = df1, target = \"Classes\")"
      ],
      "id": "00fff9af"
    },
    {
      "cell_type": "markdown",
      "source": [
        "# # Step 6: Building and comparing different models\n"
      ],
      "metadata": {
        "id": "n2imSPkZnwvp"
      },
      "id": "n2imSPkZnwvp"
    },
    {
      "cell_type": "code",
      "execution_count": null,
      "metadata": {
        "id": "4e906af1",
        "colab": {
          "base_uri": "https://localhost:8080/",
          "height": 488,
          "referenced_widgets": [
            "2647c4896cf5472a9d6faf5483009ce0",
            "04347f0d136e43d4aea4e5e55a38eb03",
            "305bee1b75c94cfc94fe203d9a41998b",
            "ab4777f95d4a42dca98e2096fd93ca16",
            "04a76726e6004642baba30b536c4c752",
            "b9f129784c7a4346bd54d888acc17e1a",
            "3c60964f03354f83a0326bca12e199ce",
            "dbfb8369fb1146fbbb7d5f2c1bb274f9",
            "5b1959276ee349128c1fd1c7bab3b13c",
            "7af93505bc694797b700b6b39395cdb5",
            "734d230004b34c0d9881bcf76e856f3c"
          ]
        },
        "outputId": "a9654ccc-abef-4fdb-f226-0737fe41f68b"
      },
      "outputs": [
        {
          "output_type": "display_data",
          "data": {
            "text/plain": [
              "<IPython.core.display.HTML object>"
            ],
            "text/html": []
          },
          "metadata": {}
        },
        {
          "output_type": "display_data",
          "data": {
            "text/plain": [
              "<pandas.io.formats.style.Styler at 0x79211bb20af0>"
            ],
            "text/html": [
              "<style type=\"text/css\">\n",
              "#T_fab74 th {\n",
              "  text-align: left;\n",
              "}\n",
              "#T_fab74_row0_col0, #T_fab74_row0_col2, #T_fab74_row1_col0, #T_fab74_row1_col1, #T_fab74_row1_col3, #T_fab74_row1_col4, #T_fab74_row1_col5, #T_fab74_row1_col6, #T_fab74_row1_col7, #T_fab74_row2_col0, #T_fab74_row2_col1, #T_fab74_row2_col2, #T_fab74_row2_col3, #T_fab74_row2_col4, #T_fab74_row2_col5, #T_fab74_row2_col6, #T_fab74_row2_col7, #T_fab74_row3_col0, #T_fab74_row3_col1, #T_fab74_row3_col2, #T_fab74_row3_col3, #T_fab74_row3_col4, #T_fab74_row3_col5, #T_fab74_row3_col6, #T_fab74_row3_col7, #T_fab74_row4_col0, #T_fab74_row4_col1, #T_fab74_row4_col2, #T_fab74_row4_col3, #T_fab74_row4_col4, #T_fab74_row4_col5, #T_fab74_row4_col6, #T_fab74_row4_col7, #T_fab74_row5_col0, #T_fab74_row5_col1, #T_fab74_row5_col2, #T_fab74_row5_col3, #T_fab74_row5_col4, #T_fab74_row5_col5, #T_fab74_row5_col6, #T_fab74_row5_col7, #T_fab74_row6_col0, #T_fab74_row6_col1, #T_fab74_row6_col2, #T_fab74_row6_col3, #T_fab74_row6_col4, #T_fab74_row6_col5, #T_fab74_row6_col6, #T_fab74_row6_col7, #T_fab74_row7_col0, #T_fab74_row7_col1, #T_fab74_row7_col2, #T_fab74_row7_col3, #T_fab74_row7_col4, #T_fab74_row7_col5, #T_fab74_row7_col6, #T_fab74_row7_col7, #T_fab74_row8_col0, #T_fab74_row8_col1, #T_fab74_row8_col2, #T_fab74_row8_col3, #T_fab74_row8_col4, #T_fab74_row8_col5, #T_fab74_row8_col6, #T_fab74_row8_col7, #T_fab74_row9_col0, #T_fab74_row9_col1, #T_fab74_row9_col2, #T_fab74_row9_col3, #T_fab74_row9_col4, #T_fab74_row9_col5, #T_fab74_row9_col6, #T_fab74_row9_col7, #T_fab74_row10_col0, #T_fab74_row10_col1, #T_fab74_row10_col2, #T_fab74_row10_col3, #T_fab74_row10_col4, #T_fab74_row10_col5, #T_fab74_row10_col6, #T_fab74_row10_col7, #T_fab74_row11_col0, #T_fab74_row11_col1, #T_fab74_row11_col2, #T_fab74_row11_col3, #T_fab74_row11_col4, #T_fab74_row11_col5, #T_fab74_row11_col6, #T_fab74_row11_col7, #T_fab74_row12_col0, #T_fab74_row12_col1, #T_fab74_row12_col2, #T_fab74_row12_col3, #T_fab74_row12_col4, #T_fab74_row12_col5, #T_fab74_row12_col6, #T_fab74_row12_col7, #T_fab74_row13_col0, #T_fab74_row13_col1, #T_fab74_row13_col2, #T_fab74_row13_col3, #T_fab74_row13_col4, #T_fab74_row13_col5, #T_fab74_row13_col6, #T_fab74_row13_col7 {\n",
              "  text-align: left;\n",
              "}\n",
              "#T_fab74_row0_col1, #T_fab74_row0_col3, #T_fab74_row0_col4, #T_fab74_row0_col5, #T_fab74_row0_col6, #T_fab74_row0_col7, #T_fab74_row1_col2 {\n",
              "  text-align: left;\n",
              "  background-color: yellow;\n",
              "}\n",
              "#T_fab74_row0_col8, #T_fab74_row1_col8, #T_fab74_row2_col8, #T_fab74_row3_col8, #T_fab74_row4_col8, #T_fab74_row5_col8, #T_fab74_row6_col8, #T_fab74_row7_col8, #T_fab74_row8_col8, #T_fab74_row9_col8, #T_fab74_row10_col8, #T_fab74_row11_col8, #T_fab74_row12_col8 {\n",
              "  text-align: left;\n",
              "  background-color: lightgrey;\n",
              "}\n",
              "#T_fab74_row13_col8 {\n",
              "  text-align: left;\n",
              "  background-color: yellow;\n",
              "  background-color: lightgrey;\n",
              "}\n",
              "</style>\n",
              "<table id=\"T_fab74\" class=\"dataframe\">\n",
              "  <thead>\n",
              "    <tr>\n",
              "      <th class=\"blank level0\" >&nbsp;</th>\n",
              "      <th id=\"T_fab74_level0_col0\" class=\"col_heading level0 col0\" >Model</th>\n",
              "      <th id=\"T_fab74_level0_col1\" class=\"col_heading level0 col1\" >Accuracy</th>\n",
              "      <th id=\"T_fab74_level0_col2\" class=\"col_heading level0 col2\" >AUC</th>\n",
              "      <th id=\"T_fab74_level0_col3\" class=\"col_heading level0 col3\" >Recall</th>\n",
              "      <th id=\"T_fab74_level0_col4\" class=\"col_heading level0 col4\" >Prec.</th>\n",
              "      <th id=\"T_fab74_level0_col5\" class=\"col_heading level0 col5\" >F1</th>\n",
              "      <th id=\"T_fab74_level0_col6\" class=\"col_heading level0 col6\" >Kappa</th>\n",
              "      <th id=\"T_fab74_level0_col7\" class=\"col_heading level0 col7\" >MCC</th>\n",
              "      <th id=\"T_fab74_level0_col8\" class=\"col_heading level0 col8\" >TT (Sec)</th>\n",
              "    </tr>\n",
              "  </thead>\n",
              "  <tbody>\n",
              "    <tr>\n",
              "      <th id=\"T_fab74_level0_row0\" class=\"row_heading level0 row0\" >et</th>\n",
              "      <td id=\"T_fab74_row0_col0\" class=\"data row0 col0\" >Extra Trees Classifier</td>\n",
              "      <td id=\"T_fab74_row0_col1\" class=\"data row0 col1\" >0.9929</td>\n",
              "      <td id=\"T_fab74_row0_col2\" class=\"data row0 col2\" >0.9994</td>\n",
              "      <td id=\"T_fab74_row0_col3\" class=\"data row0 col3\" >0.9929</td>\n",
              "      <td id=\"T_fab74_row0_col4\" class=\"data row0 col4\" >0.9938</td>\n",
              "      <td id=\"T_fab74_row0_col5\" class=\"data row0 col5\" >0.9928</td>\n",
              "      <td id=\"T_fab74_row0_col6\" class=\"data row0 col6\" >0.9905</td>\n",
              "      <td id=\"T_fab74_row0_col7\" class=\"data row0 col7\" >0.9908</td>\n",
              "      <td id=\"T_fab74_row0_col8\" class=\"data row0 col8\" >0.0710</td>\n",
              "    </tr>\n",
              "    <tr>\n",
              "      <th id=\"T_fab74_level0_row1\" class=\"row_heading level0 row1\" >rf</th>\n",
              "      <td id=\"T_fab74_row1_col0\" class=\"data row1 col0\" >Random Forest Classifier</td>\n",
              "      <td id=\"T_fab74_row1_col1\" class=\"data row1 col1\" >0.9893</td>\n",
              "      <td id=\"T_fab74_row1_col2\" class=\"data row1 col2\" >1.0000</td>\n",
              "      <td id=\"T_fab74_row1_col3\" class=\"data row1 col3\" >0.9893</td>\n",
              "      <td id=\"T_fab74_row1_col4\" class=\"data row1 col4\" >0.9913</td>\n",
              "      <td id=\"T_fab74_row1_col5\" class=\"data row1 col5\" >0.9891</td>\n",
              "      <td id=\"T_fab74_row1_col6\" class=\"data row1 col6\" >0.9857</td>\n",
              "      <td id=\"T_fab74_row1_col7\" class=\"data row1 col7\" >0.9865</td>\n",
              "      <td id=\"T_fab74_row1_col8\" class=\"data row1 col8\" >0.1000</td>\n",
              "    </tr>\n",
              "    <tr>\n",
              "      <th id=\"T_fab74_level0_row2\" class=\"row_heading level0 row2\" >xgboost</th>\n",
              "      <td id=\"T_fab74_row2_col0\" class=\"data row2 col0\" >Extreme Gradient Boosting</td>\n",
              "      <td id=\"T_fab74_row2_col1\" class=\"data row2 col1\" >0.9857</td>\n",
              "      <td id=\"T_fab74_row2_col2\" class=\"data row2 col2\" >0.9974</td>\n",
              "      <td id=\"T_fab74_row2_col3\" class=\"data row2 col3\" >0.9857</td>\n",
              "      <td id=\"T_fab74_row2_col4\" class=\"data row2 col4\" >0.9882</td>\n",
              "      <td id=\"T_fab74_row2_col5\" class=\"data row2 col5\" >0.9855</td>\n",
              "      <td id=\"T_fab74_row2_col6\" class=\"data row2 col6\" >0.9810</td>\n",
              "      <td id=\"T_fab74_row2_col7\" class=\"data row2 col7\" >0.9819</td>\n",
              "      <td id=\"T_fab74_row2_col8\" class=\"data row2 col8\" >0.1300</td>\n",
              "    </tr>\n",
              "    <tr>\n",
              "      <th id=\"T_fab74_level0_row3\" class=\"row_heading level0 row3\" >knn</th>\n",
              "      <td id=\"T_fab74_row3_col0\" class=\"data row3 col0\" >K Neighbors Classifier</td>\n",
              "      <td id=\"T_fab74_row3_col1\" class=\"data row3 col1\" >0.9750</td>\n",
              "      <td id=\"T_fab74_row3_col2\" class=\"data row3 col2\" >0.9980</td>\n",
              "      <td id=\"T_fab74_row3_col3\" class=\"data row3 col3\" >0.9750</td>\n",
              "      <td id=\"T_fab74_row3_col4\" class=\"data row3 col4\" >0.9763</td>\n",
              "      <td id=\"T_fab74_row3_col5\" class=\"data row3 col5\" >0.9749</td>\n",
              "      <td id=\"T_fab74_row3_col6\" class=\"data row3 col6\" >0.9667</td>\n",
              "      <td id=\"T_fab74_row3_col7\" class=\"data row3 col7\" >0.9672</td>\n",
              "      <td id=\"T_fab74_row3_col8\" class=\"data row3 col8\" >0.0230</td>\n",
              "    </tr>\n",
              "    <tr>\n",
              "      <th id=\"T_fab74_level0_row4\" class=\"row_heading level0 row4\" >gbc</th>\n",
              "      <td id=\"T_fab74_row4_col0\" class=\"data row4 col0\" >Gradient Boosting Classifier</td>\n",
              "      <td id=\"T_fab74_row4_col1\" class=\"data row4 col1\" >0.9750</td>\n",
              "      <td id=\"T_fab74_row4_col2\" class=\"data row4 col2\" >0.9995</td>\n",
              "      <td id=\"T_fab74_row4_col3\" class=\"data row4 col3\" >0.9750</td>\n",
              "      <td id=\"T_fab74_row4_col4\" class=\"data row4 col4\" >0.9788</td>\n",
              "      <td id=\"T_fab74_row4_col5\" class=\"data row4 col5\" >0.9748</td>\n",
              "      <td id=\"T_fab74_row4_col6\" class=\"data row4 col6\" >0.9667</td>\n",
              "      <td id=\"T_fab74_row4_col7\" class=\"data row4 col7\" >0.9681</td>\n",
              "      <td id=\"T_fab74_row4_col8\" class=\"data row4 col8\" >0.8720</td>\n",
              "    </tr>\n",
              "    <tr>\n",
              "      <th id=\"T_fab74_level0_row5\" class=\"row_heading level0 row5\" >dt</th>\n",
              "      <td id=\"T_fab74_row5_col0\" class=\"data row5 col0\" >Decision Tree Classifier</td>\n",
              "      <td id=\"T_fab74_row5_col1\" class=\"data row5 col1\" >0.9714</td>\n",
              "      <td id=\"T_fab74_row5_col2\" class=\"data row5 col2\" >0.9810</td>\n",
              "      <td id=\"T_fab74_row5_col3\" class=\"data row5 col3\" >0.9714</td>\n",
              "      <td id=\"T_fab74_row5_col4\" class=\"data row5 col4\" >0.9784</td>\n",
              "      <td id=\"T_fab74_row5_col5\" class=\"data row5 col5\" >0.9701</td>\n",
              "      <td id=\"T_fab74_row5_col6\" class=\"data row5 col6\" >0.9619</td>\n",
              "      <td id=\"T_fab74_row5_col7\" class=\"data row5 col7\" >0.9649</td>\n",
              "      <td id=\"T_fab74_row5_col8\" class=\"data row5 col8\" >0.0210</td>\n",
              "    </tr>\n",
              "    <tr>\n",
              "      <th id=\"T_fab74_level0_row6\" class=\"row_heading level0 row6\" >lda</th>\n",
              "      <td id=\"T_fab74_row6_col0\" class=\"data row6 col0\" >Linear Discriminant Analysis</td>\n",
              "      <td id=\"T_fab74_row6_col1\" class=\"data row6 col1\" >0.9500</td>\n",
              "      <td id=\"T_fab74_row6_col2\" class=\"data row6 col2\" >0.9901</td>\n",
              "      <td id=\"T_fab74_row6_col3\" class=\"data row6 col3\" >0.9500</td>\n",
              "      <td id=\"T_fab74_row6_col4\" class=\"data row6 col4\" >0.9527</td>\n",
              "      <td id=\"T_fab74_row6_col5\" class=\"data row6 col5\" >0.9496</td>\n",
              "      <td id=\"T_fab74_row6_col6\" class=\"data row6 col6\" >0.9333</td>\n",
              "      <td id=\"T_fab74_row6_col7\" class=\"data row6 col7\" >0.9345</td>\n",
              "      <td id=\"T_fab74_row6_col8\" class=\"data row6 col8\" >0.0200</td>\n",
              "    </tr>\n",
              "    <tr>\n",
              "      <th id=\"T_fab74_level0_row7\" class=\"row_heading level0 row7\" >nb</th>\n",
              "      <td id=\"T_fab74_row7_col0\" class=\"data row7 col0\" >Naive Bayes</td>\n",
              "      <td id=\"T_fab74_row7_col1\" class=\"data row7 col1\" >0.9357</td>\n",
              "      <td id=\"T_fab74_row7_col2\" class=\"data row7 col2\" >0.9906</td>\n",
              "      <td id=\"T_fab74_row7_col3\" class=\"data row7 col3\" >0.9357</td>\n",
              "      <td id=\"T_fab74_row7_col4\" class=\"data row7 col4\" >0.9473</td>\n",
              "      <td id=\"T_fab74_row7_col5\" class=\"data row7 col5\" >0.9339</td>\n",
              "      <td id=\"T_fab74_row7_col6\" class=\"data row7 col6\" >0.9143</td>\n",
              "      <td id=\"T_fab74_row7_col7\" class=\"data row7 col7\" >0.9191</td>\n",
              "      <td id=\"T_fab74_row7_col8\" class=\"data row7 col8\" >0.0180</td>\n",
              "    </tr>\n",
              "    <tr>\n",
              "      <th id=\"T_fab74_level0_row8\" class=\"row_heading level0 row8\" >ridge</th>\n",
              "      <td id=\"T_fab74_row8_col0\" class=\"data row8 col0\" >Ridge Classifier</td>\n",
              "      <td id=\"T_fab74_row8_col1\" class=\"data row8 col1\" >0.8321</td>\n",
              "      <td id=\"T_fab74_row8_col2\" class=\"data row8 col2\" >0.0000</td>\n",
              "      <td id=\"T_fab74_row8_col3\" class=\"data row8 col3\" >0.8321</td>\n",
              "      <td id=\"T_fab74_row8_col4\" class=\"data row8 col4\" >0.8643</td>\n",
              "      <td id=\"T_fab74_row8_col5\" class=\"data row8 col5\" >0.7994</td>\n",
              "      <td id=\"T_fab74_row8_col6\" class=\"data row8 col6\" >0.7762</td>\n",
              "      <td id=\"T_fab74_row8_col7\" class=\"data row8 col7\" >0.8046</td>\n",
              "      <td id=\"T_fab74_row8_col8\" class=\"data row8 col8\" >0.0180</td>\n",
              "    </tr>\n",
              "    <tr>\n",
              "      <th id=\"T_fab74_level0_row9\" class=\"row_heading level0 row9\" >lr</th>\n",
              "      <td id=\"T_fab74_row9_col0\" class=\"data row9 col0\" >Logistic Regression</td>\n",
              "      <td id=\"T_fab74_row9_col1\" class=\"data row9 col1\" >0.8250</td>\n",
              "      <td id=\"T_fab74_row9_col2\" class=\"data row9 col2\" >0.9362</td>\n",
              "      <td id=\"T_fab74_row9_col3\" class=\"data row9 col3\" >0.8250</td>\n",
              "      <td id=\"T_fab74_row9_col4\" class=\"data row9 col4\" >0.8475</td>\n",
              "      <td id=\"T_fab74_row9_col5\" class=\"data row9 col5\" >0.7945</td>\n",
              "      <td id=\"T_fab74_row9_col6\" class=\"data row9 col6\" >0.7667</td>\n",
              "      <td id=\"T_fab74_row9_col7\" class=\"data row9 col7\" >0.7935</td>\n",
              "      <td id=\"T_fab74_row9_col8\" class=\"data row9 col8\" >0.5290</td>\n",
              "    </tr>\n",
              "    <tr>\n",
              "      <th id=\"T_fab74_level0_row10\" class=\"row_heading level0 row10\" >qda</th>\n",
              "      <td id=\"T_fab74_row10_col0\" class=\"data row10 col0\" >Quadratic Discriminant Analysis</td>\n",
              "      <td id=\"T_fab74_row10_col1\" class=\"data row10 col1\" >0.7821</td>\n",
              "      <td id=\"T_fab74_row10_col2\" class=\"data row10 col2\" >0.8548</td>\n",
              "      <td id=\"T_fab74_row10_col3\" class=\"data row10 col3\" >0.7821</td>\n",
              "      <td id=\"T_fab74_row10_col4\" class=\"data row10 col4\" >0.6787</td>\n",
              "      <td id=\"T_fab74_row10_col5\" class=\"data row10 col5\" >0.7119</td>\n",
              "      <td id=\"T_fab74_row10_col6\" class=\"data row10 col6\" >0.7095</td>\n",
              "      <td id=\"T_fab74_row10_col7\" class=\"data row10 col7\" >0.7584</td>\n",
              "      <td id=\"T_fab74_row10_col8\" class=\"data row10 col8\" >0.0200</td>\n",
              "    </tr>\n",
              "    <tr>\n",
              "      <th id=\"T_fab74_level0_row11\" class=\"row_heading level0 row11\" >ada</th>\n",
              "      <td id=\"T_fab74_row11_col0\" class=\"data row11 col0\" >Ada Boost Classifier</td>\n",
              "      <td id=\"T_fab74_row11_col1\" class=\"data row11 col1\" >0.7500</td>\n",
              "      <td id=\"T_fab74_row11_col2\" class=\"data row11 col2\" >0.9167</td>\n",
              "      <td id=\"T_fab74_row11_col3\" class=\"data row11 col3\" >0.7500</td>\n",
              "      <td id=\"T_fab74_row11_col4\" class=\"data row11 col4\" >0.6250</td>\n",
              "      <td id=\"T_fab74_row11_col5\" class=\"data row11 col5\" >0.6667</td>\n",
              "      <td id=\"T_fab74_row11_col6\" class=\"data row11 col6\" >0.6667</td>\n",
              "      <td id=\"T_fab74_row11_col7\" class=\"data row11 col7\" >0.7303</td>\n",
              "      <td id=\"T_fab74_row11_col8\" class=\"data row11 col8\" >0.1030</td>\n",
              "    </tr>\n",
              "    <tr>\n",
              "      <th id=\"T_fab74_level0_row12\" class=\"row_heading level0 row12\" >svm</th>\n",
              "      <td id=\"T_fab74_row12_col0\" class=\"data row12 col0\" >SVM - Linear Kernel</td>\n",
              "      <td id=\"T_fab74_row12_col1\" class=\"data row12 col1\" >0.3464</td>\n",
              "      <td id=\"T_fab74_row12_col2\" class=\"data row12 col2\" >0.0000</td>\n",
              "      <td id=\"T_fab74_row12_col3\" class=\"data row12 col3\" >0.3464</td>\n",
              "      <td id=\"T_fab74_row12_col4\" class=\"data row12 col4\" >0.1618</td>\n",
              "      <td id=\"T_fab74_row12_col5\" class=\"data row12 col5\" >0.2031</td>\n",
              "      <td id=\"T_fab74_row12_col6\" class=\"data row12 col6\" >0.1286</td>\n",
              "      <td id=\"T_fab74_row12_col7\" class=\"data row12 col7\" >0.1725</td>\n",
              "      <td id=\"T_fab74_row12_col8\" class=\"data row12 col8\" >0.0230</td>\n",
              "    </tr>\n",
              "    <tr>\n",
              "      <th id=\"T_fab74_level0_row13\" class=\"row_heading level0 row13\" >dummy</th>\n",
              "      <td id=\"T_fab74_row13_col0\" class=\"data row13 col0\" >Dummy Classifier</td>\n",
              "      <td id=\"T_fab74_row13_col1\" class=\"data row13 col1\" >0.2500</td>\n",
              "      <td id=\"T_fab74_row13_col2\" class=\"data row13 col2\" >0.5000</td>\n",
              "      <td id=\"T_fab74_row13_col3\" class=\"data row13 col3\" >0.2500</td>\n",
              "      <td id=\"T_fab74_row13_col4\" class=\"data row13 col4\" >0.0625</td>\n",
              "      <td id=\"T_fab74_row13_col5\" class=\"data row13 col5\" >0.1000</td>\n",
              "      <td id=\"T_fab74_row13_col6\" class=\"data row13 col6\" >0.0000</td>\n",
              "      <td id=\"T_fab74_row13_col7\" class=\"data row13 col7\" >0.0000</td>\n",
              "      <td id=\"T_fab74_row13_col8\" class=\"data row13 col8\" >0.0130</td>\n",
              "    </tr>\n",
              "  </tbody>\n",
              "</table>\n"
            ]
          },
          "metadata": {}
        },
        {
          "output_type": "display_data",
          "data": {
            "text/plain": [
              "Processing:   0%|          | 0/61 [00:00<?, ?it/s]"
            ],
            "application/vnd.jupyter.widget-view+json": {
              "version_major": 2,
              "version_minor": 0,
              "model_id": "2647c4896cf5472a9d6faf5483009ce0"
            }
          },
          "metadata": {
            "application/vnd.jupyter.widget-view+json": {
              "colab": {
                "custom_widget_manager": {
                  "url": "https://ssl.gstatic.com/colaboratory-static/widgets/colab-cdn-widget-manager/2b70e893a8ba7c0f/manager.min.js"
                }
              }
            }
          }
        },
        {
          "output_type": "display_data",
          "data": {
            "text/plain": [
              "<IPython.core.display.HTML object>"
            ],
            "text/html": []
          },
          "metadata": {}
        }
      ],
      "source": [
        "# Step 6: Building and comparing different models\n",
        "best = classification.compare_models(exclude=['lightgbm'])"
      ],
      "id": "4e906af1"
    },
    {
      "cell_type": "markdown",
      "source": [
        "# # Step 7: Training the best model based on predictive performance metrics"
      ],
      "metadata": {
        "id": "T3ddtmhxn0m9"
      },
      "id": "T3ddtmhxn0m9"
    },
    {
      "cell_type": "code",
      "execution_count": null,
      "metadata": {
        "id": "a3e39264",
        "colab": {
          "base_uri": "https://localhost:8080/",
          "height": 457,
          "referenced_widgets": [
            "e16b1ac20ea1417989c78c122729ce8e",
            "11601799b1d249039a30efb577c66a8e",
            "70d030e1b5f946e490549fd865f0818f",
            "8132e0007f7946de96bafbf024bbe9bf",
            "165893b1d88e4b19b73d06eaf0ef69c9",
            "4cb1d244797f4e23bb15e9010ed9ea71",
            "d57c0c838c4d43b79cdf0e3479d64e52",
            "b5c1a7ca7169455e87ae34b13593f56a",
            "5fd81509e45e4e818b2453be74a34be9",
            "bc5ceb9232d4413ab8ed9bb6c67f1589",
            "5c57b25f63634c0cbdc12b96b90a0642"
          ]
        },
        "outputId": "e662bb18-52cc-4878-8534-7ca249cf1314"
      },
      "outputs": [
        {
          "output_type": "display_data",
          "data": {
            "text/plain": [
              "<IPython.core.display.HTML object>"
            ],
            "text/html": []
          },
          "metadata": {}
        },
        {
          "output_type": "display_data",
          "data": {
            "text/plain": [
              "<pandas.io.formats.style.Styler at 0x79210270bc70>"
            ],
            "text/html": [
              "<style type=\"text/css\">\n",
              "#T_da084_row10_col0, #T_da084_row10_col1, #T_da084_row10_col2, #T_da084_row10_col3, #T_da084_row10_col4, #T_da084_row10_col5, #T_da084_row10_col6 {\n",
              "  background: yellow;\n",
              "}\n",
              "</style>\n",
              "<table id=\"T_da084\" class=\"dataframe\">\n",
              "  <thead>\n",
              "    <tr>\n",
              "      <th class=\"blank level0\" >&nbsp;</th>\n",
              "      <th id=\"T_da084_level0_col0\" class=\"col_heading level0 col0\" >Accuracy</th>\n",
              "      <th id=\"T_da084_level0_col1\" class=\"col_heading level0 col1\" >AUC</th>\n",
              "      <th id=\"T_da084_level0_col2\" class=\"col_heading level0 col2\" >Recall</th>\n",
              "      <th id=\"T_da084_level0_col3\" class=\"col_heading level0 col3\" >Prec.</th>\n",
              "      <th id=\"T_da084_level0_col4\" class=\"col_heading level0 col4\" >F1</th>\n",
              "      <th id=\"T_da084_level0_col5\" class=\"col_heading level0 col5\" >Kappa</th>\n",
              "      <th id=\"T_da084_level0_col6\" class=\"col_heading level0 col6\" >MCC</th>\n",
              "    </tr>\n",
              "    <tr>\n",
              "      <th class=\"index_name level0\" >Fold</th>\n",
              "      <th class=\"blank col0\" >&nbsp;</th>\n",
              "      <th class=\"blank col1\" >&nbsp;</th>\n",
              "      <th class=\"blank col2\" >&nbsp;</th>\n",
              "      <th class=\"blank col3\" >&nbsp;</th>\n",
              "      <th class=\"blank col4\" >&nbsp;</th>\n",
              "      <th class=\"blank col5\" >&nbsp;</th>\n",
              "      <th class=\"blank col6\" >&nbsp;</th>\n",
              "    </tr>\n",
              "  </thead>\n",
              "  <tbody>\n",
              "    <tr>\n",
              "      <th id=\"T_da084_level0_row0\" class=\"row_heading level0 row0\" >0</th>\n",
              "      <td id=\"T_da084_row0_col0\" class=\"data row0 col0\" >1.0000</td>\n",
              "      <td id=\"T_da084_row0_col1\" class=\"data row0 col1\" >1.0000</td>\n",
              "      <td id=\"T_da084_row0_col2\" class=\"data row0 col2\" >1.0000</td>\n",
              "      <td id=\"T_da084_row0_col3\" class=\"data row0 col3\" >1.0000</td>\n",
              "      <td id=\"T_da084_row0_col4\" class=\"data row0 col4\" >1.0000</td>\n",
              "      <td id=\"T_da084_row0_col5\" class=\"data row0 col5\" >1.0000</td>\n",
              "      <td id=\"T_da084_row0_col6\" class=\"data row0 col6\" >1.0000</td>\n",
              "    </tr>\n",
              "    <tr>\n",
              "      <th id=\"T_da084_level0_row1\" class=\"row_heading level0 row1\" >1</th>\n",
              "      <td id=\"T_da084_row1_col0\" class=\"data row1 col0\" >1.0000</td>\n",
              "      <td id=\"T_da084_row1_col1\" class=\"data row1 col1\" >1.0000</td>\n",
              "      <td id=\"T_da084_row1_col2\" class=\"data row1 col2\" >1.0000</td>\n",
              "      <td id=\"T_da084_row1_col3\" class=\"data row1 col3\" >1.0000</td>\n",
              "      <td id=\"T_da084_row1_col4\" class=\"data row1 col4\" >1.0000</td>\n",
              "      <td id=\"T_da084_row1_col5\" class=\"data row1 col5\" >1.0000</td>\n",
              "      <td id=\"T_da084_row1_col6\" class=\"data row1 col6\" >1.0000</td>\n",
              "    </tr>\n",
              "    <tr>\n",
              "      <th id=\"T_da084_level0_row2\" class=\"row_heading level0 row2\" >2</th>\n",
              "      <td id=\"T_da084_row2_col0\" class=\"data row2 col0\" >1.0000</td>\n",
              "      <td id=\"T_da084_row2_col1\" class=\"data row2 col1\" >1.0000</td>\n",
              "      <td id=\"T_da084_row2_col2\" class=\"data row2 col2\" >1.0000</td>\n",
              "      <td id=\"T_da084_row2_col3\" class=\"data row2 col3\" >1.0000</td>\n",
              "      <td id=\"T_da084_row2_col4\" class=\"data row2 col4\" >1.0000</td>\n",
              "      <td id=\"T_da084_row2_col5\" class=\"data row2 col5\" >1.0000</td>\n",
              "      <td id=\"T_da084_row2_col6\" class=\"data row2 col6\" >1.0000</td>\n",
              "    </tr>\n",
              "    <tr>\n",
              "      <th id=\"T_da084_level0_row3\" class=\"row_heading level0 row3\" >3</th>\n",
              "      <td id=\"T_da084_row3_col0\" class=\"data row3 col0\" >0.9643</td>\n",
              "      <td id=\"T_da084_row3_col1\" class=\"data row3 col1\" >1.0000</td>\n",
              "      <td id=\"T_da084_row3_col2\" class=\"data row3 col2\" >0.9643</td>\n",
              "      <td id=\"T_da084_row3_col3\" class=\"data row3 col3\" >0.9688</td>\n",
              "      <td id=\"T_da084_row3_col4\" class=\"data row3 col4\" >0.9641</td>\n",
              "      <td id=\"T_da084_row3_col5\" class=\"data row3 col5\" >0.9524</td>\n",
              "      <td id=\"T_da084_row3_col6\" class=\"data row3 col6\" >0.9540</td>\n",
              "    </tr>\n",
              "    <tr>\n",
              "      <th id=\"T_da084_level0_row4\" class=\"row_heading level0 row4\" >4</th>\n",
              "      <td id=\"T_da084_row4_col0\" class=\"data row4 col0\" >0.9643</td>\n",
              "      <td id=\"T_da084_row4_col1\" class=\"data row4 col1\" >1.0000</td>\n",
              "      <td id=\"T_da084_row4_col2\" class=\"data row4 col2\" >0.9643</td>\n",
              "      <td id=\"T_da084_row4_col3\" class=\"data row4 col3\" >0.9688</td>\n",
              "      <td id=\"T_da084_row4_col4\" class=\"data row4 col4\" >0.9641</td>\n",
              "      <td id=\"T_da084_row4_col5\" class=\"data row4 col5\" >0.9524</td>\n",
              "      <td id=\"T_da084_row4_col6\" class=\"data row4 col6\" >0.9540</td>\n",
              "    </tr>\n",
              "    <tr>\n",
              "      <th id=\"T_da084_level0_row5\" class=\"row_heading level0 row5\" >5</th>\n",
              "      <td id=\"T_da084_row5_col0\" class=\"data row5 col0\" >0.9286</td>\n",
              "      <td id=\"T_da084_row5_col1\" class=\"data row5 col1\" >0.9949</td>\n",
              "      <td id=\"T_da084_row5_col2\" class=\"data row5 col2\" >0.9286</td>\n",
              "      <td id=\"T_da084_row5_col3\" class=\"data row5 col3\" >0.9444</td>\n",
              "      <td id=\"T_da084_row5_col4\" class=\"data row5 col4\" >0.9271</td>\n",
              "      <td id=\"T_da084_row5_col5\" class=\"data row5 col5\" >0.9048</td>\n",
              "      <td id=\"T_da084_row5_col6\" class=\"data row5 col6\" >0.9110</td>\n",
              "    </tr>\n",
              "    <tr>\n",
              "      <th id=\"T_da084_level0_row6\" class=\"row_heading level0 row6\" >6</th>\n",
              "      <td id=\"T_da084_row6_col0\" class=\"data row6 col0\" >0.9643</td>\n",
              "      <td id=\"T_da084_row6_col1\" class=\"data row6 col1\" >1.0000</td>\n",
              "      <td id=\"T_da084_row6_col2\" class=\"data row6 col2\" >0.9643</td>\n",
              "      <td id=\"T_da084_row6_col3\" class=\"data row6 col3\" >0.9688</td>\n",
              "      <td id=\"T_da084_row6_col4\" class=\"data row6 col4\" >0.9641</td>\n",
              "      <td id=\"T_da084_row6_col5\" class=\"data row6 col5\" >0.9524</td>\n",
              "      <td id=\"T_da084_row6_col6\" class=\"data row6 col6\" >0.9540</td>\n",
              "    </tr>\n",
              "    <tr>\n",
              "      <th id=\"T_da084_level0_row7\" class=\"row_heading level0 row7\" >7</th>\n",
              "      <td id=\"T_da084_row7_col0\" class=\"data row7 col0\" >0.9643</td>\n",
              "      <td id=\"T_da084_row7_col1\" class=\"data row7 col1\" >1.0000</td>\n",
              "      <td id=\"T_da084_row7_col2\" class=\"data row7 col2\" >0.9643</td>\n",
              "      <td id=\"T_da084_row7_col3\" class=\"data row7 col3\" >0.9688</td>\n",
              "      <td id=\"T_da084_row7_col4\" class=\"data row7 col4\" >0.9641</td>\n",
              "      <td id=\"T_da084_row7_col5\" class=\"data row7 col5\" >0.9524</td>\n",
              "      <td id=\"T_da084_row7_col6\" class=\"data row7 col6\" >0.9540</td>\n",
              "    </tr>\n",
              "    <tr>\n",
              "      <th id=\"T_da084_level0_row8\" class=\"row_heading level0 row8\" >8</th>\n",
              "      <td id=\"T_da084_row8_col0\" class=\"data row8 col0\" >0.9643</td>\n",
              "      <td id=\"T_da084_row8_col1\" class=\"data row8 col1\" >1.0000</td>\n",
              "      <td id=\"T_da084_row8_col2\" class=\"data row8 col2\" >0.9643</td>\n",
              "      <td id=\"T_da084_row8_col3\" class=\"data row8 col3\" >0.9688</td>\n",
              "      <td id=\"T_da084_row8_col4\" class=\"data row8 col4\" >0.9641</td>\n",
              "      <td id=\"T_da084_row8_col5\" class=\"data row8 col5\" >0.9524</td>\n",
              "      <td id=\"T_da084_row8_col6\" class=\"data row8 col6\" >0.9540</td>\n",
              "    </tr>\n",
              "    <tr>\n",
              "      <th id=\"T_da084_level0_row9\" class=\"row_heading level0 row9\" >9</th>\n",
              "      <td id=\"T_da084_row9_col0\" class=\"data row9 col0\" >1.0000</td>\n",
              "      <td id=\"T_da084_row9_col1\" class=\"data row9 col1\" >1.0000</td>\n",
              "      <td id=\"T_da084_row9_col2\" class=\"data row9 col2\" >1.0000</td>\n",
              "      <td id=\"T_da084_row9_col3\" class=\"data row9 col3\" >1.0000</td>\n",
              "      <td id=\"T_da084_row9_col4\" class=\"data row9 col4\" >1.0000</td>\n",
              "      <td id=\"T_da084_row9_col5\" class=\"data row9 col5\" >1.0000</td>\n",
              "      <td id=\"T_da084_row9_col6\" class=\"data row9 col6\" >1.0000</td>\n",
              "    </tr>\n",
              "    <tr>\n",
              "      <th id=\"T_da084_level0_row10\" class=\"row_heading level0 row10\" >Mean</th>\n",
              "      <td id=\"T_da084_row10_col0\" class=\"data row10 col0\" >0.9750</td>\n",
              "      <td id=\"T_da084_row10_col1\" class=\"data row10 col1\" >0.9995</td>\n",
              "      <td id=\"T_da084_row10_col2\" class=\"data row10 col2\" >0.9750</td>\n",
              "      <td id=\"T_da084_row10_col3\" class=\"data row10 col3\" >0.9788</td>\n",
              "      <td id=\"T_da084_row10_col4\" class=\"data row10 col4\" >0.9748</td>\n",
              "      <td id=\"T_da084_row10_col5\" class=\"data row10 col5\" >0.9667</td>\n",
              "      <td id=\"T_da084_row10_col6\" class=\"data row10 col6\" >0.9681</td>\n",
              "    </tr>\n",
              "    <tr>\n",
              "      <th id=\"T_da084_level0_row11\" class=\"row_heading level0 row11\" >Std</th>\n",
              "      <td id=\"T_da084_row11_col0\" class=\"data row11 col0\" >0.0229</td>\n",
              "      <td id=\"T_da084_row11_col1\" class=\"data row11 col1\" >0.0015</td>\n",
              "      <td id=\"T_da084_row11_col2\" class=\"data row11 col2\" >0.0229</td>\n",
              "      <td id=\"T_da084_row11_col3\" class=\"data row11 col3\" >0.0187</td>\n",
              "      <td id=\"T_da084_row11_col4\" class=\"data row11 col4\" >0.0232</td>\n",
              "      <td id=\"T_da084_row11_col5\" class=\"data row11 col5\" >0.0305</td>\n",
              "      <td id=\"T_da084_row11_col6\" class=\"data row11 col6\" >0.0289</td>\n",
              "    </tr>\n",
              "  </tbody>\n",
              "</table>\n"
            ]
          },
          "metadata": {}
        },
        {
          "output_type": "display_data",
          "data": {
            "text/plain": [
              "Processing:   0%|          | 0/4 [00:00<?, ?it/s]"
            ],
            "application/vnd.jupyter.widget-view+json": {
              "version_major": 2,
              "version_minor": 0,
              "model_id": "e16b1ac20ea1417989c78c122729ce8e"
            }
          },
          "metadata": {
            "application/vnd.jupyter.widget-view+json": {
              "colab": {
                "custom_widget_manager": {
                  "url": "https://ssl.gstatic.com/colaboratory-static/widgets/colab-cdn-widget-manager/2b70e893a8ba7c0f/manager.min.js"
                }
              }
            }
          }
        },
        {
          "output_type": "display_data",
          "data": {
            "text/plain": [
              "<IPython.core.display.HTML object>"
            ],
            "text/html": []
          },
          "metadata": {}
        }
      ],
      "source": [
        "# Step 7: Training the best model based on predictive performance metrics\n",
        "# Note: The gbc model was one of the three best. Now, we'll create and validate the gradient trees Classifier model\n",
        "best_model = classification.create_model(\"gbc\")"
      ],
      "id": "a3e39264"
    },
    {
      "cell_type": "markdown",
      "source": [
        "# # Step 8: Extracting the results of the model's metrics\n"
      ],
      "metadata": {
        "id": "XWU66Dh6n8hv"
      },
      "id": "XWU66Dh6n8hv"
    },
    {
      "cell_type": "code",
      "execution_count": null,
      "metadata": {
        "id": "e43ea3ce",
        "colab": {
          "base_uri": "https://localhost:8080/",
          "height": 191,
          "referenced_widgets": [
            "7549cf3c03524834b9255fed0877c84c",
            "4a0c7a9d29a24a07a800190ef29654a1",
            "ccdc2de4565a41dd958a1daa2e119061",
            "f26d3819c4e6453ca81edcd7a9eee0cb",
            "838d2114a8a94e17b413ddac6aebd871",
            "1cd0a4e2458a415f9f2eb2f7c9700e14",
            "4a749a2e3e8c4f1ca456a40bcdcf9523"
          ]
        },
        "outputId": "a30f09c4-d20e-41e8-d700-8d333e942b51"
      },
      "outputs": [
        {
          "output_type": "display_data",
          "data": {
            "text/plain": [
              "interactive(children=(ToggleButtons(description='Plot Type:', icons=('',), options=(('Pipeline Plot', 'pipelin…"
            ],
            "application/vnd.jupyter.widget-view+json": {
              "version_major": 2,
              "version_minor": 0,
              "model_id": "7549cf3c03524834b9255fed0877c84c"
            }
          },
          "metadata": {
            "application/vnd.jupyter.widget-view+json": {
              "colab": {
                "custom_widget_manager": {
                  "url": "https://ssl.gstatic.com/colaboratory-static/widgets/colab-cdn-widget-manager/2b70e893a8ba7c0f/manager.min.js"
                }
              }
            }
          }
        }
      ],
      "source": [
        "# Step 8: Extracting the results of the model's metrics\n",
        "# General evaluation\n",
        "classification.evaluate_model(best_model)"
      ],
      "id": "e43ea3ce"
    },
    {
      "cell_type": "code",
      "execution_count": null,
      "metadata": {
        "id": "_Ha2Ww_4dcP3",
        "colab": {
          "base_uri": "https://localhost:8080/",
          "height": 570
        },
        "outputId": "fa3b04cd-b241-4ba6-923e-eff96833fa91"
      },
      "outputs": [
        {
          "output_type": "display_data",
          "data": {
            "text/plain": [
              "<IPython.core.display.HTML object>"
            ],
            "text/html": []
          },
          "metadata": {}
        },
        {
          "output_type": "display_data",
          "data": {
            "text/plain": [
              "<Figure size 800x550 with 2 Axes>"
            ],
            "image/png": "[encoded data removed]"
          },
          "metadata": {}
        },
        {
          "output_type": "display_data",
          "data": {
            "text/plain": [
              "<IPython.core.display.HTML object>"
            ],
            "text/html": []
          },
          "metadata": {}
        },
        {
          "output_type": "execute_result",
          "data": {
            "text/plain": [
              "'Class Report.png'"
            ],
            "application/vnd.google.colaboratory.intrinsic+json": {
              "type": "string"
            }
          },
          "metadata": {},
          "execution_count": 9
        }
      ],
      "source": [
        "# Saving the figures of merit of the model\n",
        "# Ploting Class report\n",
        "#DYS: 0, HC: 1, HT: 2, Healthy: 3\n",
        "classification.plot_model(best_model, plot =\"class_report\", plot_kwargs ={'classes': [\"Dyslipidemia\", \"HC\",\"Healthy\", \"HT\"]})\n",
        "classification.plot_model(best_model, plot =\"class_report\", plot_kwargs ={'classes': [\"Dyslipidemia\", \"HC\",\"Healthy\", \"HT\"]}, save=True, scale=5)\n"
      ],
      "id": "_Ha2Ww_4dcP3"
    },
    {
      "cell_type": "code",
      "execution_count": null,
      "metadata": {
        "id": "rITpbD33de4x",
        "colab": {
          "base_uri": "https://localhost:8080/",
          "height": 570
        },
        "outputId": "980fcb88-17ed-486e-ce4b-f79cdf5064b1"
      },
      "outputs": [
        {
          "output_type": "display_data",
          "data": {
            "text/plain": [
              "<IPython.core.display.HTML object>"
            ],
            "text/html": []
          },
          "metadata": {}
        },
        {
          "output_type": "display_data",
          "data": {
            "text/plain": [
              "<Figure size 800x550 with 1 Axes>"
            ],
            "image/png": "[encoded data removed]"
          },
          "metadata": {}
        },
        {
          "output_type": "display_data",
          "data": {
            "text/plain": [
              "<IPython.core.display.HTML object>"
            ],
            "text/html": []
          },
          "metadata": {}
        },
        {
          "output_type": "execute_result",
          "data": {
            "text/plain": [
              "'Confusion Matrix.png'"
            ],
            "application/vnd.google.colaboratory.intrinsic+json": {
              "type": "string"
            }
          },
          "metadata": {},
          "execution_count": 10
        }
      ],
      "source": [
        "# Plotando a matriz de confusão\n",
        "classification.plot_model(best_model, plot =\"confusion_matrix\", plot_kwargs ={'classes': [\"Dyslipidemia\", \"HC\",\"Healthy\", \"HT\"]})\n",
        "classification.plot_model(best_model, plot =\"confusion_matrix\", plot_kwargs ={'classes':  [\"Dyslipidemia\", \"HC\",\"Healthy\", \"HT\"]}, save=True)"
      ],
      "id": "rITpbD33de4x"
    },
    {
      "cell_type": "code",
      "execution_count": null,
      "metadata": {
        "id": "dCyvk4xzYLEg",
        "colab": {
          "base_uri": "https://localhost:8080/",
          "height": 570
        },
        "outputId": "074d78a3-4422-41cb-b829-6d8f4f4adc3c"
      },
      "outputs": [
        {
          "output_type": "display_data",
          "data": {
            "text/plain": [
              "<IPython.core.display.HTML object>"
            ],
            "text/html": []
          },
          "metadata": {}
        },
        {
          "output_type": "display_data",
          "data": {
            "text/plain": [
              "<Figure size 800x550 with 1 Axes>"
            ],
            "image/png": "[encoded data removed]"
          },
          "metadata": {}
        },
        {
          "output_type": "display_data",
          "data": {
            "text/plain": [
              "<IPython.core.display.HTML object>"
            ],
            "text/html": []
          },
          "metadata": {}
        },
        {
          "output_type": "execute_result",
          "data": {
            "text/plain": [
              "'Prediction Error.png'"
            ],
            "application/vnd.google.colaboratory.intrinsic+json": {
              "type": "string"
            }
          },
          "metadata": {},
          "execution_count": 11
        }
      ],
      "source": [
        "# Plotando prediction error\n",
        "classification.plot_model(best_model, plot =\"error\",  plot_kwargs ={'classes': [\"Dyslipidemia\", \"HC\",\"Healthy\", \"HT\"]})\n",
        "classification.plot_model(best_model, plot =\"error\",  plot_kwargs ={'classes':  [\"Dyslipidemia\", \"HC\",\"Healthy\", \"HT\"]}, save=True)"
      ],
      "id": "dCyvk4xzYLEg"
    },
    {
      "cell_type": "code",
      "execution_count": null,
      "metadata": {
        "colab": {
          "base_uri": "https://localhost:8080/",
          "height": 543
        },
        "id": "NAJL8dMqYLcd",
        "outputId": "6a6226fe-e82d-4cba-883b-31b75fec8be2"
      },
      "outputs": [
        {
          "output_type": "display_data",
          "data": {
            "text/plain": [
              "<IPython.core.display.HTML object>"
            ],
            "text/html": []
          },
          "metadata": {}
        },
        {
          "output_type": "display_data",
          "data": {
            "text/plain": [
              "<Figure size 800x550 with 1 Axes>"
            ],
            "image/png": "[encoded data removed]"
          },
          "metadata": {}
        },
        {
          "output_type": "display_data",
          "data": {
            "text/plain": [
              "<IPython.core.display.HTML object>"
            ],
            "text/html": []
          },
          "metadata": {}
        },
        {
          "output_type": "execute_result",
          "data": {
            "text/plain": [
              "'AUC.png'"
            ],
            "application/vnd.google.colaboratory.intrinsic+json": {
              "type": "string"
            }
          },
          "metadata": {},
          "execution_count": 12
        }
      ],
      "source": [
        "# Plotando AUC\n",
        "classification.plot_model(best_model, plot =\"auc\", plot_kwargs ={'classes':  [\"Dyslipidemia\", \"HC\",\"Healthy\", \"HT\"]})\n",
        "classification.plot_model(best_model, plot =\"auc\", plot_kwargs ={'classes':  [\"Dyslipidemia\", \"HC\",\"Healthy\", \"HT\"]}, save=True)"
      ],
      "id": "NAJL8dMqYLcd"
    },
    {
      "cell_type": "code",
      "execution_count": null,
      "metadata": {
        "colab": {
          "base_uri": "https://localhost:8080/",
          "height": 543
        },
        "id": "_ggsDtP0gcWb",
        "outputId": "6fcb4151-560f-43dd-802d-30d81a7a56da"
      },
      "outputs": [
        {
          "output_type": "display_data",
          "data": {
            "text/plain": [
              "<IPython.core.display.HTML object>"
            ],
            "text/html": []
          },
          "metadata": {}
        },
        {
          "output_type": "display_data",
          "data": {
            "text/plain": [
              "<Figure size 800x550 with 1 Axes>"
            ],
            "image/png": "[encoded data removed]"
          },
          "metadata": {}
        },
        {
          "output_type": "display_data",
          "data": {
            "text/plain": [
              "<IPython.core.display.HTML object>"
            ],
            "text/html": []
          },
          "metadata": {}
        },
        {
          "output_type": "execute_result",
          "data": {
            "text/plain": [
              "'Learning Curve.png'"
            ],
            "application/vnd.google.colaboratory.intrinsic+json": {
              "type": "string"
            }
          },
          "metadata": {},
          "execution_count": 13
        }
      ],
      "source": [
        "# Plotando decision boundary\n",
        "classification.plot_model(best_model, plot =\"learning\")\n",
        "classification.plot_model(best_model, plot =\"learning\", save=True)"
      ],
      "id": "_ggsDtP0gcWb"
    },
    {
      "cell_type": "markdown",
      "source": [
        "# # Step 9: Ploting the 10 most important wavenumbers\n"
      ],
      "metadata": {
        "id": "b4x3oV-uoafj"
      },
      "id": "b4x3oV-uoafj"
    },
    {
      "cell_type": "code",
      "execution_count": null,
      "metadata": {
        "id": "iC5-30xDdckh",
        "colab": {
          "base_uri": "https://localhost:8080/",
          "height": 504
        },
        "outputId": "daddbc35-3576-4a75-905d-74714f924c73"
      },
      "outputs": [
        {
          "output_type": "display_data",
          "data": {
            "text/plain": [
              "<IPython.core.display.HTML object>"
            ],
            "text/html": []
          },
          "metadata": {}
        },
        {
          "output_type": "display_data",
          "data": {
            "text/plain": [
              "<Figure size 800x500 with 1 Axes>"
            ],
            "image/png": "[encoded data removed]"
          },
          "metadata": {}
        },
        {
          "output_type": "display_data",
          "data": {
            "text/plain": [
              "<IPython.core.display.HTML object>"
            ],
            "text/html": []
          },
          "metadata": {}
        },
        {
          "output_type": "execute_result",
          "data": {
            "text/plain": [
              "'Feature Importance.png'"
            ],
            "application/vnd.google.colaboratory.intrinsic+json": {
              "type": "string"
            }
          },
          "metadata": {},
          "execution_count": 14
        }
      ],
      "source": [
        "# Step 9: Ploting the 10 most important wavenumbers\n",
        "classification.plot_model(best_model, plot =\"feature\")\n",
        "classification.plot_model(best_model, plot =\"feature\", save=True)"
      ],
      "id": "iC5-30xDdckh"
    },
    {
      "cell_type": "markdown",
      "source": [
        "# # Step 10: Conclusions about the model\n"
      ],
      "metadata": {
        "id": "6STX5bEyogiW"
      },
      "id": "6STX5bEyogiW"
    },
    {
      "cell_type": "code",
      "execution_count": null,
      "metadata": {
        "id": "NQn5jCHG-HNX"
      },
      "outputs": [],
      "source": [
        "# Step 10: Conclusions about the model\n",
        "# Several machine learning models have been built for predicting the diagnosis of dyslipidemia using infrared spectrum data from individuals' serum samples\n",
        "# GBC's model was one of those that showed the best predictive performance\n",
        "# The top 5 most important wavelengths for diagnosing dyslipidemia were:2978,2982,1658,1712,1402,2853\n",
        "# The next step is to develop the App so that the model can be used in health units to optimize the start of pharmacological treatment in patients with dyslipidemia"
      ],
      "id": "NQn5jCHG-HNX"
    },
    {
      "cell_type": "markdown",
      "source": [
        "# # # Step 11: Saving the model to make predictions in real life (Deploy)\n",
        "\n"
      ],
      "metadata": {
        "id": "793e5KBDpFxW"
      },
      "id": "793e5KBDpFxW"
    },
    {
      "cell_type": "code",
      "execution_count": null,
      "metadata": {
        "colab": {
          "base_uri": "https://localhost:8080/"
        },
        "id": "6d450f64",
        "outputId": "41557393-35bb-45b8-97a9-5528454b36a2"
      },
      "outputs": [
        {
          "output_type": "stream",
          "name": "stdout",
          "text": [
            "Transformation Pipeline and Model Successfully Saved\n"
          ]
        },
        {
          "output_type": "execute_result",
          "data": {
            "text/plain": [
              "(Pipeline(memory=Memory(location=None),\n",
              "          steps=[('label_encoding',\n",
              "                  TransformerWrapperWithInverse(exclude=None, include=None,\n",
              "                                                transformer=LabelEncoder())),\n",
              "                 ('numerical_imputer',\n",
              "                  TransformerWrapper(exclude=None,\n",
              "                                     include=['3000', '2999.5', '2998.1',\n",
              "                                              '2996.7', '2995.3', '2993.9',\n",
              "                                              '2992.4', '2991', '2989.6',\n",
              "                                              '2988.2', '2986.8', '2985.4',\n",
              "                                              '2983.9', '2982.5', '2981.1',\n",
              "                                              '2979.7',...\n",
              "                                             criterion='friedman_mse', init=None,\n",
              "                                             learning_rate=0.1, loss='log_loss',\n",
              "                                             max_depth=3, max_features=None,\n",
              "                                             max_leaf_nodes=None,\n",
              "                                             min_impurity_decrease=0.0,\n",
              "                                             min_samples_leaf=1,\n",
              "                                             min_samples_split=2,\n",
              "                                             min_weight_fraction_leaf=0.0,\n",
              "                                             n_estimators=100,\n",
              "                                             n_iter_no_change=None,\n",
              "                                             random_state=8047, subsample=1.0,\n",
              "                                             tol=0.0001, validation_fraction=0.1,\n",
              "                                             verbose=0, warm_start=False))],\n",
              "          verbose=False),\n",
              " 'melhor_modelo_gbc.pkl')"
            ]
          },
          "metadata": {},
          "execution_count": 16
        }
      ],
      "source": [
        "# Passo 11: Salvando o modelo para realizar predições na vida real (Deploy)\n",
        "classification.save_model(best_model, \"melhor_modelo_gbc\")"
      ],
      "id": "6d450f64"
    }
  ],
  "metadata": {
    "colab": {
      "machine_shape": "hm",
      "provenance": [],
      "toc_visible": true,
      "include_colab_link": true
    },
    "kernelspec": {
      "display_name": "Python 3",
      "name": "python3"
    },
    "language_info": {
      "codemirror_mode": {
        "name": "ipython",
        "version": 3
      },
      "file_extension": ".py",
      "mimetype": "text/x-python",
      "name": "python",
      "nbconvert_exporter": "python",
      "pygments_lexer": "ipython3",
      "version": "3.6.13"
    },
    "widgets": {
      "application/vnd.jupyter.widget-state+json": {
        "2647c4896cf5472a9d6faf5483009ce0": {
          "model_module": "@jupyter-widgets/controls",
          "model_name": "HBoxModel",
          "model_module_version": "1.5.0",
          "state": {
            "_dom_classes": [],
            "_model_module": "@jupyter-widgets/controls",
            "_model_module_version": "1.5.0",
            "_model_name": "HBoxModel",
            "_view_count": null,
            "_view_module": "@jupyter-widgets/controls",
            "_view_module_version": "1.5.0",
            "_view_name": "HBoxView",
            "box_style": "",
            "children": [
              "IPY_MODEL_04347f0d136e43d4aea4e5e55a38eb03",
              "IPY_MODEL_305bee1b75c94cfc94fe203d9a41998b",
              "IPY_MODEL_ab4777f95d4a42dca98e2096fd93ca16"
            ],
            "layout": "IPY_MODEL_04a76726e6004642baba30b536c4c752"
          }
        },
        "04347f0d136e43d4aea4e5e55a38eb03": {
          "model_module": "@jupyter-widgets/controls",
          "model_name": "HTMLModel",
          "model_module_version": "1.5.0",
          "state": {
            "_dom_classes": [],
            "_model_module": "@jupyter-widgets/controls",
            "_model_module_version": "1.5.0",
            "_model_name": "HTMLModel",
            "_view_count": null,
            "_view_module": "@jupyter-widgets/controls",
            "_view_module_version": "1.5.0",
            "_view_name": "HTMLView",
            "description": "",
            "description_tooltip": null,
            "layout": "IPY_MODEL_b9f129784c7a4346bd54d888acc17e1a",
            "placeholder": "​",
            "style": "IPY_MODEL_3c60964f03354f83a0326bca12e199ce",
            "value": "Processing: 100%"
          }
        },
        "305bee1b75c94cfc94fe203d9a41998b": {
          "model_module": "@jupyter-widgets/controls",
          "model_name": "FloatProgressModel",
          "model_module_version": "1.5.0",
          "state": {
            "_dom_classes": [],
            "_model_module": "@jupyter-widgets/controls",
            "_model_module_version": "1.5.0",
            "_model_name": "FloatProgressModel",
            "_view_count": null,
            "_view_module": "@jupyter-widgets/controls",
            "_view_module_version": "1.5.0",
            "_view_name": "ProgressView",
            "bar_style": "",
            "description": "",
            "description_tooltip": null,
            "layout": "IPY_MODEL_dbfb8369fb1146fbbb7d5f2c1bb274f9",
            "max": 61,
            "min": 0,
            "orientation": "horizontal",
            "style": "IPY_MODEL_5b1959276ee349128c1fd1c7bab3b13c",
            "value": 61
          }
        },
        "ab4777f95d4a42dca98e2096fd93ca16": {
          "model_module": "@jupyter-widgets/controls",
          "model_name": "HTMLModel",
          "model_module_version": "1.5.0",
          "state": {
            "_dom_classes": [],
            "_model_module": "@jupyter-widgets/controls",
            "_model_module_version": "1.5.0",
            "_model_name": "HTMLModel",
            "_view_count": null,
            "_view_module": "@jupyter-widgets/controls",
            "_view_module_version": "1.5.0",
            "_view_name": "HTMLView",
            "description": "",
            "description_tooltip": null,
            "layout": "IPY_MODEL_7af93505bc694797b700b6b39395cdb5",
            "placeholder": "​",
            "style": "IPY_MODEL_734d230004b34c0d9881bcf76e856f3c",
            "value": " 61/61 [00:22&lt;00:00,  5.06it/s]"
          }
        },
        "04a76726e6004642baba30b536c4c752": {
          "model_module": "@jupyter-widgets/base",
          "model_name": "LayoutModel",
          "model_module_version": "1.2.0",
          "state": {
            "_model_module": "@jupyter-widgets/base",
            "_model_module_version": "1.2.0",
            "_model_name": "LayoutModel",
            "_view_count": null,
            "_view_module": "@jupyter-widgets/base",
            "_view_module_version": "1.2.0",
            "_view_name": "LayoutView",
            "align_content": null,
            "align_items": null,
            "align_self": null,
            "border": null,
            "bottom": null,
            "display": null,
            "flex": null,
            "flex_flow": null,
            "grid_area": null,
            "grid_auto_columns": null,
            "grid_auto_flow": null,
            "grid_auto_rows": null,
            "grid_column": null,
            "grid_gap": null,
            "grid_row": null,
            "grid_template_areas": null,
            "grid_template_columns": null,
            "grid_template_rows": null,
            "height": null,
            "justify_content": null,
            "justify_items": null,
            "left": null,
            "margin": null,
            "max_height": null,
            "max_width": null,
            "min_height": null,
            "min_width": null,
            "object_fit": null,
            "object_position": null,
            "order": null,
            "overflow": null,
            "overflow_x": null,
            "overflow_y": null,
            "padding": null,
            "right": null,
            "top": null,
            "visibility": "hidden",
            "width": null
          }
        },
        "b9f129784c7a4346bd54d888acc17e1a": {
          "model_module": "@jupyter-widgets/base",
          "model_name": "LayoutModel",
          "model_module_version": "1.2.0",
          "state": {
            "_model_module": "@jupyter-widgets/base",
            "_model_module_version": "1.2.0",
            "_model_name": "LayoutModel",
            "_view_count": null,
            "_view_module": "@jupyter-widgets/base",
            "_view_module_version": "1.2.0",
            "_view_name": "LayoutView",
            "align_content": null,
            "align_items": null,
            "align_self": null,
            "border": null,
            "bottom": null,
            "display": null,
            "flex": null,
            "flex_flow": null,
            "grid_area": null,
            "grid_auto_columns": null,
            "grid_auto_flow": null,
            "grid_auto_rows": null,
            "grid_column": null,
            "grid_gap": null,
            "grid_row": null,
            "grid_template_areas": null,
            "grid_template_columns": null,
            "grid_template_rows": null,
            "height": null,
            "justify_content": null,
            "justify_items": null,
            "left": null,
            "margin": null,
            "max_height": null,
            "max_width": null,
            "min_height": null,
            "min_width": null,
            "object_fit": null,
            "object_position": null,
            "order": null,
            "overflow": null,
            "overflow_x": null,
            "overflow_y": null,
            "padding": null,
            "right": null,
            "top": null,
            "visibility": null,
            "width": null
          }
        },
        "3c60964f03354f83a0326bca12e199ce": {
          "model_module": "@jupyter-widgets/controls",
          "model_name": "DescriptionStyleModel",
          "model_module_version": "1.5.0",
          "state": {
            "_model_module": "@jupyter-widgets/controls",
            "_model_module_version": "1.5.0",
            "_model_name": "DescriptionStyleModel",
            "_view_count": null,
            "_view_module": "@jupyter-widgets/base",
            "_view_module_version": "1.2.0",
            "_view_name": "StyleView",
            "description_width": ""
          }
        },
        "dbfb8369fb1146fbbb7d5f2c1bb274f9": {
          "model_module": "@jupyter-widgets/base",
          "model_name": "LayoutModel",
          "model_module_version": "1.2.0",
          "state": {
            "_model_module": "@jupyter-widgets/base",
            "_model_module_version": "1.2.0",
            "_model_name": "LayoutModel",
            "_view_count": null,
            "_view_module": "@jupyter-widgets/base",
            "_view_module_version": "1.2.0",
            "_view_name": "LayoutView",
            "align_content": null,
            "align_items": null,
            "align_self": null,
            "border": null,
            "bottom": null,
            "display": null,
            "flex": null,
            "flex_flow": null,
            "grid_area": null,
            "grid_auto_columns": null,
            "grid_auto_flow": null,
            "grid_auto_rows": null,
            "grid_column": null,
            "grid_gap": null,
            "grid_row": null,
            "grid_template_areas": null,
            "grid_template_columns": null,
            "grid_template_rows": null,
            "height": null,
            "justify_content": null,
            "justify_items": null,
            "left": null,
            "margin": null,
            "max_height": null,
            "max_width": null,
            "min_height": null,
            "min_width": null,
            "object_fit": null,
            "object_position": null,
            "order": null,
            "overflow": null,
            "overflow_x": null,
            "overflow_y": null,
            "padding": null,
            "right": null,
            "top": null,
            "visibility": null,
            "width": null
          }
        },
        "5b1959276ee349128c1fd1c7bab3b13c": {
          "model_module": "@jupyter-widgets/controls",
          "model_name": "ProgressStyleModel",
          "model_module_version": "1.5.0",
          "state": {
            "_model_module": "@jupyter-widgets/controls",
            "_model_module_version": "1.5.0",
            "_model_name": "ProgressStyleModel",
            "_view_count": null,
            "_view_module": "@jupyter-widgets/base",
            "_view_module_version": "1.2.0",
            "_view_name": "StyleView",
            "bar_color": null,
            "description_width": ""
          }
        },
        "7af93505bc694797b700b6b39395cdb5": {
          "model_module": "@jupyter-widgets/base",
          "model_name": "LayoutModel",
          "model_module_version": "1.2.0",
          "state": {
            "_model_module": "@jupyter-widgets/base",
            "_model_module_version": "1.2.0",
            "_model_name": "LayoutModel",
            "_view_count": null,
            "_view_module": "@jupyter-widgets/base",
            "_view_module_version": "1.2.0",
            "_view_name": "LayoutView",
            "align_content": null,
            "align_items": null,
            "align_self": null,
            "border": null,
            "bottom": null,
            "display": null,
            "flex": null,
            "flex_flow": null,
            "grid_area": null,
            "grid_auto_columns": null,
            "grid_auto_flow": null,
            "grid_auto_rows": null,
            "grid_column": null,
            "grid_gap": null,
            "grid_row": null,
            "grid_template_areas": null,
            "grid_template_columns": null,
            "grid_template_rows": null,
            "height": null,
            "justify_content": null,
            "justify_items": null,
            "left": null,
            "margin": null,
            "max_height": null,
            "max_width": null,
            "min_height": null,
            "min_width": null,
            "object_fit": null,
            "object_position": null,
            "order": null,
            "overflow": null,
            "overflow_x": null,
            "overflow_y": null,
            "padding": null,
            "right": null,
            "top": null,
            "visibility": null,
            "width": null
          }
        },
        "734d230004b34c0d9881bcf76e856f3c": {
          "model_module": "@jupyter-widgets/controls",
          "model_name": "DescriptionStyleModel",
          "model_module_version": "1.5.0",
          "state": {
            "_model_module": "@jupyter-widgets/controls",
            "_model_module_version": "1.5.0",
            "_model_name": "DescriptionStyleModel",
            "_view_count": null,
            "_view_module": "@jupyter-widgets/base",
            "_view_module_version": "1.2.0",
            "_view_name": "StyleView",
            "description_width": ""
          }
        },
        "e16b1ac20ea1417989c78c122729ce8e": {
          "model_module": "@jupyter-widgets/controls",
          "model_name": "HBoxModel",
          "model_module_version": "1.5.0",
          "state": {
            "_dom_classes": [],
            "_model_module": "@jupyter-widgets/controls",
            "_model_module_version": "1.5.0",
            "_model_name": "HBoxModel",
            "_view_count": null,
            "_view_module": "@jupyter-widgets/controls",
            "_view_module_version": "1.5.0",
            "_view_name": "HBoxView",
            "box_style": "",
            "children": [
              "IPY_MODEL_11601799b1d249039a30efb577c66a8e",
              "IPY_MODEL_70d030e1b5f946e490549fd865f0818f",
              "IPY_MODEL_8132e0007f7946de96bafbf024bbe9bf"
            ],
            "layout": "IPY_MODEL_165893b1d88e4b19b73d06eaf0ef69c9"
          }
        },
        "11601799b1d249039a30efb577c66a8e": {
          "model_module": "@jupyter-widgets/controls",
          "model_name": "HTMLModel",
          "model_module_version": "1.5.0",
          "state": {
            "_dom_classes": [],
            "_model_module": "@jupyter-widgets/controls",
            "_model_module_version": "1.5.0",
            "_model_name": "HTMLModel",
            "_view_count": null,
            "_view_module": "@jupyter-widgets/controls",
            "_view_module_version": "1.5.0",
            "_view_name": "HTMLView",
            "description": "",
            "description_tooltip": null,
            "layout": "IPY_MODEL_4cb1d244797f4e23bb15e9010ed9ea71",
            "placeholder": "​",
            "style": "IPY_MODEL_d57c0c838c4d43b79cdf0e3479d64e52",
            "value": "Processing: 100%"
          }
        },
        "70d030e1b5f946e490549fd865f0818f": {
          "model_module": "@jupyter-widgets/controls",
          "model_name": "FloatProgressModel",
          "model_module_version": "1.5.0",
          "state": {
            "_dom_classes": [],
            "_model_module": "@jupyter-widgets/controls",
            "_model_module_version": "1.5.0",
            "_model_name": "FloatProgressModel",
            "_view_count": null,
            "_view_module": "@jupyter-widgets/controls",
            "_view_module_version": "1.5.0",
            "_view_name": "ProgressView",
            "bar_style": "",
            "description": "",
            "description_tooltip": null,
            "layout": "IPY_MODEL_b5c1a7ca7169455e87ae34b13593f56a",
            "max": 4,
            "min": 0,
            "orientation": "horizontal",
            "style": "IPY_MODEL_5fd81509e45e4e818b2453be74a34be9",
            "value": 4
          }
        },
        "8132e0007f7946de96bafbf024bbe9bf": {
          "model_module": "@jupyter-widgets/controls",
          "model_name": "HTMLModel",
          "model_module_version": "1.5.0",
          "state": {
            "_dom_classes": [],
            "_model_module": "@jupyter-widgets/controls",
            "_model_module_version": "1.5.0",
            "_model_name": "HTMLModel",
            "_view_count": null,
            "_view_module": "@jupyter-widgets/controls",
            "_view_module_version": "1.5.0",
            "_view_name": "HTMLView",
            "description": "",
            "description_tooltip": null,
            "layout": "IPY_MODEL_bc5ceb9232d4413ab8ed9bb6c67f1589",
            "placeholder": "​",
            "style": "IPY_MODEL_5c57b25f63634c0cbdc12b96b90a0642",
            "value": " 4/4 [00:11&lt;00:00,  2.79s/it]"
          }
        },
        "165893b1d88e4b19b73d06eaf0ef69c9": {
          "model_module": "@jupyter-widgets/base",
          "model_name": "LayoutModel",
          "model_module_version": "1.2.0",
          "state": {
            "_model_module": "@jupyter-widgets/base",
            "_model_module_version": "1.2.0",
            "_model_name": "LayoutModel",
            "_view_count": null,
            "_view_module": "@jupyter-widgets/base",
            "_view_module_version": "1.2.0",
            "_view_name": "LayoutView",
            "align_content": null,
            "align_items": null,
            "align_self": null,
            "border": null,
            "bottom": null,
            "display": null,
            "flex": null,
            "flex_flow": null,
            "grid_area": null,
            "grid_auto_columns": null,
            "grid_auto_flow": null,
            "grid_auto_rows": null,
            "grid_column": null,
            "grid_gap": null,
            "grid_row": null,
            "grid_template_areas": null,
            "grid_template_columns": null,
            "grid_template_rows": null,
            "height": null,
            "justify_content": null,
            "justify_items": null,
            "left": null,
            "margin": null,
            "max_height": null,
            "max_width": null,
            "min_height": null,
            "min_width": null,
            "object_fit": null,
            "object_position": null,
            "order": null,
            "overflow": null,
            "overflow_x": null,
            "overflow_y": null,
            "padding": null,
            "right": null,
            "top": null,
            "visibility": "hidden",
            "width": null
          }
        },
        "4cb1d244797f4e23bb15e9010ed9ea71": {
          "model_module": "@jupyter-widgets/base",
          "model_name": "LayoutModel",
          "model_module_version": "1.2.0",
          "state": {
            "_model_module": "@jupyter-widgets/base",
            "_model_module_version": "1.2.0",
            "_model_name": "LayoutModel",
            "_view_count": null,
            "_view_module": "@jupyter-widgets/base",
            "_view_module_version": "1.2.0",
            "_view_name": "LayoutView",
            "align_content": null,
            "align_items": null,
            "align_self": null,
            "border": null,
            "bottom": null,
            "display": null,
            "flex": null,
            "flex_flow": null,
            "grid_area": null,
            "grid_auto_columns": null,
            "grid_auto_flow": null,
            "grid_auto_rows": null,
            "grid_column": null,
            "grid_gap": null,
            "grid_row": null,
            "grid_template_areas": null,
            "grid_template_columns": null,
            "grid_template_rows": null,
            "height": null,
            "justify_content": null,
            "justify_items": null,
            "left": null,
            "margin": null,
            "max_height": null,
            "max_width": null,
            "min_height": null,
            "min_width": null,
            "object_fit": null,
            "object_position": null,
            "order": null,
            "overflow": null,
            "overflow_x": null,
            "overflow_y": null,
            "padding": null,
            "right": null,
            "top": null,
            "visibility": null,
            "width": null
          }
        },
        "d57c0c838c4d43b79cdf0e3479d64e52": {
          "model_module": "@jupyter-widgets/controls",
          "model_name": "DescriptionStyleModel",
          "model_module_version": "1.5.0",
          "state": {
            "_model_module": "@jupyter-widgets/controls",
            "_model_module_version": "1.5.0",
            "_model_name": "DescriptionStyleModel",
            "_view_count": null,
            "_view_module": "@jupyter-widgets/base",
            "_view_module_version": "1.2.0",
            "_view_name": "StyleView",
            "description_width": ""
          }
        },
        "b5c1a7ca7169455e87ae34b13593f56a": {
          "model_module": "@jupyter-widgets/base",
          "model_name": "LayoutModel",
          "model_module_version": "1.2.0",
          "state": {
            "_model_module": "@jupyter-widgets/base",
            "_model_module_version": "1.2.0",
            "_model_name": "LayoutModel",
            "_view_count": null,
            "_view_module": "@jupyter-widgets/base",
            "_view_module_version": "1.2.0",
            "_view_name": "LayoutView",
            "align_content": null,
            "align_items": null,
            "align_self": null,
            "border": null,
            "bottom": null,
            "display": null,
            "flex": null,
            "flex_flow": null,
            "grid_area": null,
            "grid_auto_columns": null,
            "grid_auto_flow": null,
            "grid_auto_rows": null,
            "grid_column": null,
            "grid_gap": null,
            "grid_row": null,
            "grid_template_areas": null,
            "grid_template_columns": null,
            "grid_template_rows": null,
            "height": null,
            "justify_content": null,
            "justify_items": null,
            "left": null,
            "margin": null,
            "max_height": null,
            "max_width": null,
            "min_height": null,
            "min_width": null,
            "object_fit": null,
            "object_position": null,
            "order": null,
            "overflow": null,
            "overflow_x": null,
            "overflow_y": null,
            "padding": null,
            "right": null,
            "top": null,
            "visibility": null,
            "width": null
          }
        },
        "5fd81509e45e4e818b2453be74a34be9": {
          "model_module": "@jupyter-widgets/controls",
          "model_name": "ProgressStyleModel",
          "model_module_version": "1.5.0",
          "state": {
            "_model_module": "@jupyter-widgets/controls",
            "_model_module_version": "1.5.0",
            "_model_name": "ProgressStyleModel",
            "_view_count": null,
            "_view_module": "@jupyter-widgets/base",
            "_view_module_version": "1.2.0",
            "_view_name": "StyleView",
            "bar_color": null,
            "description_width": ""
          }
        },
        "bc5ceb9232d4413ab8ed9bb6c67f1589": {
          "model_module": "@jupyter-widgets/base",
          "model_name": "LayoutModel",
          "model_module_version": "1.2.0",
          "state": {
            "_model_module": "@jupyter-widgets/base",
            "_model_module_version": "1.2.0",
            "_model_name": "LayoutModel",
            "_view_count": null,
            "_view_module": "@jupyter-widgets/base",
            "_view_module_version": "1.2.0",
            "_view_name": "LayoutView",
            "align_content": null,
            "align_items": null,
            "align_self": null,
            "border": null,
            "bottom": null,
            "display": null,
            "flex": null,
            "flex_flow": null,
            "grid_area": null,
            "grid_auto_columns": null,
            "grid_auto_flow": null,
            "grid_auto_rows": null,
            "grid_column": null,
            "grid_gap": null,
            "grid_row": null,
            "grid_template_areas": null,
            "grid_template_columns": null,
            "grid_template_rows": null,
            "height": null,
            "justify_content": null,
            "justify_items": null,
            "left": null,
            "margin": null,
            "max_height": null,
            "max_width": null,
            "min_height": null,
            "min_width": null,
            "object_fit": null,
            "object_position": null,
            "order": null,
            "overflow": null,
            "overflow_x": null,
            "overflow_y": null,
            "padding": null,
            "right": null,
            "top": null,
            "visibility": null,
            "width": null
          }
        },
        "5c57b25f63634c0cbdc12b96b90a0642": {
          "model_module": "@jupyter-widgets/controls",
          "model_name": "DescriptionStyleModel",
          "model_module_version": "1.5.0",
          "state": {
            "_model_module": "@jupyter-widgets/controls",
            "_model_module_version": "1.5.0",
            "_model_name": "DescriptionStyleModel",
            "_view_count": null,
            "_view_module": "@jupyter-widgets/base",
            "_view_module_version": "1.2.0",
            "_view_name": "StyleView",
            "description_width": ""
          }
        },
        "7549cf3c03524834b9255fed0877c84c": {
          "model_module": "@jupyter-widgets/controls",
          "model_name": "VBoxModel",
          "model_module_version": "1.5.0",
          "state": {
            "_dom_classes": [
              "widget-interact"
            ],
            "_model_module": "@jupyter-widgets/controls",
            "_model_module_version": "1.5.0",
            "_model_name": "VBoxModel",
            "_view_count": null,
            "_view_module": "@jupyter-widgets/controls",
            "_view_module_version": "1.5.0",
            "_view_name": "VBoxView",
            "box_style": "",
            "children": [
              "IPY_MODEL_4a0c7a9d29a24a07a800190ef29654a1",
              "IPY_MODEL_ccdc2de4565a41dd958a1daa2e119061"
            ],
            "layout": "IPY_MODEL_f26d3819c4e6453ca81edcd7a9eee0cb"
          }
        },
        "4a0c7a9d29a24a07a800190ef29654a1": {
          "model_module": "@jupyter-widgets/controls",
          "model_name": "ToggleButtonsModel",
          "model_module_version": "1.5.0",
          "state": {
            "_dom_classes": [],
            "_model_module": "@jupyter-widgets/controls",
            "_model_module_version": "1.5.0",
            "_model_name": "ToggleButtonsModel",
            "_options_labels": [
              "Pipeline Plot",
              "Hyperparameters",
              "AUC",
              "Confusion Matrix",
              "Threshold",
              "Precision Recall",
              "Prediction Error",
              "Class Report",
              "Feature Selection",
              "Learning Curve",
              "Manifold Learning",
              "Calibration Curve",
              "Validation Curve",
              "Dimensions",
              "Feature Importance",
              "Feature Importance (All)",
              "Decision Boundary",
              "Lift Chart",
              "Gain Chart",
              "Decision Tree",
              "KS Statistic Plot"
            ],
            "_view_count": null,
            "_view_module": "@jupyter-widgets/controls",
            "_view_module_version": "1.5.0",
            "_view_name": "ToggleButtonsView",
            "button_style": "",
            "description": "Plot Type:",
            "description_tooltip": null,
            "disabled": false,
            "icons": [
              ""
            ],
            "index": 0,
            "layout": "IPY_MODEL_838d2114a8a94e17b413ddac6aebd871",
            "style": "IPY_MODEL_1cd0a4e2458a415f9f2eb2f7c9700e14",
            "tooltips": []
          }
        },
        "ccdc2de4565a41dd958a1daa2e119061": {
          "model_module": "@jupyter-widgets/output",
          "model_name": "OutputModel",
          "model_module_version": "1.0.0",
          "state": {
            "_dom_classes": [],
            "_model_module": "@jupyter-widgets/output",
            "_model_module_version": "1.0.0",
            "_model_name": "OutputModel",
            "_view_count": null,
            "_view_module": "@jupyter-widgets/output",
            "_view_module_version": "1.0.0",
            "_view_name": "OutputView",
            "layout": "IPY_MODEL_4a749a2e3e8c4f1ca456a40bcdcf9523",
            "msg_id": "",
            "outputs": [
              {
                "output_type": "display_data",
                "data": {
                  "text/plain": "<Figure size 2200x600 with 1 Axes>",
                  "image/png": "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\n"
                },
                "metadata": {}
              }
            ]
          }
        },
        "f26d3819c4e6453ca81edcd7a9eee0cb": {
          "model_module": "@jupyter-widgets/base",
          "model_name": "LayoutModel",
          "model_module_version": "1.2.0",
          "state": {
            "_model_module": "@jupyter-widgets/base",
            "_model_module_version": "1.2.0",
            "_model_name": "LayoutModel",
            "_view_count": null,
            "_view_module": "@jupyter-widgets/base",
            "_view_module_version": "1.2.0",
            "_view_name": "LayoutView",
            "align_content": null,
            "align_items": null,
            "align_self": null,
            "border": null,
            "bottom": null,
            "display": null,
            "flex": null,
            "flex_flow": null,
            "grid_area": null,
            "grid_auto_columns": null,
            "grid_auto_flow": null,
            "grid_auto_rows": null,
            "grid_column": null,
            "grid_gap": null,
            "grid_row": null,
            "grid_template_areas": null,
            "grid_template_columns": null,
            "grid_template_rows": null,
            "height": null,
            "justify_content": null,
            "justify_items": null,
            "left": null,
            "margin": null,
            "max_height": null,
            "max_width": null,
            "min_height": null,
            "min_width": null,
            "object_fit": null,
            "object_position": null,
            "order": null,
            "overflow": null,
            "overflow_x": null,
            "overflow_y": null,
            "padding": null,
            "right": null,
            "top": null,
            "visibility": null,
            "width": null
          }
        },
        "838d2114a8a94e17b413ddac6aebd871": {
          "model_module": "@jupyter-widgets/base",
          "model_name": "LayoutModel",
          "model_module_version": "1.2.0",
          "state": {
            "_model_module": "@jupyter-widgets/base",
            "_model_module_version": "1.2.0",
            "_model_name": "LayoutModel",
            "_view_count": null,
            "_view_module": "@jupyter-widgets/base",
            "_view_module_version": "1.2.0",
            "_view_name": "LayoutView",
            "align_content": null,
            "align_items": null,
            "align_self": null,
            "border": null,
            "bottom": null,
            "display": null,
            "flex": null,
            "flex_flow": null,
            "grid_area": null,
            "grid_auto_columns": null,
            "grid_auto_flow": null,
            "grid_auto_rows": null,
            "grid_column": null,
            "grid_gap": null,
            "grid_row": null,
            "grid_template_areas": null,
            "grid_template_columns": null,
            "grid_template_rows": null,
            "height": null,
            "justify_content": null,
            "justify_items": null,
            "left": null,
            "margin": null,
            "max_height": null,
            "max_width": null,
            "min_height": null,
            "min_width": null,
            "object_fit": null,
            "object_position": null,
            "order": null,
            "overflow": null,
            "overflow_x": null,
            "overflow_y": null,
            "padding": null,
            "right": null,
            "top": null,
            "visibility": null,
            "width": null
          }
        },
        "1cd0a4e2458a415f9f2eb2f7c9700e14": {
          "model_module": "@jupyter-widgets/controls",
          "model_name": "ToggleButtonsStyleModel",
          "model_module_version": "1.5.0",
          "state": {
            "_model_module": "@jupyter-widgets/controls",
            "_model_module_version": "1.5.0",
            "_model_name": "ToggleButtonsStyleModel",
            "_view_count": null,
            "_view_module": "@jupyter-widgets/base",
            "_view_module_version": "1.2.0",
            "_view_name": "StyleView",
            "button_width": "",
            "description_width": "",
            "font_weight": ""
          }
        },
        "4a749a2e3e8c4f1ca456a40bcdcf9523": {
          "model_module": "@jupyter-widgets/base",
          "model_name": "LayoutModel",
          "model_module_version": "1.2.0",
          "state": {
            "_model_module": "@jupyter-widgets/base",
            "_model_module_version": "1.2.0",
            "_model_name": "LayoutModel",
            "_view_count": null,
            "_view_module": "@jupyter-widgets/base",
            "_view_module_version": "1.2.0",
            "_view_name": "LayoutView",
            "align_content": null,
            "align_items": null,
            "align_self": null,
            "border": null,
            "bottom": null,
            "display": null,
            "flex": null,
            "flex_flow": null,
            "grid_area": null,
            "grid_auto_columns": null,
            "grid_auto_flow": null,
            "grid_auto_rows": null,
            "grid_column": null,
            "grid_gap": null,
            "grid_row": null,
            "grid_template_areas": null,
            "grid_template_columns": null,
            "grid_template_rows": null,
            "height": null,
            "justify_content": null,
            "justify_items": null,
            "left": null,
            "margin": null,
            "max_height": null,
            "max_width": null,
            "min_height": null,
            "min_width": null,
            "object_fit": null,
            "object_position": null,
            "order": null,
            "overflow": null,
            "overflow_x": null,
            "overflow_y": null,
            "padding": null,
            "right": null,
            "top": null,
            "visibility": null,
            "width": null
          }
        }
      }
    }
  },
  "nbformat": 4,
  "nbformat_minor": 5
}