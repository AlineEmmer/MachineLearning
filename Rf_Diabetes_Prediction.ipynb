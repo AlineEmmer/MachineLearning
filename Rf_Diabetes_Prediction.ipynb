{
  "cells": [
    {
      "cell_type": "markdown",
      "metadata": {
        "id": "view-in-github",
        "colab_type": "text"
      },
      "source": [
        "<a href=\"https://colab.research.google.com/github/AlineEmmer/MachineLearning/blob/main/Rf_Diabetes_Prediction.ipynb\" target=\"_parent\"><img src=\"https://colab.research.google.com/assets/colab-badge.svg\" alt=\"Open In Colab\"/></a>"
      ]
    },
    {
      "cell_type": "markdown",
      "metadata": {
        "id": "7da0e5ca"
      },
      "source": [
        "#This project analyzed a database containing infrared spectra of patients: group 0 = patients with diabetes (n=100), group 1 = normoglycemic individuals (n=400), and group 2 = patients with pre-diabetes (n=100). The variables were selected using PCA (Matlab) (1800 - 400 cm-1, n=284). The aim is to develop a machine learning model for predicting diabetes in order to optimize diagnosis\n"
      ],
      "id": "7da0e5ca"
    },
    {
      "cell_type": "code",
      "execution_count": null,
      "metadata": {
        "id": "v13OXQGW32Jv"
      },
      "outputs": [],
      "source": [
        "# Task to be performed\n",
        "# Step 1: Import the database\n",
        "# Step 2: Import the Pandas library to help manipulate the database\n",
        "# Step 3: Installing the Pycaret library (helps to perform Auto-Machine Learn)\n",
        "# Step 4: Importing the Pycaret library\n",
        "# Step 5: Pre-processing the data\n",
        "# Step 6: Building and comparing different models\n",
        "# Step 7: Training the best model based on predictive performance metrics\n",
        "# Step 8: Extracting the results of the model's metrics\n",
        "# Step 9: Ploting the 10 most important wavenumbers\n",
        "# Step 10: Conclusions about the model\n",
        "# Step 11: Saving the model to make predictions in real life (Deploy)"
      ],
      "id": "v13OXQGW32Jv"
    },
    {
      "cell_type": "markdown",
      "source": [
        "# # Step 1: Import the database\n"
      ],
      "metadata": {
        "id": "J9r7lCahnEGd"
      },
      "id": "J9r7lCahnEGd"
    },
    {
      "cell_type": "code",
      "execution_count": null,
      "metadata": {
        "colab": {
          "base_uri": "https://localhost:8080/",
          "height": 73
        },
        "id": "2N_0Ipu7mqGN",
        "outputId": "41bd7b92-0ea7-4c7a-c3fe-92bf0d871399"
      },
      "outputs": [
        {
          "output_type": "display_data",
          "data": {
            "text/plain": [
              "<IPython.core.display.HTML object>"
            ],
            "text/html": [
              "\n",
              "     <input type=\"file\" id=\"files-ab97c3cd-f0b7-4c36-b32e-d046479ae2b5\" name=\"files[]\" multiple disabled\n",
              "        style=\"border:none\" />\n",
              "     <output id=\"result-ab97c3cd-f0b7-4c36-b32e-d046479ae2b5\">\n",
              "      Upload widget is only available when the cell has been executed in the\n",
              "      current browser session. Please rerun this cell to enable.\n",
              "      </output>\n",
              "      <script>// Copyright 2017 Google LLC\n",
              "//\n",
              "// Licensed under the Apache License, Version 2.0 (the \"License\");\n",
              "// you may not use this file except in compliance with the License.\n",
              "// You may obtain a copy of the License at\n",
              "//\n",
              "//      http://www.apache.org/licenses/LICENSE-2.0\n",
              "//\n",
              "// Unless required by applicable law or agreed to in writing, software\n",
              "// distributed under the License is distributed on an \"AS IS\" BASIS,\n",
              "// WITHOUT WARRANTIES OR CONDITIONS OF ANY KIND, either express or implied.\n",
              "// See the License for the specific language governing permissions and\n",
              "// limitations under the License.\n",
              "\n",
              "/**\n",
              " * @fileoverview Helpers for google.colab Python module.\n",
              " */\n",
              "(function(scope) {\n",
              "function span(text, styleAttributes = {}) {\n",
              "  const element = document.createElement('span');\n",
              "  element.textContent = text;\n",
              "  for (const key of Object.keys(styleAttributes)) {\n",
              "    element.style[key] = styleAttributes[key];\n",
              "  }\n",
              "  return element;\n",
              "}\n",
              "\n",
              "// Max number of bytes which will be uploaded at a time.\n",
              "const MAX_PAYLOAD_SIZE = 100 * 1024;\n",
              "\n",
              "function _uploadFiles(inputId, outputId) {\n",
              "  const steps = uploadFilesStep(inputId, outputId);\n",
              "  const outputElement = document.getElementById(outputId);\n",
              "  // Cache steps on the outputElement to make it available for the next call\n",
              "  // to uploadFilesContinue from Python.\n",
              "  outputElement.steps = steps;\n",
              "\n",
              "  return _uploadFilesContinue(outputId);\n",
              "}\n",
              "\n",
              "// This is roughly an async generator (not supported in the browser yet),\n",
              "// where there are multiple asynchronous steps and the Python side is going\n",
              "// to poll for completion of each step.\n",
              "// This uses a Promise to block the python side on completion of each step,\n",
              "// then passes the result of the previous step as the input to the next step.\n",
              "function _uploadFilesContinue(outputId) {\n",
              "  const outputElement = document.getElementById(outputId);\n",
              "  const steps = outputElement.steps;\n",
              "\n",
              "  const next = steps.next(outputElement.lastPromiseValue);\n",
              "  return Promise.resolve(next.value.promise).then((value) => {\n",
              "    // Cache the last promise value to make it available to the next\n",
              "    // step of the generator.\n",
              "    outputElement.lastPromiseValue = value;\n",
              "    return next.value.response;\n",
              "  });\n",
              "}\n",
              "\n",
              "/**\n",
              " * Generator function which is called between each async step of the upload\n",
              " * process.\n",
              " * @param {string} inputId Element ID of the input file picker element.\n",
              " * @param {string} outputId Element ID of the output display.\n",
              " * @return {!Iterable<!Object>} Iterable of next steps.\n",
              " */\n",
              "function* uploadFilesStep(inputId, outputId) {\n",
              "  const inputElement = document.getElementById(inputId);\n",
              "  inputElement.disabled = false;\n",
              "\n",
              "  const outputElement = document.getElementById(outputId);\n",
              "  outputElement.innerHTML = '';\n",
              "\n",
              "  const pickedPromise = new Promise((resolve) => {\n",
              "    inputElement.addEventListener('change', (e) => {\n",
              "      resolve(e.target.files);\n",
              "    });\n",
              "  });\n",
              "\n",
              "  const cancel = document.createElement('button');\n",
              "  inputElement.parentElement.appendChild(cancel);\n",
              "  cancel.textContent = 'Cancel upload';\n",
              "  const cancelPromise = new Promise((resolve) => {\n",
              "    cancel.onclick = () => {\n",
              "      resolve(null);\n",
              "    };\n",
              "  });\n",
              "\n",
              "  // Wait for the user to pick the files.\n",
              "  const files = yield {\n",
              "    promise: Promise.race([pickedPromise, cancelPromise]),\n",
              "    response: {\n",
              "      action: 'starting',\n",
              "    }\n",
              "  };\n",
              "\n",
              "  cancel.remove();\n",
              "\n",
              "  // Disable the input element since further picks are not allowed.\n",
              "  inputElement.disabled = true;\n",
              "\n",
              "  if (!files) {\n",
              "    return {\n",
              "      response: {\n",
              "        action: 'complete',\n",
              "      }\n",
              "    };\n",
              "  }\n",
              "\n",
              "  for (const file of files) {\n",
              "    const li = document.createElement('li');\n",
              "    li.append(span(file.name, {fontWeight: 'bold'}));\n",
              "    li.append(span(\n",
              "        `(${file.type || 'n/a'}) - ${file.size} bytes, ` +\n",
              "        `last modified: ${\n",
              "            file.lastModifiedDate ? file.lastModifiedDate.toLocaleDateString() :\n",
              "                                    'n/a'} - `));\n",
              "    const percent = span('0% done');\n",
              "    li.appendChild(percent);\n",
              "\n",
              "    outputElement.appendChild(li);\n",
              "\n",
              "    const fileDataPromise = new Promise((resolve) => {\n",
              "      const reader = new FileReader();\n",
              "      reader.onload = (e) => {\n",
              "        resolve(e.target.result);\n",
              "      };\n",
              "      reader.readAsArrayBuffer(file);\n",
              "    });\n",
              "    // Wait for the data to be ready.\n",
              "    let fileData = yield {\n",
              "      promise: fileDataPromise,\n",
              "      response: {\n",
              "        action: 'continue',\n",
              "      }\n",
              "    };\n",
              "\n",
              "    // Use a chunked sending to avoid message size limits. See b/62115660.\n",
              "    let position = 0;\n",
              "    do {\n",
              "      const length = Math.min(fileData.byteLength - position, MAX_PAYLOAD_SIZE);\n",
              "      const chunk = new Uint8Array(fileData, position, length);\n",
              "      position += length;\n",
              "\n",
              "      const base64 = btoa(String.fromCharCode.apply(null, chunk));\n",
              "      yield {\n",
              "        response: {\n",
              "          action: 'append',\n",
              "          file: file.name,\n",
              "          data: base64,\n",
              "        },\n",
              "      };\n",
              "\n",
              "      let percentDone = fileData.byteLength === 0 ?\n",
              "          100 :\n",
              "          Math.round((position / fileData.byteLength) * 100);\n",
              "      percent.textContent = `${percentDone}% done`;\n",
              "\n",
              "    } while (position < fileData.byteLength);\n",
              "  }\n",
              "\n",
              "  // All done.\n",
              "  yield {\n",
              "    response: {\n",
              "      action: 'complete',\n",
              "    }\n",
              "  };\n",
              "}\n",
              "\n",
              "scope.google = scope.google || {};\n",
              "scope.google.colab = scope.google.colab || {};\n",
              "scope.google.colab._files = {\n",
              "  _uploadFiles,\n",
              "  _uploadFilesContinue,\n",
              "};\n",
              "})(self);\n",
              "</script> "
            ]
          },
          "metadata": {}
        },
        {
          "output_type": "stream",
          "name": "stdout",
          "text": [
            "Saving Diabetes_ML1800_1400.xlsx to Diabetes_ML1800_1400.xlsx\n"
          ]
        }
      ],
      "source": [
        "# Step 1: Import the database\n",
        "\n",
        "from google.colab import files\n",
        "uploaded = files.upload()"
      ],
      "id": "2N_0Ipu7mqGN"
    },
    {
      "cell_type": "markdown",
      "source": [
        "# # Step 2: Import the Pandas library to help manipulate the database\n"
      ],
      "metadata": {
        "id": "KXD0FmQmnaht"
      },
      "id": "KXD0FmQmnaht"
    },
    {
      "cell_type": "code",
      "execution_count": null,
      "metadata": {
        "id": "Y4YeHICemuoc",
        "colab": {
          "base_uri": "https://localhost:8080/",
          "height": 424
        },
        "outputId": "e49bc650-b50a-4740-f537-eb84f98e36ce"
      },
      "outputs": [
        {
          "output_type": "display_data",
          "data": {
            "text/plain": [
              "     Classes    1800  1799.4    1798  1796.6  1795.2  1793.8  1792.3  1790.9  \\\n",
              "0          0  0.9884  0.9881  0.9881  0.9881  0.9880  0.9872  0.9858  0.9850   \n",
              "1          0  0.9886  0.9881  0.9880  0.9882  0.9882  0.9875  0.9861  0.9854   \n",
              "2          0  0.9889  0.9885  0.9883  0.9882  0.9877  0.9867  0.9853  0.9847   \n",
              "3          0  0.9883  0.9880  0.9880  0.9881  0.9880  0.9872  0.9857  0.9849   \n",
              "4          0  0.9887  0.9882  0.9880  0.9881  0.9880  0.9873  0.9859  0.9851   \n",
              "..       ...     ...     ...     ...     ...     ...     ...     ...     ...   \n",
              "595        2  0.9648  0.9645  0.9642  0.9639  0.9634  0.9630  0.9627  0.9625   \n",
              "596        2  0.9651  0.9647  0.9643  0.9638  0.9634  0.9629  0.9625  0.9624   \n",
              "597        2  0.9644  0.9642  0.9639  0.9636  0.9633  0.9630  0.9627  0.9626   \n",
              "598        2  0.9648  0.9642  0.9637  0.9633  0.9630  0.9628  0.9628  0.9628   \n",
              "599        2  0.9648  0.9642  0.9637  0.9633  0.9630  0.9628  0.9628  0.9628   \n",
              "\n",
              "     1789.5  ...  1412.6  1411.2  1409.8  1408.4    1407  1405.5  1404.1  \\\n",
              "0    0.9855  ...  0.9209  0.9207  0.9202  0.9196  0.9188  0.9179  0.9175   \n",
              "1    0.9861  ...  0.9156  0.9153  0.9147  0.9139  0.9128  0.9115  0.9109   \n",
              "2    0.9856  ...  0.9205  0.9203  0.9199  0.9193  0.9184  0.9174  0.9169   \n",
              "3    0.9855  ...  0.9197  0.9196  0.9193  0.9187  0.9178  0.9167  0.9161   \n",
              "4    0.9855  ...  0.9188  0.9186  0.9182  0.9177  0.9168  0.9158  0.9153   \n",
              "..      ...  ...     ...     ...     ...     ...     ...     ...     ...   \n",
              "595  0.9625  ...  0.8995  0.8993  0.8990  0.8987  0.8984  0.8981  0.8978   \n",
              "596  0.9625  ...  0.8989  0.8988  0.8987  0.8985  0.8982  0.8978  0.8973   \n",
              "597  0.9626  ...  0.8986  0.8985  0.8982  0.8979  0.8976  0.8972  0.8968   \n",
              "598  0.9625  ...  0.8984  0.8983  0.8980  0.8977  0.8973  0.8969  0.8965   \n",
              "599  0.9625  ...  0.8984  0.8983  0.8980  0.8977  0.8973  0.8969  0.8965   \n",
              "\n",
              "     1402.7  1401.3    1400  \n",
              "0    0.9176  0.9174  0.9163  \n",
              "1    0.9108  0.9104  0.9093  \n",
              "2    0.9168  0.9165  0.9156  \n",
              "3    0.9159  0.9155  0.9143  \n",
              "4    0.9153  0.9148  0.9136  \n",
              "..      ...     ...     ...  \n",
              "595  0.8975  0.8972  0.8969  \n",
              "596  0.8969  0.8965  0.8960  \n",
              "597  0.8963  0.8959  0.8956  \n",
              "598  0.8962  0.8959  0.8955  \n",
              "599  0.8962  0.8959  0.8955  \n",
              "\n",
              "[600 rows x 285 columns]"
            ],
            "text/html": [
              "\n",
              "  <div id=\"df-43c75b45-798c-46e3-8a6a-ac21d0208e76\" class=\"colab-df-container\">\n",
              "    <div>\n",
              "<style scoped>\n",
              "    .dataframe tbody tr th:only-of-type {\n",
              "        vertical-align: middle;\n",
              "    }\n",
              "\n",
              "    .dataframe tbody tr th {\n",
              "        vertical-align: top;\n",
              "    }\n",
              "\n",
              "    .dataframe thead th {\n",
              "        text-align: right;\n",
              "    }\n",
              "</style>\n",
              "<table border=\"1\" class=\"dataframe\">\n",
              "  <thead>\n",
              "    <tr style=\"text-align: right;\">\n",
              "      <th></th>\n",
              "      <th>Classes</th>\n",
              "      <th>1800</th>\n",
              "      <th>1799.4</th>\n",
              "      <th>1798</th>\n",
              "      <th>1796.6</th>\n",
              "      <th>1795.2</th>\n",
              "      <th>1793.8</th>\n",
              "      <th>1792.3</th>\n",
              "      <th>1790.9</th>\n",
              "      <th>1789.5</th>\n",
              "      <th>...</th>\n",
              "      <th>1412.6</th>\n",
              "      <th>1411.2</th>\n",
              "      <th>1409.8</th>\n",
              "      <th>1408.4</th>\n",
              "      <th>1407</th>\n",
              "      <th>1405.5</th>\n",
              "      <th>1404.1</th>\n",
              "      <th>1402.7</th>\n",
              "      <th>1401.3</th>\n",
              "      <th>1400</th>\n",
              "    </tr>\n",
              "  </thead>\n",
              "  <tbody>\n",
              "    <tr>\n",
              "      <th>0</th>\n",
              "      <td>0</td>\n",
              "      <td>0.9884</td>\n",
              "      <td>0.9881</td>\n",
              "      <td>0.9881</td>\n",
              "      <td>0.9881</td>\n",
              "      <td>0.9880</td>\n",
              "      <td>0.9872</td>\n",
              "      <td>0.9858</td>\n",
              "      <td>0.9850</td>\n",
              "      <td>0.9855</td>\n",
              "      <td>...</td>\n",
              "      <td>0.9209</td>\n",
              "      <td>0.9207</td>\n",
              "      <td>0.9202</td>\n",
              "      <td>0.9196</td>\n",
              "      <td>0.9188</td>\n",
              "      <td>0.9179</td>\n",
              "      <td>0.9175</td>\n",
              "      <td>0.9176</td>\n",
              "      <td>0.9174</td>\n",
              "      <td>0.9163</td>\n",
              "    </tr>\n",
              "    <tr>\n",
              "      <th>1</th>\n",
              "      <td>0</td>\n",
              "      <td>0.9886</td>\n",
              "      <td>0.9881</td>\n",
              "      <td>0.9880</td>\n",
              "      <td>0.9882</td>\n",
              "      <td>0.9882</td>\n",
              "      <td>0.9875</td>\n",
              "      <td>0.9861</td>\n",
              "      <td>0.9854</td>\n",
              "      <td>0.9861</td>\n",
              "      <td>...</td>\n",
              "      <td>0.9156</td>\n",
              "      <td>0.9153</td>\n",
              "      <td>0.9147</td>\n",
              "      <td>0.9139</td>\n",
              "      <td>0.9128</td>\n",
              "      <td>0.9115</td>\n",
              "      <td>0.9109</td>\n",
              "      <td>0.9108</td>\n",
              "      <td>0.9104</td>\n",
              "      <td>0.9093</td>\n",
              "    </tr>\n",
              "    <tr>\n",
              "      <th>2</th>\n",
              "      <td>0</td>\n",
              "      <td>0.9889</td>\n",
              "      <td>0.9885</td>\n",
              "      <td>0.9883</td>\n",
              "      <td>0.9882</td>\n",
              "      <td>0.9877</td>\n",
              "      <td>0.9867</td>\n",
              "      <td>0.9853</td>\n",
              "      <td>0.9847</td>\n",
              "      <td>0.9856</td>\n",
              "      <td>...</td>\n",
              "      <td>0.9205</td>\n",
              "      <td>0.9203</td>\n",
              "      <td>0.9199</td>\n",
              "      <td>0.9193</td>\n",
              "      <td>0.9184</td>\n",
              "      <td>0.9174</td>\n",
              "      <td>0.9169</td>\n",
              "      <td>0.9168</td>\n",
              "      <td>0.9165</td>\n",
              "      <td>0.9156</td>\n",
              "    </tr>\n",
              "    <tr>\n",
              "      <th>3</th>\n",
              "      <td>0</td>\n",
              "      <td>0.9883</td>\n",
              "      <td>0.9880</td>\n",
              "      <td>0.9880</td>\n",
              "      <td>0.9881</td>\n",
              "      <td>0.9880</td>\n",
              "      <td>0.9872</td>\n",
              "      <td>0.9857</td>\n",
              "      <td>0.9849</td>\n",
              "      <td>0.9855</td>\n",
              "      <td>...</td>\n",
              "      <td>0.9197</td>\n",
              "      <td>0.9196</td>\n",
              "      <td>0.9193</td>\n",
              "      <td>0.9187</td>\n",
              "      <td>0.9178</td>\n",
              "      <td>0.9167</td>\n",
              "      <td>0.9161</td>\n",
              "      <td>0.9159</td>\n",
              "      <td>0.9155</td>\n",
              "      <td>0.9143</td>\n",
              "    </tr>\n",
              "    <tr>\n",
              "      <th>4</th>\n",
              "      <td>0</td>\n",
              "      <td>0.9887</td>\n",
              "      <td>0.9882</td>\n",
              "      <td>0.9880</td>\n",
              "      <td>0.9881</td>\n",
              "      <td>0.9880</td>\n",
              "      <td>0.9873</td>\n",
              "      <td>0.9859</td>\n",
              "      <td>0.9851</td>\n",
              "      <td>0.9855</td>\n",
              "      <td>...</td>\n",
              "      <td>0.9188</td>\n",
              "      <td>0.9186</td>\n",
              "      <td>0.9182</td>\n",
              "      <td>0.9177</td>\n",
              "      <td>0.9168</td>\n",
              "      <td>0.9158</td>\n",
              "      <td>0.9153</td>\n",
              "      <td>0.9153</td>\n",
              "      <td>0.9148</td>\n",
              "      <td>0.9136</td>\n",
              "    </tr>\n",
              "    <tr>\n",
              "      <th>...</th>\n",
              "      <td>...</td>\n",
              "      <td>...</td>\n",
              "      <td>...</td>\n",
              "      <td>...</td>\n",
              "      <td>...</td>\n",
              "      <td>...</td>\n",
              "      <td>...</td>\n",
              "      <td>...</td>\n",
              "      <td>...</td>\n",
              "      <td>...</td>\n",
              "      <td>...</td>\n",
              "      <td>...</td>\n",
              "      <td>...</td>\n",
              "      <td>...</td>\n",
              "      <td>...</td>\n",
              "      <td>...</td>\n",
              "      <td>...</td>\n",
              "      <td>...</td>\n",
              "      <td>...</td>\n",
              "      <td>...</td>\n",
              "      <td>...</td>\n",
              "    </tr>\n",
              "    <tr>\n",
              "      <th>595</th>\n",
              "      <td>2</td>\n",
              "      <td>0.9648</td>\n",
              "      <td>0.9645</td>\n",
              "      <td>0.9642</td>\n",
              "      <td>0.9639</td>\n",
              "      <td>0.9634</td>\n",
              "      <td>0.9630</td>\n",
              "      <td>0.9627</td>\n",
              "      <td>0.9625</td>\n",
              "      <td>0.9625</td>\n",
              "      <td>...</td>\n",
              "      <td>0.8995</td>\n",
              "      <td>0.8993</td>\n",
              "      <td>0.8990</td>\n",
              "      <td>0.8987</td>\n",
              "      <td>0.8984</td>\n",
              "      <td>0.8981</td>\n",
              "      <td>0.8978</td>\n",
              "      <td>0.8975</td>\n",
              "      <td>0.8972</td>\n",
              "      <td>0.8969</td>\n",
              "    </tr>\n",
              "    <tr>\n",
              "      <th>596</th>\n",
              "      <td>2</td>\n",
              "      <td>0.9651</td>\n",
              "      <td>0.9647</td>\n",
              "      <td>0.9643</td>\n",
              "      <td>0.9638</td>\n",
              "      <td>0.9634</td>\n",
              "      <td>0.9629</td>\n",
              "      <td>0.9625</td>\n",
              "      <td>0.9624</td>\n",
              "      <td>0.9625</td>\n",
              "      <td>...</td>\n",
              "      <td>0.8989</td>\n",
              "      <td>0.8988</td>\n",
              "      <td>0.8987</td>\n",
              "      <td>0.8985</td>\n",
              "      <td>0.8982</td>\n",
              "      <td>0.8978</td>\n",
              "      <td>0.8973</td>\n",
              "      <td>0.8969</td>\n",
              "      <td>0.8965</td>\n",
              "      <td>0.8960</td>\n",
              "    </tr>\n",
              "    <tr>\n",
              "      <th>597</th>\n",
              "      <td>2</td>\n",
              "      <td>0.9644</td>\n",
              "      <td>0.9642</td>\n",
              "      <td>0.9639</td>\n",
              "      <td>0.9636</td>\n",
              "      <td>0.9633</td>\n",
              "      <td>0.9630</td>\n",
              "      <td>0.9627</td>\n",
              "      <td>0.9626</td>\n",
              "      <td>0.9626</td>\n",
              "      <td>...</td>\n",
              "      <td>0.8986</td>\n",
              "      <td>0.8985</td>\n",
              "      <td>0.8982</td>\n",
              "      <td>0.8979</td>\n",
              "      <td>0.8976</td>\n",
              "      <td>0.8972</td>\n",
              "      <td>0.8968</td>\n",
              "      <td>0.8963</td>\n",
              "      <td>0.8959</td>\n",
              "      <td>0.8956</td>\n",
              "    </tr>\n",
              "    <tr>\n",
              "      <th>598</th>\n",
              "      <td>2</td>\n",
              "      <td>0.9648</td>\n",
              "      <td>0.9642</td>\n",
              "      <td>0.9637</td>\n",
              "      <td>0.9633</td>\n",
              "      <td>0.9630</td>\n",
              "      <td>0.9628</td>\n",
              "      <td>0.9628</td>\n",
              "      <td>0.9628</td>\n",
              "      <td>0.9625</td>\n",
              "      <td>...</td>\n",
              "      <td>0.8984</td>\n",
              "      <td>0.8983</td>\n",
              "      <td>0.8980</td>\n",
              "      <td>0.8977</td>\n",
              "      <td>0.8973</td>\n",
              "      <td>0.8969</td>\n",
              "      <td>0.8965</td>\n",
              "      <td>0.8962</td>\n",
              "      <td>0.8959</td>\n",
              "      <td>0.8955</td>\n",
              "    </tr>\n",
              "    <tr>\n",
              "      <th>599</th>\n",
              "      <td>2</td>\n",
              "      <td>0.9648</td>\n",
              "      <td>0.9642</td>\n",
              "      <td>0.9637</td>\n",
              "      <td>0.9633</td>\n",
              "      <td>0.9630</td>\n",
              "      <td>0.9628</td>\n",
              "      <td>0.9628</td>\n",
              "      <td>0.9628</td>\n",
              "      <td>0.9625</td>\n",
              "      <td>...</td>\n",
              "      <td>0.8984</td>\n",
              "      <td>0.8983</td>\n",
              "      <td>0.8980</td>\n",
              "      <td>0.8977</td>\n",
              "      <td>0.8973</td>\n",
              "      <td>0.8969</td>\n",
              "      <td>0.8965</td>\n",
              "      <td>0.8962</td>\n",
              "      <td>0.8959</td>\n",
              "      <td>0.8955</td>\n",
              "    </tr>\n",
              "  </tbody>\n",
              "</table>\n",
              "<p>600 rows × 285 columns</p>\n",
              "</div>\n",
              "    <div class=\"colab-df-buttons\">\n",
              "\n",
              "  <div class=\"colab-df-container\">\n",
              "    <button class=\"colab-df-convert\" onclick=\"convertToInteractive('df-43c75b45-798c-46e3-8a6a-ac21d0208e76')\"\n",
              "            title=\"Convert this dataframe to an interactive table.\"\n",
              "            style=\"display:none;\">\n",
              "\n",
              "  <svg xmlns=\"http://www.w3.org/2000/svg\" height=\"24px\" viewBox=\"0 -960 960 960\">\n",
              "    <path d=\"M120-120v-720h720v720H120Zm60-500h600v-160H180v160Zm220 220h160v-160H400v160Zm0 220h160v-160H400v160ZM180-400h160v-160H180v160Zm440 0h160v-160H620v160ZM180-180h160v-160H180v160Zm440 0h160v-160H620v160Z\"/>\n",
              "  </svg>\n",
              "    </button>\n",
              "\n",
              "  <style>\n",
              "    .colab-df-container {\n",
              "      display:flex;\n",
              "      gap: 12px;\n",
              "    }\n",
              "\n",
              "    .colab-df-convert {\n",
              "      background-color: #E8F0FE;\n",
              "      border: none;\n",
              "      border-radius: 50%;\n",
              "      cursor: pointer;\n",
              "      display: none;\n",
              "      fill: #1967D2;\n",
              "      height: 32px;\n",
              "      padding: 0 0 0 0;\n",
              "      width: 32px;\n",
              "    }\n",
              "\n",
              "    .colab-df-convert:hover {\n",
              "      background-color: #E2EBFA;\n",
              "      box-shadow: 0px 1px 2px rgba(60, 64, 67, 0.3), 0px 1px 3px 1px rgba(60, 64, 67, 0.15);\n",
              "      fill: #174EA6;\n",
              "    }\n",
              "\n",
              "    .colab-df-buttons div {\n",
              "      margin-bottom: 4px;\n",
              "    }\n",
              "\n",
              "    [theme=dark] .colab-df-convert {\n",
              "      background-color: #3B4455;\n",
              "      fill: #D2E3FC;\n",
              "    }\n",
              "\n",
              "    [theme=dark] .colab-df-convert:hover {\n",
              "      background-color: #434B5C;\n",
              "      box-shadow: 0px 1px 3px 1px rgba(0, 0, 0, 0.15);\n",
              "      filter: drop-shadow(0px 1px 2px rgba(0, 0, 0, 0.3));\n",
              "      fill: #FFFFFF;\n",
              "    }\n",
              "  </style>\n",
              "\n",
              "    <script>\n",
              "      const buttonEl =\n",
              "        document.querySelector('#df-43c75b45-798c-46e3-8a6a-ac21d0208e76 button.colab-df-convert');\n",
              "      buttonEl.style.display =\n",
              "        google.colab.kernel.accessAllowed ? 'block' : 'none';\n",
              "\n",
              "      async function convertToInteractive(key) {\n",
              "        const element = document.querySelector('#df-43c75b45-798c-46e3-8a6a-ac21d0208e76');\n",
              "        const dataTable =\n",
              "          await google.colab.kernel.invokeFunction('convertToInteractive',\n",
              "                                                    [key], {});\n",
              "        if (!dataTable) return;\n",
              "\n",
              "        const docLinkHtml = 'Like what you see? Visit the ' +\n",
              "          '<a target=\"_blank\" href=https://colab.research.google.com/notebooks/data_table.ipynb>data table notebook</a>'\n",
              "          + ' to learn more about interactive tables.';\n",
              "        element.innerHTML = '';\n",
              "        dataTable['output_type'] = 'display_data';\n",
              "        await google.colab.output.renderOutput(dataTable, element);\n",
              "        const docLink = document.createElement('div');\n",
              "        docLink.innerHTML = docLinkHtml;\n",
              "        element.appendChild(docLink);\n",
              "      }\n",
              "    </script>\n",
              "  </div>\n",
              "\n",
              "\n",
              "<div id=\"df-949bcc0b-bcc4-4763-9013-afd33057d6af\">\n",
              "  <button class=\"colab-df-quickchart\" onclick=\"quickchart('df-949bcc0b-bcc4-4763-9013-afd33057d6af')\"\n",
              "            title=\"Suggest charts\"\n",
              "            style=\"display:none;\">\n",
              "\n",
              "<svg xmlns=\"http://www.w3.org/2000/svg\" height=\"24px\"viewBox=\"0 0 24 24\"\n",
              "     width=\"24px\">\n",
              "    <g>\n",
              "        <path d=\"M19 3H5c-1.1 0-2 .9-2 2v14c0 1.1.9 2 2 2h14c1.1 0 2-.9 2-2V5c0-1.1-.9-2-2-2zM9 17H7v-7h2v7zm4 0h-2V7h2v10zm4 0h-2v-4h2v4z\"/>\n",
              "    </g>\n",
              "</svg>\n",
              "  </button>\n",
              "\n",
              "<style>\n",
              "  .colab-df-quickchart {\n",
              "      --bg-color: #E8F0FE;\n",
              "      --fill-color: #1967D2;\n",
              "      --hover-bg-color: #E2EBFA;\n",
              "      --hover-fill-color: #174EA6;\n",
              "      --disabled-fill-color: #AAA;\n",
              "      --disabled-bg-color: #DDD;\n",
              "  }\n",
              "\n",
              "  [theme=dark] .colab-df-quickchart {\n",
              "      --bg-color: #3B4455;\n",
              "      --fill-color: #D2E3FC;\n",
              "      --hover-bg-color: #434B5C;\n",
              "      --hover-fill-color: #FFFFFF;\n",
              "      --disabled-bg-color: #3B4455;\n",
              "      --disabled-fill-color: #666;\n",
              "  }\n",
              "\n",
              "  .colab-df-quickchart {\n",
              "    background-color: var(--bg-color);\n",
              "    border: none;\n",
              "    border-radius: 50%;\n",
              "    cursor: pointer;\n",
              "    display: none;\n",
              "    fill: var(--fill-color);\n",
              "    height: 32px;\n",
              "    padding: 0;\n",
              "    width: 32px;\n",
              "  }\n",
              "\n",
              "  .colab-df-quickchart:hover {\n",
              "    background-color: var(--hover-bg-color);\n",
              "    box-shadow: 0 1px 2px rgba(60, 64, 67, 0.3), 0 1px 3px 1px rgba(60, 64, 67, 0.15);\n",
              "    fill: var(--button-hover-fill-color);\n",
              "  }\n",
              "\n",
              "  .colab-df-quickchart-complete:disabled,\n",
              "  .colab-df-quickchart-complete:disabled:hover {\n",
              "    background-color: var(--disabled-bg-color);\n",
              "    fill: var(--disabled-fill-color);\n",
              "    box-shadow: none;\n",
              "  }\n",
              "\n",
              "  .colab-df-spinner {\n",
              "    border: 2px solid var(--fill-color);\n",
              "    border-color: transparent;\n",
              "    border-bottom-color: var(--fill-color);\n",
              "    animation:\n",
              "      spin 1s steps(1) infinite;\n",
              "  }\n",
              "\n",
              "  @keyframes spin {\n",
              "    0% {\n",
              "      border-color: transparent;\n",
              "      border-bottom-color: var(--fill-color);\n",
              "      border-left-color: var(--fill-color);\n",
              "    }\n",
              "    20% {\n",
              "      border-color: transparent;\n",
              "      border-left-color: var(--fill-color);\n",
              "      border-top-color: var(--fill-color);\n",
              "    }\n",
              "    30% {\n",
              "      border-color: transparent;\n",
              "      border-left-color: var(--fill-color);\n",
              "      border-top-color: var(--fill-color);\n",
              "      border-right-color: var(--fill-color);\n",
              "    }\n",
              "    40% {\n",
              "      border-color: transparent;\n",
              "      border-right-color: var(--fill-color);\n",
              "      border-top-color: var(--fill-color);\n",
              "    }\n",
              "    60% {\n",
              "      border-color: transparent;\n",
              "      border-right-color: var(--fill-color);\n",
              "    }\n",
              "    80% {\n",
              "      border-color: transparent;\n",
              "      border-right-color: var(--fill-color);\n",
              "      border-bottom-color: var(--fill-color);\n",
              "    }\n",
              "    90% {\n",
              "      border-color: transparent;\n",
              "      border-bottom-color: var(--fill-color);\n",
              "    }\n",
              "  }\n",
              "</style>\n",
              "\n",
              "  <script>\n",
              "    async function quickchart(key) {\n",
              "      const quickchartButtonEl =\n",
              "        document.querySelector('#' + key + ' button');\n",
              "      quickchartButtonEl.disabled = true;  // To prevent multiple clicks.\n",
              "      quickchartButtonEl.classList.add('colab-df-spinner');\n",
              "      try {\n",
              "        const charts = await google.colab.kernel.invokeFunction(\n",
              "            'suggestCharts', [key], {});\n",
              "      } catch (error) {\n",
              "        console.error('Error during call to suggestCharts:', error);\n",
              "      }\n",
              "      quickchartButtonEl.classList.remove('colab-df-spinner');\n",
              "      quickchartButtonEl.classList.add('colab-df-quickchart-complete');\n",
              "    }\n",
              "    (() => {\n",
              "      let quickchartButtonEl =\n",
              "        document.querySelector('#df-949bcc0b-bcc4-4763-9013-afd33057d6af button');\n",
              "      quickchartButtonEl.style.display =\n",
              "        google.colab.kernel.accessAllowed ? 'block' : 'none';\n",
              "    })();\n",
              "  </script>\n",
              "</div>\n",
              "\n",
              "  <div id=\"id_297a6cad-c539-4432-9eae-5e32de9afd45\">\n",
              "    <style>\n",
              "      .colab-df-generate {\n",
              "        background-color: #E8F0FE;\n",
              "        border: none;\n",
              "        border-radius: 50%;\n",
              "        cursor: pointer;\n",
              "        display: none;\n",
              "        fill: #1967D2;\n",
              "        height: 32px;\n",
              "        padding: 0 0 0 0;\n",
              "        width: 32px;\n",
              "      }\n",
              "\n",
              "      .colab-df-generate:hover {\n",
              "        background-color: #E2EBFA;\n",
              "        box-shadow: 0px 1px 2px rgba(60, 64, 67, 0.3), 0px 1px 3px 1px rgba(60, 64, 67, 0.15);\n",
              "        fill: #174EA6;\n",
              "      }\n",
              "\n",
              "      [theme=dark] .colab-df-generate {\n",
              "        background-color: #3B4455;\n",
              "        fill: #D2E3FC;\n",
              "      }\n",
              "\n",
              "      [theme=dark] .colab-df-generate:hover {\n",
              "        background-color: #434B5C;\n",
              "        box-shadow: 0px 1px 3px 1px rgba(0, 0, 0, 0.15);\n",
              "        filter: drop-shadow(0px 1px 2px rgba(0, 0, 0, 0.3));\n",
              "        fill: #FFFFFF;\n",
              "      }\n",
              "    </style>\n",
              "    <button class=\"colab-df-generate\" onclick=\"generateWithVariable('df1')\"\n",
              "            title=\"Generate code using this dataframe.\"\n",
              "            style=\"display:none;\">\n",
              "\n",
              "  <svg xmlns=\"http://www.w3.org/2000/svg\" height=\"24px\"viewBox=\"0 0 24 24\"\n",
              "       width=\"24px\">\n",
              "    <path d=\"M7,19H8.4L18.45,9,17,7.55,7,17.6ZM5,21V16.75L18.45,3.32a2,2,0,0,1,2.83,0l1.4,1.43a1.91,1.91,0,0,1,.58,1.4,1.91,1.91,0,0,1-.58,1.4L9.25,21ZM18.45,9,17,7.55Zm-12,3A5.31,5.31,0,0,0,4.9,8.1,5.31,5.31,0,0,0,1,6.5,5.31,5.31,0,0,0,4.9,4.9,5.31,5.31,0,0,0,6.5,1,5.31,5.31,0,0,0,8.1,4.9,5.31,5.31,0,0,0,12,6.5,5.46,5.46,0,0,0,6.5,12Z\"/>\n",
              "  </svg>\n",
              "    </button>\n",
              "    <script>\n",
              "      (() => {\n",
              "      const buttonEl =\n",
              "        document.querySelector('#id_297a6cad-c539-4432-9eae-5e32de9afd45 button.colab-df-generate');\n",
              "      buttonEl.style.display =\n",
              "        google.colab.kernel.accessAllowed ? 'block' : 'none';\n",
              "\n",
              "      buttonEl.onclick = () => {\n",
              "        google.colab.notebook.generateWithVariable('df1');\n",
              "      }\n",
              "      })();\n",
              "    </script>\n",
              "  </div>\n",
              "\n",
              "    </div>\n",
              "  </div>\n"
            ]
          },
          "metadata": {}
        }
      ],
      "source": [
        "# Step 2: Import the Pandas library to help manipulate the database\n",
        "import pandas as pd\n",
        "df1 = pd.read_excel(\"Diabetes_ML1800_1400.xlsx\")\n",
        "display (df1)"
      ],
      "id": "Y4YeHICemuoc"
    },
    {
      "cell_type": "markdown",
      "source": [
        "# # Step 3: Installing the Pycaret library (helps to perform Auto-Machine Learn)\n"
      ],
      "metadata": {
        "id": "PUOvV4-1ngZ3"
      },
      "id": "PUOvV4-1ngZ3"
    },
    {
      "cell_type": "code",
      "execution_count": null,
      "metadata": {
        "id": "5U1Mqbfvsp2w",
        "colab": {
          "base_uri": "https://localhost:8080/",
          "height": 1000
        },
        "outputId": "4f44bb5c-0e00-4417-e7e5-1ea766cdb03e"
      },
      "outputs": [
        {
          "output_type": "stream",
          "name": "stdout",
          "text": [
            "Collecting pycaret\n",
            "  Downloading pycaret-3.2.0-py3-none-any.whl (484 kB)\n",
            "\u001b[2K     \u001b[90m━━━━━━━━━━━━━━━━━━━━━━━━━━━━━━━━━━━━━━━━\u001b[0m \u001b[32m484.7/484.7 kB\u001b[0m \u001b[31m8.8 MB/s\u001b[0m eta \u001b[36m0:00:00\u001b[0m\n",
            "\u001b[?25hCollecting category-encoders>=2.4.0 (from pycaret)\n",
            "  Downloading category_encoders-2.6.3-py2.py3-none-any.whl (81 kB)\n",
            "\u001b[2K     \u001b[90m━━━━━━━━━━━━━━━━━━━━━━━━━━━━━━━━━━━━━━━━\u001b[0m \u001b[32m81.9/81.9 kB\u001b[0m \u001b[31m7.4 MB/s\u001b[0m eta \u001b[36m0:00:00\u001b[0m\n",
            "\u001b[?25hRequirement already satisfied: cloudpickle in /usr/local/lib/python3.10/dist-packages (from pycaret) (2.2.1)\n",
            "Collecting deprecation>=2.1.0 (from pycaret)\n",
            "  Downloading deprecation-2.1.0-py2.py3-none-any.whl (11 kB)\n",
            "Requirement already satisfied: imbalanced-learn>=0.8.1 in /usr/local/lib/python3.10/dist-packages (from pycaret) (0.10.1)\n",
            "Requirement already satisfied: importlib-metadata>=4.12.0 in /usr/local/lib/python3.10/dist-packages (from pycaret) (7.0.1)\n",
            "Requirement already satisfied: ipython>=5.5.0 in /usr/local/lib/python3.10/dist-packages (from pycaret) (7.34.0)\n",
            "Requirement already satisfied: ipywidgets>=7.6.5 in /usr/local/lib/python3.10/dist-packages (from pycaret) (7.7.1)\n",
            "Requirement already satisfied: jinja2>=1.2 in /usr/local/lib/python3.10/dist-packages (from pycaret) (3.1.3)\n",
            "Requirement already satisfied: joblib>=1.2.0 in /usr/local/lib/python3.10/dist-packages (from pycaret) (1.3.2)\n",
            "Collecting kaleido>=0.2.1 (from pycaret)\n",
            "  Downloading kaleido-0.2.1-py2.py3-none-manylinux1_x86_64.whl (79.9 MB)\n",
            "\u001b[2K     \u001b[90m━━━━━━━━━━━━━━━━━━━━━━━━━━━━━━━━━━━━━━━━\u001b[0m \u001b[32m79.9/79.9 MB\u001b[0m \u001b[31m19.6 MB/s\u001b[0m eta \u001b[36m0:00:00\u001b[0m\n",
            "\u001b[?25hRequirement already satisfied: lightgbm>=3.0.0 in /usr/local/lib/python3.10/dist-packages (from pycaret) (4.1.0)\n",
            "Requirement already satisfied: markupsafe>=2.0.1 in /usr/local/lib/python3.10/dist-packages (from pycaret) (2.1.5)\n",
            "Collecting matplotlib<=3.6,>=3.3.0 (from pycaret)\n",
            "  Downloading matplotlib-3.6.0-cp310-cp310-manylinux_2_17_x86_64.manylinux2014_x86_64.whl (11.8 MB)\n",
            "\u001b[2K     \u001b[90m━━━━━━━━━━━━━━━━━━━━━━━━━━━━━━━━━━━━━━━━\u001b[0m \u001b[32m11.8/11.8 MB\u001b[0m \u001b[31m88.3 MB/s\u001b[0m eta \u001b[36m0:00:00\u001b[0m\n",
            "\u001b[?25hRequirement already satisfied: nbformat>=4.2.0 in /usr/local/lib/python3.10/dist-packages (from pycaret) (5.9.2)\n",
            "Requirement already satisfied: numba>=0.55.0 in /usr/local/lib/python3.10/dist-packages (from pycaret) (0.58.1)\n",
            "Requirement already satisfied: numpy<1.27,>=1.21 in /usr/local/lib/python3.10/dist-packages (from pycaret) (1.23.5)\n",
            "Requirement already satisfied: pandas<2.0.0,>=1.3.0 in /usr/local/lib/python3.10/dist-packages (from pycaret) (1.5.3)\n",
            "Collecting plotly-resampler>=0.8.3.1 (from pycaret)\n",
            "  Downloading plotly_resampler-0.9.2-py3-none-any.whl (81 kB)\n",
            "\u001b[2K     \u001b[90m━━━━━━━━━━━━━━━━━━━━━━━━━━━━━━━━━━━━━━━━\u001b[0m \u001b[32m81.1/81.1 kB\u001b[0m \u001b[31m10.4 MB/s\u001b[0m eta \u001b[36m0:00:00\u001b[0m\n",
            "\u001b[?25hRequirement already satisfied: plotly>=5.0.0 in /usr/local/lib/python3.10/dist-packages (from pycaret) (5.15.0)\n",
            "Collecting pmdarima!=1.8.1,<3.0.0,>=1.8.0 (from pycaret)\n",
            "  Downloading pmdarima-2.0.4-cp310-cp310-manylinux_2_17_x86_64.manylinux2014_x86_64.manylinux_2_28_x86_64.whl (2.1 MB)\n",
            "\u001b[2K     \u001b[90m━━━━━━━━━━━━━━━━━━━━━━━━━━━━━━━━━━━━━━━━\u001b[0m \u001b[32m2.1/2.1 MB\u001b[0m \u001b[31m82.8 MB/s\u001b[0m eta \u001b[36m0:00:00\u001b[0m\n",
            "\u001b[?25hRequirement already satisfied: psutil>=5.9.0 in /usr/local/lib/python3.10/dist-packages (from pycaret) (5.9.5)\n",
            "Collecting pyod>=1.0.8 (from pycaret)\n",
            "  Downloading pyod-1.1.2.tar.gz (160 kB)\n",
            "\u001b[2K     \u001b[90m━━━━━━━━━━━━━━━━━━━━━━━━━━━━━━━━━━━━━━━━\u001b[0m \u001b[32m160.5/160.5 kB\u001b[0m \u001b[31m20.9 MB/s\u001b[0m eta \u001b[36m0:00:00\u001b[0m\n",
            "\u001b[?25h  Preparing metadata (setup.py) ... \u001b[?25l\u001b[?25hdone\n",
            "Requirement already satisfied: requests>=2.27.1 in /usr/local/lib/python3.10/dist-packages (from pycaret) (2.31.0)\n",
            "Collecting schemdraw==0.15 (from pycaret)\n",
            "  Downloading schemdraw-0.15-py3-none-any.whl (106 kB)\n",
            "\u001b[2K     \u001b[90m━━━━━━━━━━━━━━━━━━━━━━━━━━━━━━━━━━━━━━━━\u001b[0m \u001b[32m106.8/106.8 kB\u001b[0m \u001b[31m15.0 MB/s\u001b[0m eta \u001b[36m0:00:00\u001b[0m\n",
            "\u001b[?25hRequirement already satisfied: scikit-learn<1.3.0,>=1.0 in /usr/local/lib/python3.10/dist-packages (from pycaret) (1.2.2)\n",
            "Collecting scikit-plot>=0.3.7 (from pycaret)\n",
            "  Downloading scikit_plot-0.3.7-py3-none-any.whl (33 kB)\n",
            "Collecting scipy~=1.10.1 (from pycaret)\n",
            "  Downloading scipy-1.10.1-cp310-cp310-manylinux_2_17_x86_64.manylinux2014_x86_64.whl (34.4 MB)\n",
            "\u001b[2K     \u001b[90m━━━━━━━━━━━━━━━━━━━━━━━━━━━━━━━━━━━━━━━━\u001b[0m \u001b[32m34.4/34.4 MB\u001b[0m \u001b[31m42.2 MB/s\u001b[0m eta \u001b[36m0:00:00\u001b[0m\n",
            "\u001b[?25hCollecting sktime!=0.17.1,!=0.17.2,!=0.18.0,<0.22.0,>=0.16.1 (from pycaret)\n",
            "  Downloading sktime-0.21.1-py3-none-any.whl (17.1 MB)\n",
            "\u001b[2K     \u001b[90m━━━━━━━━━━━━━━━━━━━━━━━━━━━━━━━━━━━━━━━━\u001b[0m \u001b[32m17.1/17.1 MB\u001b[0m \u001b[31m74.7 MB/s\u001b[0m eta \u001b[36m0:00:00\u001b[0m\n",
            "\u001b[?25hRequirement already satisfied: statsmodels>=0.12.1 in /usr/local/lib/python3.10/dist-packages (from pycaret) (0.14.1)\n",
            "Collecting tbats>=1.1.3 (from pycaret)\n",
            "  Downloading tbats-1.1.3-py3-none-any.whl (44 kB)\n",
            "\u001b[2K     \u001b[90m━━━━━━━━━━━━━━━━━━━━━━━━━━━━━━━━━━━━━━━━\u001b[0m \u001b[32m44.0/44.0 kB\u001b[0m \u001b[31m5.8 MB/s\u001b[0m eta \u001b[36m0:00:00\u001b[0m\n",
            "\u001b[?25hRequirement already satisfied: tqdm>=4.62.0 in /usr/local/lib/python3.10/dist-packages (from pycaret) (4.66.1)\n",
            "Requirement already satisfied: xxhash in /usr/local/lib/python3.10/dist-packages (from pycaret) (3.4.1)\n",
            "Requirement already satisfied: yellowbrick>=1.4 in /usr/local/lib/python3.10/dist-packages (from pycaret) (1.5)\n",
            "Collecting wurlitzer (from pycaret)\n",
            "  Downloading wurlitzer-3.0.3-py3-none-any.whl (7.3 kB)\n",
            "Requirement already satisfied: patsy>=0.5.1 in /usr/local/lib/python3.10/dist-packages (from category-encoders>=2.4.0->pycaret) (0.5.6)\n",
            "Requirement already satisfied: packaging in /usr/local/lib/python3.10/dist-packages (from deprecation>=2.1.0->pycaret) (23.2)\n",
            "Requirement already satisfied: threadpoolctl>=2.0.0 in /usr/local/lib/python3.10/dist-packages (from imbalanced-learn>=0.8.1->pycaret) (3.2.0)\n",
            "Requirement already satisfied: zipp>=0.5 in /usr/local/lib/python3.10/dist-packages (from importlib-metadata>=4.12.0->pycaret) (3.17.0)\n",
            "Requirement already satisfied: setuptools>=18.5 in /usr/local/lib/python3.10/dist-packages (from ipython>=5.5.0->pycaret) (67.7.2)\n",
            "Collecting jedi>=0.16 (from ipython>=5.5.0->pycaret)\n",
            "  Downloading jedi-0.19.1-py2.py3-none-any.whl (1.6 MB)\n",
            "\u001b[2K     \u001b[90m━━━━━━━━━━━━━━━━━━━━━━━━━━━━━━━━━━━━━━━━\u001b[0m \u001b[32m1.6/1.6 MB\u001b[0m \u001b[31m80.9 MB/s\u001b[0m eta \u001b[36m0:00:00\u001b[0m\n",
            "\u001b[?25hRequirement already satisfied: decorator in /usr/local/lib/python3.10/dist-packages (from ipython>=5.5.0->pycaret) (4.4.2)\n",
            "Requirement already satisfied: pickleshare in /usr/local/lib/python3.10/dist-packages (from ipython>=5.5.0->pycaret) (0.7.5)\n",
            "Requirement already satisfied: traitlets>=4.2 in /usr/local/lib/python3.10/dist-packages (from ipython>=5.5.0->pycaret) (5.7.1)\n",
            "Requirement already satisfied: prompt-toolkit!=3.0.0,!=3.0.1,<3.1.0,>=2.0.0 in /usr/local/lib/python3.10/dist-packages (from ipython>=5.5.0->pycaret) (3.0.43)\n",
            "Requirement already satisfied: pygments in /usr/local/lib/python3.10/dist-packages (from ipython>=5.5.0->pycaret) (2.16.1)\n",
            "Requirement already satisfied: backcall in /usr/local/lib/python3.10/dist-packages (from ipython>=5.5.0->pycaret) (0.2.0)\n",
            "Requirement already satisfied: matplotlib-inline in /usr/local/lib/python3.10/dist-packages (from ipython>=5.5.0->pycaret) (0.1.6)\n",
            "Requirement already satisfied: pexpect>4.3 in /usr/local/lib/python3.10/dist-packages (from ipython>=5.5.0->pycaret) (4.9.0)\n",
            "Requirement already satisfied: ipykernel>=4.5.1 in /usr/local/lib/python3.10/dist-packages (from ipywidgets>=7.6.5->pycaret) (5.5.6)\n",
            "Requirement already satisfied: ipython-genutils~=0.2.0 in /usr/local/lib/python3.10/dist-packages (from ipywidgets>=7.6.5->pycaret) (0.2.0)\n",
            "Requirement already satisfied: widgetsnbextension~=3.6.0 in /usr/local/lib/python3.10/dist-packages (from ipywidgets>=7.6.5->pycaret) (3.6.6)\n",
            "Requirement already satisfied: jupyterlab-widgets>=1.0.0 in /usr/local/lib/python3.10/dist-packages (from ipywidgets>=7.6.5->pycaret) (3.0.9)\n",
            "Requirement already satisfied: contourpy>=1.0.1 in /usr/local/lib/python3.10/dist-packages (from matplotlib<=3.6,>=3.3.0->pycaret) (1.2.0)\n",
            "Requirement already satisfied: cycler>=0.10 in /usr/local/lib/python3.10/dist-packages (from matplotlib<=3.6,>=3.3.0->pycaret) (0.12.1)\n",
            "Requirement already satisfied: fonttools>=4.22.0 in /usr/local/lib/python3.10/dist-packages (from matplotlib<=3.6,>=3.3.0->pycaret) (4.47.2)\n",
            "Requirement already satisfied: kiwisolver>=1.0.1 in /usr/local/lib/python3.10/dist-packages (from matplotlib<=3.6,>=3.3.0->pycaret) (1.4.5)\n",
            "Requirement already satisfied: pillow>=6.2.0 in /usr/local/lib/python3.10/dist-packages (from matplotlib<=3.6,>=3.3.0->pycaret) (9.4.0)\n",
            "Requirement already satisfied: pyparsing>=2.2.1 in /usr/local/lib/python3.10/dist-packages (from matplotlib<=3.6,>=3.3.0->pycaret) (3.1.1)\n",
            "Requirement already satisfied: python-dateutil>=2.7 in /usr/local/lib/python3.10/dist-packages (from matplotlib<=3.6,>=3.3.0->pycaret) (2.8.2)\n",
            "Requirement already satisfied: fastjsonschema in /usr/local/lib/python3.10/dist-packages (from nbformat>=4.2.0->pycaret) (2.19.1)\n",
            "Requirement already satisfied: jsonschema>=2.6 in /usr/local/lib/python3.10/dist-packages (from nbformat>=4.2.0->pycaret) (4.19.2)\n",
            "Requirement already satisfied: jupyter-core in /usr/local/lib/python3.10/dist-packages (from nbformat>=4.2.0->pycaret) (5.7.1)\n",
            "Requirement already satisfied: llvmlite<0.42,>=0.41.0dev0 in /usr/local/lib/python3.10/dist-packages (from numba>=0.55.0->pycaret) (0.41.1)\n",
            "Requirement already satisfied: pytz>=2020.1 in /usr/local/lib/python3.10/dist-packages (from pandas<2.0.0,>=1.3.0->pycaret) (2023.4)\n",
            "Requirement already satisfied: tenacity>=6.2.0 in /usr/local/lib/python3.10/dist-packages (from plotly>=5.0.0->pycaret) (8.2.3)\n",
            "Collecting dash>=2.9.0 (from plotly-resampler>=0.8.3.1->pycaret)\n",
            "  Downloading dash-2.15.0-py3-none-any.whl (10.2 MB)\n",
            "\u001b[2K     \u001b[90m━━━━━━━━━━━━━━━━━━━━━━━━━━━━━━━━━━━━━━━━\u001b[0m \u001b[32m10.2/10.2 MB\u001b[0m \u001b[31m93.2 MB/s\u001b[0m eta \u001b[36m0:00:00\u001b[0m\n",
            "\u001b[?25hCollecting orjson<4.0.0,>=3.8.0 (from plotly-resampler>=0.8.3.1->pycaret)\n",
            "  Downloading orjson-3.9.13-cp310-cp310-manylinux_2_17_x86_64.manylinux2014_x86_64.whl (138 kB)\n",
            "\u001b[2K     \u001b[90m━━━━━━━━━━━━━━━━━━━━━━━━━━━━━━━━━━━━━━━━\u001b[0m \u001b[32m138.7/138.7 kB\u001b[0m \u001b[31m17.6 MB/s\u001b[0m eta \u001b[36m0:00:00\u001b[0m\n",
            "\u001b[?25hCollecting tsdownsample==0.1.2 (from plotly-resampler>=0.8.3.1->pycaret)\n",
            "  Downloading tsdownsample-0.1.2-cp310-cp310-manylinux_2_17_x86_64.manylinux2014_x86_64.whl (2.3 MB)\n",
            "\u001b[2K     \u001b[90m━━━━━━━━━━━━━━━━━━━━━━━━━━━━━━━━━━━━━━━━\u001b[0m \u001b[32m2.3/2.3 MB\u001b[0m \u001b[31m81.4 MB/s\u001b[0m eta \u001b[36m0:00:00\u001b[0m\n",
            "\u001b[?25hRequirement already satisfied: Cython!=0.29.18,!=0.29.31,>=0.29 in /usr/local/lib/python3.10/dist-packages (from pmdarima!=1.8.1,<3.0.0,>=1.8.0->pycaret) (3.0.8)\n",
            "Requirement already satisfied: urllib3 in /usr/local/lib/python3.10/dist-packages (from pmdarima!=1.8.1,<3.0.0,>=1.8.0->pycaret) (2.0.7)\n",
            "Requirement already satisfied: six in /usr/local/lib/python3.10/dist-packages (from pyod>=1.0.8->pycaret) (1.16.0)\n",
            "Requirement already satisfied: charset-normalizer<4,>=2 in /usr/local/lib/python3.10/dist-packages (from requests>=2.27.1->pycaret) (3.3.2)\n",
            "Requirement already satisfied: idna<4,>=2.5 in /usr/local/lib/python3.10/dist-packages (from requests>=2.27.1->pycaret) (3.6)\n",
            "Requirement already satisfied: certifi>=2017.4.17 in /usr/local/lib/python3.10/dist-packages (from requests>=2.27.1->pycaret) (2024.2.2)\n",
            "Collecting deprecated>=1.2.13 (from sktime!=0.17.1,!=0.17.2,!=0.18.0,<0.22.0,>=0.16.1->pycaret)\n",
            "  Downloading Deprecated-1.2.14-py2.py3-none-any.whl (9.6 kB)\n",
            "Collecting scikit-base<0.6.0 (from sktime!=0.17.1,!=0.17.2,!=0.18.0,<0.22.0,>=0.16.1->pycaret)\n",
            "  Downloading scikit_base-0.5.2-py3-none-any.whl (118 kB)\n",
            "\u001b[2K     \u001b[90m━━━━━━━━━━━━━━━━━━━━━━━━━━━━━━━━━━━━━━━━\u001b[0m \u001b[32m119.0/119.0 kB\u001b[0m \u001b[31m16.1 MB/s\u001b[0m eta \u001b[36m0:00:00\u001b[0m\n",
            "\u001b[?25hRequirement already satisfied: Flask<3.1,>=1.0.4 in /usr/local/lib/python3.10/dist-packages (from dash>=2.9.0->plotly-resampler>=0.8.3.1->pycaret) (2.2.5)\n",
            "Requirement already satisfied: Werkzeug<3.1 in /usr/local/lib/python3.10/dist-packages (from dash>=2.9.0->plotly-resampler>=0.8.3.1->pycaret) (3.0.1)\n",
            "Collecting dash-html-components==2.0.0 (from dash>=2.9.0->plotly-resampler>=0.8.3.1->pycaret)\n",
            "  Downloading dash_html_components-2.0.0-py3-none-any.whl (4.1 kB)\n",
            "Collecting dash-core-components==2.0.0 (from dash>=2.9.0->plotly-resampler>=0.8.3.1->pycaret)\n",
            "  Downloading dash_core_components-2.0.0-py3-none-any.whl (3.8 kB)\n",
            "Collecting dash-table==5.0.0 (from dash>=2.9.0->plotly-resampler>=0.8.3.1->pycaret)\n",
            "  Downloading dash_table-5.0.0-py3-none-any.whl (3.9 kB)\n",
            "Requirement already satisfied: typing-extensions>=4.1.1 in /usr/local/lib/python3.10/dist-packages (from dash>=2.9.0->plotly-resampler>=0.8.3.1->pycaret) (4.9.0)\n",
            "Collecting retrying (from dash>=2.9.0->plotly-resampler>=0.8.3.1->pycaret)\n",
            "  Downloading retrying-1.3.4-py3-none-any.whl (11 kB)\n",
            "Requirement already satisfied: nest-asyncio in /usr/local/lib/python3.10/dist-packages (from dash>=2.9.0->plotly-resampler>=0.8.3.1->pycaret) (1.6.0)\n",
            "Requirement already satisfied: wrapt<2,>=1.10 in /usr/local/lib/python3.10/dist-packages (from deprecated>=1.2.13->sktime!=0.17.1,!=0.17.2,!=0.18.0,<0.22.0,>=0.16.1->pycaret) (1.14.1)\n",
            "Requirement already satisfied: jupyter-client in /usr/local/lib/python3.10/dist-packages (from ipykernel>=4.5.1->ipywidgets>=7.6.5->pycaret) (6.1.12)\n",
            "Requirement already satisfied: tornado>=4.2 in /usr/local/lib/python3.10/dist-packages (from ipykernel>=4.5.1->ipywidgets>=7.6.5->pycaret) (6.3.2)\n",
            "Requirement already satisfied: parso<0.9.0,>=0.8.3 in /usr/local/lib/python3.10/dist-packages (from jedi>=0.16->ipython>=5.5.0->pycaret) (0.8.3)\n",
            "Requirement already satisfied: attrs>=22.2.0 in /usr/local/lib/python3.10/dist-packages (from jsonschema>=2.6->nbformat>=4.2.0->pycaret) (23.2.0)\n",
            "Requirement already satisfied: jsonschema-specifications>=2023.03.6 in /usr/local/lib/python3.10/dist-packages (from jsonschema>=2.6->nbformat>=4.2.0->pycaret) (2023.12.1)\n",
            "Requirement already satisfied: referencing>=0.28.4 in /usr/local/lib/python3.10/dist-packages (from jsonschema>=2.6->nbformat>=4.2.0->pycaret) (0.33.0)\n",
            "Requirement already satisfied: rpds-py>=0.7.1 in /usr/local/lib/python3.10/dist-packages (from jsonschema>=2.6->nbformat>=4.2.0->pycaret) (0.17.1)\n",
            "Requirement already satisfied: ptyprocess>=0.5 in /usr/local/lib/python3.10/dist-packages (from pexpect>4.3->ipython>=5.5.0->pycaret) (0.7.0)\n",
            "Requirement already satisfied: wcwidth in /usr/local/lib/python3.10/dist-packages (from prompt-toolkit!=3.0.0,!=3.0.1,<3.1.0,>=2.0.0->ipython>=5.5.0->pycaret) (0.2.13)\n",
            "Requirement already satisfied: notebook>=4.4.1 in /usr/local/lib/python3.10/dist-packages (from widgetsnbextension~=3.6.0->ipywidgets>=7.6.5->pycaret) (6.5.5)\n",
            "Requirement already satisfied: platformdirs>=2.5 in /usr/local/lib/python3.10/dist-packages (from jupyter-core->nbformat>=4.2.0->pycaret) (4.2.0)\n",
            "Requirement already satisfied: itsdangerous>=2.0 in /usr/local/lib/python3.10/dist-packages (from Flask<3.1,>=1.0.4->dash>=2.9.0->plotly-resampler>=0.8.3.1->pycaret) (2.1.2)\n",
            "Requirement already satisfied: click>=8.0 in /usr/local/lib/python3.10/dist-packages (from Flask<3.1,>=1.0.4->dash>=2.9.0->plotly-resampler>=0.8.3.1->pycaret) (8.1.7)\n",
            "Requirement already satisfied: pyzmq<25,>=17 in /usr/local/lib/python3.10/dist-packages (from notebook>=4.4.1->widgetsnbextension~=3.6.0->ipywidgets>=7.6.5->pycaret) (23.2.1)\n",
            "Requirement already satisfied: argon2-cffi in /usr/local/lib/python3.10/dist-packages (from notebook>=4.4.1->widgetsnbextension~=3.6.0->ipywidgets>=7.6.5->pycaret) (23.1.0)\n",
            "Requirement already satisfied: nbconvert>=5 in /usr/local/lib/python3.10/dist-packages (from notebook>=4.4.1->widgetsnbextension~=3.6.0->ipywidgets>=7.6.5->pycaret) (6.5.4)\n",
            "Requirement already satisfied: Send2Trash>=1.8.0 in /usr/local/lib/python3.10/dist-packages (from notebook>=4.4.1->widgetsnbextension~=3.6.0->ipywidgets>=7.6.5->pycaret) (1.8.2)\n",
            "Requirement already satisfied: terminado>=0.8.3 in /usr/local/lib/python3.10/dist-packages (from notebook>=4.4.1->widgetsnbextension~=3.6.0->ipywidgets>=7.6.5->pycaret) (0.18.0)\n",
            "Requirement already satisfied: prometheus-client in /usr/local/lib/python3.10/dist-packages (from notebook>=4.4.1->widgetsnbextension~=3.6.0->ipywidgets>=7.6.5->pycaret) (0.19.0)\n",
            "Requirement already satisfied: nbclassic>=0.4.7 in /usr/local/lib/python3.10/dist-packages (from notebook>=4.4.1->widgetsnbextension~=3.6.0->ipywidgets>=7.6.5->pycaret) (1.0.0)\n",
            "Requirement already satisfied: jupyter-server>=1.8 in /usr/local/lib/python3.10/dist-packages (from nbclassic>=0.4.7->notebook>=4.4.1->widgetsnbextension~=3.6.0->ipywidgets>=7.6.5->pycaret) (1.24.0)\n",
            "Requirement already satisfied: notebook-shim>=0.2.3 in /usr/local/lib/python3.10/dist-packages (from nbclassic>=0.4.7->notebook>=4.4.1->widgetsnbextension~=3.6.0->ipywidgets>=7.6.5->pycaret) (0.2.3)\n",
            "Requirement already satisfied: lxml in /usr/local/lib/python3.10/dist-packages (from nbconvert>=5->notebook>=4.4.1->widgetsnbextension~=3.6.0->ipywidgets>=7.6.5->pycaret) (4.9.4)\n",
            "Requirement already satisfied: beautifulsoup4 in /usr/local/lib/python3.10/dist-packages (from nbconvert>=5->notebook>=4.4.1->widgetsnbextension~=3.6.0->ipywidgets>=7.6.5->pycaret) (4.12.3)\n",
            "Requirement already satisfied: bleach in /usr/local/lib/python3.10/dist-packages (from nbconvert>=5->notebook>=4.4.1->widgetsnbextension~=3.6.0->ipywidgets>=7.6.5->pycaret) (6.1.0)\n",
            "Requirement already satisfied: defusedxml in /usr/local/lib/python3.10/dist-packages (from nbconvert>=5->notebook>=4.4.1->widgetsnbextension~=3.6.0->ipywidgets>=7.6.5->pycaret) (0.7.1)\n",
            "Requirement already satisfied: entrypoints>=0.2.2 in /usr/local/lib/python3.10/dist-packages (from nbconvert>=5->notebook>=4.4.1->widgetsnbextension~=3.6.0->ipywidgets>=7.6.5->pycaret) (0.4)\n",
            "Requirement already satisfied: jupyterlab-pygments in /usr/local/lib/python3.10/dist-packages (from nbconvert>=5->notebook>=4.4.1->widgetsnbextension~=3.6.0->ipywidgets>=7.6.5->pycaret) (0.3.0)\n",
            "Requirement already satisfied: mistune<2,>=0.8.1 in /usr/local/lib/python3.10/dist-packages (from nbconvert>=5->notebook>=4.4.1->widgetsnbextension~=3.6.0->ipywidgets>=7.6.5->pycaret) (0.8.4)\n",
            "Requirement already satisfied: nbclient>=0.5.0 in /usr/local/lib/python3.10/dist-packages (from nbconvert>=5->notebook>=4.4.1->widgetsnbextension~=3.6.0->ipywidgets>=7.6.5->pycaret) (0.9.0)\n",
            "Requirement already satisfied: pandocfilters>=1.4.1 in /usr/local/lib/python3.10/dist-packages (from nbconvert>=5->notebook>=4.4.1->widgetsnbextension~=3.6.0->ipywidgets>=7.6.5->pycaret) (1.5.1)\n",
            "Requirement already satisfied: tinycss2 in /usr/local/lib/python3.10/dist-packages (from nbconvert>=5->notebook>=4.4.1->widgetsnbextension~=3.6.0->ipywidgets>=7.6.5->pycaret) (1.2.1)\n",
            "Requirement already satisfied: argon2-cffi-bindings in /usr/local/lib/python3.10/dist-packages (from argon2-cffi->notebook>=4.4.1->widgetsnbextension~=3.6.0->ipywidgets>=7.6.5->pycaret) (21.2.0)\n",
            "Requirement already satisfied: anyio<4,>=3.1.0 in /usr/local/lib/python3.10/dist-packages (from jupyter-server>=1.8->nbclassic>=0.4.7->notebook>=4.4.1->widgetsnbextension~=3.6.0->ipywidgets>=7.6.5->pycaret) (3.7.1)\n",
            "Requirement already satisfied: websocket-client in /usr/local/lib/python3.10/dist-packages (from jupyter-server>=1.8->nbclassic>=0.4.7->notebook>=4.4.1->widgetsnbextension~=3.6.0->ipywidgets>=7.6.5->pycaret) (1.7.0)\n",
            "Requirement already satisfied: cffi>=1.0.1 in /usr/local/lib/python3.10/dist-packages (from argon2-cffi-bindings->argon2-cffi->notebook>=4.4.1->widgetsnbextension~=3.6.0->ipywidgets>=7.6.5->pycaret) (1.16.0)\n",
            "Requirement already satisfied: soupsieve>1.2 in /usr/local/lib/python3.10/dist-packages (from beautifulsoup4->nbconvert>=5->notebook>=4.4.1->widgetsnbextension~=3.6.0->ipywidgets>=7.6.5->pycaret) (2.5)\n",
            "Requirement already satisfied: webencodings in /usr/local/lib/python3.10/dist-packages (from bleach->nbconvert>=5->notebook>=4.4.1->widgetsnbextension~=3.6.0->ipywidgets>=7.6.5->pycaret) (0.5.1)\n",
            "Requirement already satisfied: sniffio>=1.1 in /usr/local/lib/python3.10/dist-packages (from anyio<4,>=3.1.0->jupyter-server>=1.8->nbclassic>=0.4.7->notebook>=4.4.1->widgetsnbextension~=3.6.0->ipywidgets>=7.6.5->pycaret) (1.3.0)\n",
            "Requirement already satisfied: exceptiongroup in /usr/local/lib/python3.10/dist-packages (from anyio<4,>=3.1.0->jupyter-server>=1.8->nbclassic>=0.4.7->notebook>=4.4.1->widgetsnbextension~=3.6.0->ipywidgets>=7.6.5->pycaret) (1.2.0)\n",
            "Requirement already satisfied: pycparser in /usr/local/lib/python3.10/dist-packages (from cffi>=1.0.1->argon2-cffi-bindings->argon2-cffi->notebook>=4.4.1->widgetsnbextension~=3.6.0->ipywidgets>=7.6.5->pycaret) (2.21)\n",
            "Building wheels for collected packages: pyod\n",
            "  Building wheel for pyod (setup.py) ... \u001b[?25l\u001b[?25hdone\n",
            "  Created wheel for pyod: filename=pyod-1.1.2-py3-none-any.whl size=190292 sha256=e49c56c4df9441d46c1e0956dc247f9e51fb7f5c442cd8dbbd88b199936f853d\n",
            "  Stored in directory: /root/.cache/pip/wheels/81/1b/61/aa85b78c3c0c8871f4231e3f4a03bb23cecb7db829498380ee\n",
            "Successfully built pyod\n",
            "Installing collected packages: kaleido, dash-table, dash-html-components, dash-core-components, wurlitzer, tsdownsample, scipy, scikit-base, schemdraw, retrying, orjson, jedi, deprecation, deprecated, matplotlib, sktime, scikit-plot, pyod, dash, pmdarima, plotly-resampler, category-encoders, tbats, pycaret\n",
            "  Attempting uninstall: scipy\n",
            "    Found existing installation: scipy 1.11.4\n",
            "    Uninstalling scipy-1.11.4:\n",
            "      Successfully uninstalled scipy-1.11.4\n",
            "  Attempting uninstall: matplotlib\n",
            "    Found existing installation: matplotlib 3.7.1\n",
            "    Uninstalling matplotlib-3.7.1:\n",
            "      Successfully uninstalled matplotlib-3.7.1\n",
            "\u001b[31mERROR: pip's dependency resolver does not currently take into account all the packages that are installed. This behaviour is the source of the following dependency conflicts.\n",
            "lida 0.0.10 requires fastapi, which is not installed.\n",
            "lida 0.0.10 requires python-multipart, which is not installed.\n",
            "lida 0.0.10 requires uvicorn, which is not installed.\u001b[0m\u001b[31m\n",
            "\u001b[0mSuccessfully installed category-encoders-2.6.3 dash-2.15.0 dash-core-components-2.0.0 dash-html-components-2.0.0 dash-table-5.0.0 deprecated-1.2.14 deprecation-2.1.0 jedi-0.19.1 kaleido-0.2.1 matplotlib-3.6.0 orjson-3.9.13 plotly-resampler-0.9.2 pmdarima-2.0.4 pycaret-3.2.0 pyod-1.1.2 retrying-1.3.4 schemdraw-0.15 scikit-base-0.5.2 scikit-plot-0.3.7 scipy-1.10.1 sktime-0.21.1 tbats-1.1.3 tsdownsample-0.1.2 wurlitzer-3.0.3\n"
          ]
        },
        {
          "output_type": "display_data",
          "data": {
            "application/vnd.colab-display-data+json": {
              "pip_warning": {
                "packages": [
                  "matplotlib",
                  "mpl_toolkits"
                ]
              }
            }
          },
          "metadata": {}
        }
      ],
      "source": [
        "# Step 3: Installing the Pycaret library (helps to perform Auto-Machine Learn)\n",
        "!pip install pycaret"
      ],
      "id": "5U1Mqbfvsp2w"
    },
    {
      "cell_type": "markdown",
      "source": [
        "# # Step 4: Importing the Pycaret library\n"
      ],
      "metadata": {
        "id": "05BsbYCUnmXc"
      },
      "id": "05BsbYCUnmXc"
    },
    {
      "cell_type": "code",
      "execution_count": null,
      "metadata": {
        "id": "68ab1c7b"
      },
      "outputs": [],
      "source": [
        "# Step 4: Importing the Pycaret library\n",
        "from pycaret import classification"
      ],
      "id": "68ab1c7b"
    },
    {
      "cell_type": "markdown",
      "source": [
        "# # Step 5: Pre-processing the data\n"
      ],
      "metadata": {
        "id": "EGZatNKsnrIB"
      },
      "id": "EGZatNKsnrIB"
    },
    {
      "cell_type": "code",
      "execution_count": null,
      "metadata": {
        "id": "00fff9af",
        "colab": {
          "base_uri": "https://localhost:8080/",
          "height": 645
        },
        "outputId": "bc7656d8-6874-4440-9e20-eca33b4c14b0"
      },
      "outputs": [
        {
          "output_type": "display_data",
          "data": {
            "text/plain": [
              "<pandas.io.formats.style.Styler at 0x785d32a85c00>"
            ],
            "text/html": [
              "<style type=\"text/css\">\n",
              "#T_effa6_row8_col1 {\n",
              "  background-color: lightgreen;\n",
              "}\n",
              "</style>\n",
              "<table id=\"T_effa6\" class=\"dataframe\">\n",
              "  <thead>\n",
              "    <tr>\n",
              "      <th class=\"blank level0\" >&nbsp;</th>\n",
              "      <th id=\"T_effa6_level0_col0\" class=\"col_heading level0 col0\" >Description</th>\n",
              "      <th id=\"T_effa6_level0_col1\" class=\"col_heading level0 col1\" >Value</th>\n",
              "    </tr>\n",
              "  </thead>\n",
              "  <tbody>\n",
              "    <tr>\n",
              "      <th id=\"T_effa6_level0_row0\" class=\"row_heading level0 row0\" >0</th>\n",
              "      <td id=\"T_effa6_row0_col0\" class=\"data row0 col0\" >Session id</td>\n",
              "      <td id=\"T_effa6_row0_col1\" class=\"data row0 col1\" >2851</td>\n",
              "    </tr>\n",
              "    <tr>\n",
              "      <th id=\"T_effa6_level0_row1\" class=\"row_heading level0 row1\" >1</th>\n",
              "      <td id=\"T_effa6_row1_col0\" class=\"data row1 col0\" >Target</td>\n",
              "      <td id=\"T_effa6_row1_col1\" class=\"data row1 col1\" >Classes</td>\n",
              "    </tr>\n",
              "    <tr>\n",
              "      <th id=\"T_effa6_level0_row2\" class=\"row_heading level0 row2\" >2</th>\n",
              "      <td id=\"T_effa6_row2_col0\" class=\"data row2 col0\" >Target type</td>\n",
              "      <td id=\"T_effa6_row2_col1\" class=\"data row2 col1\" >Multiclass</td>\n",
              "    </tr>\n",
              "    <tr>\n",
              "      <th id=\"T_effa6_level0_row3\" class=\"row_heading level0 row3\" >3</th>\n",
              "      <td id=\"T_effa6_row3_col0\" class=\"data row3 col0\" >Original data shape</td>\n",
              "      <td id=\"T_effa6_row3_col1\" class=\"data row3 col1\" >(600, 285)</td>\n",
              "    </tr>\n",
              "    <tr>\n",
              "      <th id=\"T_effa6_level0_row4\" class=\"row_heading level0 row4\" >4</th>\n",
              "      <td id=\"T_effa6_row4_col0\" class=\"data row4 col0\" >Transformed data shape</td>\n",
              "      <td id=\"T_effa6_row4_col1\" class=\"data row4 col1\" >(600, 285)</td>\n",
              "    </tr>\n",
              "    <tr>\n",
              "      <th id=\"T_effa6_level0_row5\" class=\"row_heading level0 row5\" >5</th>\n",
              "      <td id=\"T_effa6_row5_col0\" class=\"data row5 col0\" >Transformed train set shape</td>\n",
              "      <td id=\"T_effa6_row5_col1\" class=\"data row5 col1\" >(420, 285)</td>\n",
              "    </tr>\n",
              "    <tr>\n",
              "      <th id=\"T_effa6_level0_row6\" class=\"row_heading level0 row6\" >6</th>\n",
              "      <td id=\"T_effa6_row6_col0\" class=\"data row6 col0\" >Transformed test set shape</td>\n",
              "      <td id=\"T_effa6_row6_col1\" class=\"data row6 col1\" >(180, 285)</td>\n",
              "    </tr>\n",
              "    <tr>\n",
              "      <th id=\"T_effa6_level0_row7\" class=\"row_heading level0 row7\" >7</th>\n",
              "      <td id=\"T_effa6_row7_col0\" class=\"data row7 col0\" >Numeric features</td>\n",
              "      <td id=\"T_effa6_row7_col1\" class=\"data row7 col1\" >284</td>\n",
              "    </tr>\n",
              "    <tr>\n",
              "      <th id=\"T_effa6_level0_row8\" class=\"row_heading level0 row8\" >8</th>\n",
              "      <td id=\"T_effa6_row8_col0\" class=\"data row8 col0\" >Preprocess</td>\n",
              "      <td id=\"T_effa6_row8_col1\" class=\"data row8 col1\" >True</td>\n",
              "    </tr>\n",
              "    <tr>\n",
              "      <th id=\"T_effa6_level0_row9\" class=\"row_heading level0 row9\" >9</th>\n",
              "      <td id=\"T_effa6_row9_col0\" class=\"data row9 col0\" >Imputation type</td>\n",
              "      <td id=\"T_effa6_row9_col1\" class=\"data row9 col1\" >simple</td>\n",
              "    </tr>\n",
              "    <tr>\n",
              "      <th id=\"T_effa6_level0_row10\" class=\"row_heading level0 row10\" >10</th>\n",
              "      <td id=\"T_effa6_row10_col0\" class=\"data row10 col0\" >Numeric imputation</td>\n",
              "      <td id=\"T_effa6_row10_col1\" class=\"data row10 col1\" >mean</td>\n",
              "    </tr>\n",
              "    <tr>\n",
              "      <th id=\"T_effa6_level0_row11\" class=\"row_heading level0 row11\" >11</th>\n",
              "      <td id=\"T_effa6_row11_col0\" class=\"data row11 col0\" >Categorical imputation</td>\n",
              "      <td id=\"T_effa6_row11_col1\" class=\"data row11 col1\" >mode</td>\n",
              "    </tr>\n",
              "    <tr>\n",
              "      <th id=\"T_effa6_level0_row12\" class=\"row_heading level0 row12\" >12</th>\n",
              "      <td id=\"T_effa6_row12_col0\" class=\"data row12 col0\" >Fold Generator</td>\n",
              "      <td id=\"T_effa6_row12_col1\" class=\"data row12 col1\" >StratifiedKFold</td>\n",
              "    </tr>\n",
              "    <tr>\n",
              "      <th id=\"T_effa6_level0_row13\" class=\"row_heading level0 row13\" >13</th>\n",
              "      <td id=\"T_effa6_row13_col0\" class=\"data row13 col0\" >Fold Number</td>\n",
              "      <td id=\"T_effa6_row13_col1\" class=\"data row13 col1\" >10</td>\n",
              "    </tr>\n",
              "    <tr>\n",
              "      <th id=\"T_effa6_level0_row14\" class=\"row_heading level0 row14\" >14</th>\n",
              "      <td id=\"T_effa6_row14_col0\" class=\"data row14 col0\" >CPU Jobs</td>\n",
              "      <td id=\"T_effa6_row14_col1\" class=\"data row14 col1\" >-1</td>\n",
              "    </tr>\n",
              "    <tr>\n",
              "      <th id=\"T_effa6_level0_row15\" class=\"row_heading level0 row15\" >15</th>\n",
              "      <td id=\"T_effa6_row15_col0\" class=\"data row15 col0\" >Use GPU</td>\n",
              "      <td id=\"T_effa6_row15_col1\" class=\"data row15 col1\" >False</td>\n",
              "    </tr>\n",
              "    <tr>\n",
              "      <th id=\"T_effa6_level0_row16\" class=\"row_heading level0 row16\" >16</th>\n",
              "      <td id=\"T_effa6_row16_col0\" class=\"data row16 col0\" >Log Experiment</td>\n",
              "      <td id=\"T_effa6_row16_col1\" class=\"data row16 col1\" >False</td>\n",
              "    </tr>\n",
              "    <tr>\n",
              "      <th id=\"T_effa6_level0_row17\" class=\"row_heading level0 row17\" >17</th>\n",
              "      <td id=\"T_effa6_row17_col0\" class=\"data row17 col0\" >Experiment Name</td>\n",
              "      <td id=\"T_effa6_row17_col1\" class=\"data row17 col1\" >clf-default-name</td>\n",
              "    </tr>\n",
              "    <tr>\n",
              "      <th id=\"T_effa6_level0_row18\" class=\"row_heading level0 row18\" >18</th>\n",
              "      <td id=\"T_effa6_row18_col0\" class=\"data row18 col0\" >USI</td>\n",
              "      <td id=\"T_effa6_row18_col1\" class=\"data row18 col1\" >d71e</td>\n",
              "    </tr>\n",
              "  </tbody>\n",
              "</table>\n"
            ]
          },
          "metadata": {}
        }
      ],
      "source": [
        "# Step 5: Pre-processing the data\n",
        "classification_setup = classification.setup(data = df1, target = \"Classes\")"
      ],
      "id": "00fff9af"
    },
    {
      "cell_type": "markdown",
      "source": [
        "# # Step 6: Building and comparing different models\n"
      ],
      "metadata": {
        "id": "n2imSPkZnwvp"
      },
      "id": "n2imSPkZnwvp"
    },
    {
      "cell_type": "code",
      "execution_count": null,
      "metadata": {
        "id": "4e906af1",
        "colab": {
          "base_uri": "https://localhost:8080/",
          "height": 488,
          "referenced_widgets": [
            "af990c8878cf4b3f870c7f0014f89a14",
            "13e7dc093fe346b4801f76e6a7c6a0a4",
            "a456832134bf4010a0bfd49ed61978fb",
            "eb09e398d8ca4f378ad4ecba12569c95",
            "c60505f841844dfa805353fe4bb75e48",
            "6a0f463c0d694d88a7b118a8bd0b2189",
            "6e1c2d5e7d9e42cb8caae6576b83cd1e",
            "0b596117e9bc40cb984430a22115ad82",
            "fe0775cb4e6c403ab19e7c42f4dfe15d",
            "f25c3af1030e419db6163c499d6097a3",
            "8254a14353a44dcbb6d29ceef3545f3b"
          ]
        },
        "outputId": "cb471314-9b7e-4ea9-dde7-1e31ee54e2d7"
      },
      "outputs": [
        {
          "output_type": "display_data",
          "data": {
            "text/plain": [
              "<IPython.core.display.HTML object>"
            ],
            "text/html": []
          },
          "metadata": {}
        },
        {
          "output_type": "display_data",
          "data": {
            "text/plain": [
              "<pandas.io.formats.style.Styler at 0x785d33d577c0>"
            ],
            "text/html": [
              "<style type=\"text/css\">\n",
              "#T_00676 th {\n",
              "  text-align: left;\n",
              "}\n",
              "#T_00676_row0_col0, #T_00676_row1_col0, #T_00676_row2_col0, #T_00676_row2_col1, #T_00676_row2_col2, #T_00676_row2_col3, #T_00676_row2_col4, #T_00676_row2_col5, #T_00676_row2_col6, #T_00676_row2_col7, #T_00676_row3_col0, #T_00676_row3_col1, #T_00676_row3_col3, #T_00676_row3_col4, #T_00676_row3_col5, #T_00676_row3_col6, #T_00676_row3_col7, #T_00676_row4_col0, #T_00676_row4_col1, #T_00676_row4_col2, #T_00676_row4_col3, #T_00676_row4_col4, #T_00676_row4_col5, #T_00676_row4_col6, #T_00676_row4_col7, #T_00676_row5_col0, #T_00676_row5_col1, #T_00676_row5_col2, #T_00676_row5_col3, #T_00676_row5_col4, #T_00676_row5_col5, #T_00676_row5_col6, #T_00676_row5_col7, #T_00676_row6_col0, #T_00676_row6_col1, #T_00676_row6_col2, #T_00676_row6_col3, #T_00676_row6_col4, #T_00676_row6_col5, #T_00676_row6_col6, #T_00676_row6_col7, #T_00676_row7_col0, #T_00676_row7_col1, #T_00676_row7_col2, #T_00676_row7_col3, #T_00676_row7_col4, #T_00676_row7_col5, #T_00676_row7_col6, #T_00676_row7_col7, #T_00676_row8_col0, #T_00676_row8_col1, #T_00676_row8_col2, #T_00676_row8_col3, #T_00676_row8_col4, #T_00676_row8_col5, #T_00676_row8_col6, #T_00676_row8_col7, #T_00676_row9_col0, #T_00676_row9_col1, #T_00676_row9_col2, #T_00676_row9_col3, #T_00676_row9_col4, #T_00676_row9_col5, #T_00676_row9_col6, #T_00676_row9_col7, #T_00676_row10_col0, #T_00676_row10_col1, #T_00676_row10_col2, #T_00676_row10_col3, #T_00676_row10_col4, #T_00676_row10_col5, #T_00676_row10_col6, #T_00676_row10_col7, #T_00676_row11_col0, #T_00676_row11_col1, #T_00676_row11_col2, #T_00676_row11_col3, #T_00676_row11_col4, #T_00676_row11_col5, #T_00676_row11_col6, #T_00676_row11_col7, #T_00676_row12_col0, #T_00676_row12_col1, #T_00676_row12_col2, #T_00676_row12_col3, #T_00676_row12_col4, #T_00676_row12_col5, #T_00676_row12_col6, #T_00676_row12_col7, #T_00676_row13_col0, #T_00676_row13_col1, #T_00676_row13_col2, #T_00676_row13_col3, #T_00676_row13_col4, #T_00676_row13_col5, #T_00676_row13_col6, #T_00676_row13_col7 {\n",
              "  text-align: left;\n",
              "}\n",
              "#T_00676_row0_col1, #T_00676_row0_col2, #T_00676_row0_col3, #T_00676_row0_col4, #T_00676_row0_col5, #T_00676_row0_col6, #T_00676_row0_col7, #T_00676_row1_col1, #T_00676_row1_col2, #T_00676_row1_col3, #T_00676_row1_col4, #T_00676_row1_col5, #T_00676_row1_col6, #T_00676_row1_col7, #T_00676_row3_col2 {\n",
              "  text-align: left;\n",
              "  background-color: yellow;\n",
              "}\n",
              "#T_00676_row0_col8, #T_00676_row1_col8, #T_00676_row2_col8, #T_00676_row3_col8, #T_00676_row4_col8, #T_00676_row5_col8, #T_00676_row6_col8, #T_00676_row7_col8, #T_00676_row8_col8, #T_00676_row9_col8, #T_00676_row10_col8, #T_00676_row12_col8, #T_00676_row13_col8 {\n",
              "  text-align: left;\n",
              "  background-color: lightgrey;\n",
              "}\n",
              "#T_00676_row11_col8 {\n",
              "  text-align: left;\n",
              "  background-color: yellow;\n",
              "  background-color: lightgrey;\n",
              "}\n",
              "</style>\n",
              "<table id=\"T_00676\" class=\"dataframe\">\n",
              "  <thead>\n",
              "    <tr>\n",
              "      <th class=\"blank level0\" >&nbsp;</th>\n",
              "      <th id=\"T_00676_level0_col0\" class=\"col_heading level0 col0\" >Model</th>\n",
              "      <th id=\"T_00676_level0_col1\" class=\"col_heading level0 col1\" >Accuracy</th>\n",
              "      <th id=\"T_00676_level0_col2\" class=\"col_heading level0 col2\" >AUC</th>\n",
              "      <th id=\"T_00676_level0_col3\" class=\"col_heading level0 col3\" >Recall</th>\n",
              "      <th id=\"T_00676_level0_col4\" class=\"col_heading level0 col4\" >Prec.</th>\n",
              "      <th id=\"T_00676_level0_col5\" class=\"col_heading level0 col5\" >F1</th>\n",
              "      <th id=\"T_00676_level0_col6\" class=\"col_heading level0 col6\" >Kappa</th>\n",
              "      <th id=\"T_00676_level0_col7\" class=\"col_heading level0 col7\" >MCC</th>\n",
              "      <th id=\"T_00676_level0_col8\" class=\"col_heading level0 col8\" >TT (Sec)</th>\n",
              "    </tr>\n",
              "  </thead>\n",
              "  <tbody>\n",
              "    <tr>\n",
              "      <th id=\"T_00676_level0_row0\" class=\"row_heading level0 row0\" >rf</th>\n",
              "      <td id=\"T_00676_row0_col0\" class=\"data row0 col0\" >Random Forest Classifier</td>\n",
              "      <td id=\"T_00676_row0_col1\" class=\"data row0 col1\" >0.9976</td>\n",
              "      <td id=\"T_00676_row0_col2\" class=\"data row0 col2\" >1.0000</td>\n",
              "      <td id=\"T_00676_row0_col3\" class=\"data row0 col3\" >0.9976</td>\n",
              "      <td id=\"T_00676_row0_col4\" class=\"data row0 col4\" >0.9977</td>\n",
              "      <td id=\"T_00676_row0_col5\" class=\"data row0 col5\" >0.9975</td>\n",
              "      <td id=\"T_00676_row0_col6\" class=\"data row0 col6\" >0.9951</td>\n",
              "      <td id=\"T_00676_row0_col7\" class=\"data row0 col7\" >0.9953</td>\n",
              "      <td id=\"T_00676_row0_col8\" class=\"data row0 col8\" >0.0960</td>\n",
              "    </tr>\n",
              "    <tr>\n",
              "      <th id=\"T_00676_level0_row1\" class=\"row_heading level0 row1\" >gbc</th>\n",
              "      <td id=\"T_00676_row1_col0\" class=\"data row1 col0\" >Gradient Boosting Classifier</td>\n",
              "      <td id=\"T_00676_row1_col1\" class=\"data row1 col1\" >0.9976</td>\n",
              "      <td id=\"T_00676_row1_col2\" class=\"data row1 col2\" >1.0000</td>\n",
              "      <td id=\"T_00676_row1_col3\" class=\"data row1 col3\" >0.9976</td>\n",
              "      <td id=\"T_00676_row1_col4\" class=\"data row1 col4\" >0.9977</td>\n",
              "      <td id=\"T_00676_row1_col5\" class=\"data row1 col5\" >0.9975</td>\n",
              "      <td id=\"T_00676_row1_col6\" class=\"data row1 col6\" >0.9951</td>\n",
              "      <td id=\"T_00676_row1_col7\" class=\"data row1 col7\" >0.9953</td>\n",
              "      <td id=\"T_00676_row1_col8\" class=\"data row1 col8\" >1.4610</td>\n",
              "    </tr>\n",
              "    <tr>\n",
              "      <th id=\"T_00676_level0_row2\" class=\"row_heading level0 row2\" >ada</th>\n",
              "      <td id=\"T_00676_row2_col0\" class=\"data row2 col0\" >Ada Boost Classifier</td>\n",
              "      <td id=\"T_00676_row2_col1\" class=\"data row2 col1\" >0.9952</td>\n",
              "      <td id=\"T_00676_row2_col2\" class=\"data row2 col2\" >0.9988</td>\n",
              "      <td id=\"T_00676_row2_col3\" class=\"data row2 col3\" >0.9952</td>\n",
              "      <td id=\"T_00676_row2_col4\" class=\"data row2 col4\" >0.9956</td>\n",
              "      <td id=\"T_00676_row2_col5\" class=\"data row2 col5\" >0.9952</td>\n",
              "      <td id=\"T_00676_row2_col6\" class=\"data row2 col6\" >0.9905</td>\n",
              "      <td id=\"T_00676_row2_col7\" class=\"data row2 col7\" >0.9907</td>\n",
              "      <td id=\"T_00676_row2_col8\" class=\"data row2 col8\" >0.1650</td>\n",
              "    </tr>\n",
              "    <tr>\n",
              "      <th id=\"T_00676_level0_row3\" class=\"row_heading level0 row3\" >et</th>\n",
              "      <td id=\"T_00676_row3_col0\" class=\"data row3 col0\" >Extra Trees Classifier</td>\n",
              "      <td id=\"T_00676_row3_col1\" class=\"data row3 col1\" >0.9929</td>\n",
              "      <td id=\"T_00676_row3_col2\" class=\"data row3 col2\" >1.0000</td>\n",
              "      <td id=\"T_00676_row3_col3\" class=\"data row3 col3\" >0.9929</td>\n",
              "      <td id=\"T_00676_row3_col4\" class=\"data row3 col4\" >0.9935</td>\n",
              "      <td id=\"T_00676_row3_col5\" class=\"data row3 col5\" >0.9929</td>\n",
              "      <td id=\"T_00676_row3_col6\" class=\"data row3 col6\" >0.9858</td>\n",
              "      <td id=\"T_00676_row3_col7\" class=\"data row3 col7\" >0.9862</td>\n",
              "      <td id=\"T_00676_row3_col8\" class=\"data row3 col8\" >0.0730</td>\n",
              "    </tr>\n",
              "    <tr>\n",
              "      <th id=\"T_00676_level0_row4\" class=\"row_heading level0 row4\" >dt</th>\n",
              "      <td id=\"T_00676_row4_col0\" class=\"data row4 col0\" >Decision Tree Classifier</td>\n",
              "      <td id=\"T_00676_row4_col1\" class=\"data row4 col1\" >0.9857</td>\n",
              "      <td id=\"T_00676_row4_col2\" class=\"data row4 col2\" >0.9893</td>\n",
              "      <td id=\"T_00676_row4_col3\" class=\"data row4 col3\" >0.9857</td>\n",
              "      <td id=\"T_00676_row4_col4\" class=\"data row4 col4\" >0.9869</td>\n",
              "      <td id=\"T_00676_row4_col5\" class=\"data row4 col5\" >0.9859</td>\n",
              "      <td id=\"T_00676_row4_col6\" class=\"data row4 col6\" >0.9719</td>\n",
              "      <td id=\"T_00676_row4_col7\" class=\"data row4 col7\" >0.9724</td>\n",
              "      <td id=\"T_00676_row4_col8\" class=\"data row4 col8\" >0.0210</td>\n",
              "    </tr>\n",
              "    <tr>\n",
              "      <th id=\"T_00676_level0_row5\" class=\"row_heading level0 row5\" >xgboost</th>\n",
              "      <td id=\"T_00676_row5_col0\" class=\"data row5 col0\" >Extreme Gradient Boosting</td>\n",
              "      <td id=\"T_00676_row5_col1\" class=\"data row5 col1\" >0.9833</td>\n",
              "      <td id=\"T_00676_row5_col2\" class=\"data row5 col2\" >0.9934</td>\n",
              "      <td id=\"T_00676_row5_col3\" class=\"data row5 col3\" >0.9833</td>\n",
              "      <td id=\"T_00676_row5_col4\" class=\"data row5 col4\" >0.9852</td>\n",
              "      <td id=\"T_00676_row5_col5\" class=\"data row5 col5\" >0.9834</td>\n",
              "      <td id=\"T_00676_row5_col6\" class=\"data row5 col6\" >0.9670</td>\n",
              "      <td id=\"T_00676_row5_col7\" class=\"data row5 col7\" >0.9681</td>\n",
              "      <td id=\"T_00676_row5_col8\" class=\"data row5 col8\" >0.2040</td>\n",
              "    </tr>\n",
              "    <tr>\n",
              "      <th id=\"T_00676_level0_row6\" class=\"row_heading level0 row6\" >knn</th>\n",
              "      <td id=\"T_00676_row6_col0\" class=\"data row6 col0\" >K Neighbors Classifier</td>\n",
              "      <td id=\"T_00676_row6_col1\" class=\"data row6 col1\" >0.9738</td>\n",
              "      <td id=\"T_00676_row6_col2\" class=\"data row6 col2\" >0.9979</td>\n",
              "      <td id=\"T_00676_row6_col3\" class=\"data row6 col3\" >0.9738</td>\n",
              "      <td id=\"T_00676_row6_col4\" class=\"data row6 col4\" >0.9755</td>\n",
              "      <td id=\"T_00676_row6_col5\" class=\"data row6 col5\" >0.9738</td>\n",
              "      <td id=\"T_00676_row6_col6\" class=\"data row6 col6\" >0.9479</td>\n",
              "      <td id=\"T_00676_row6_col7\" class=\"data row6 col7\" >0.9492</td>\n",
              "      <td id=\"T_00676_row6_col8\" class=\"data row6 col8\" >0.0190</td>\n",
              "    </tr>\n",
              "    <tr>\n",
              "      <th id=\"T_00676_level0_row7\" class=\"row_heading level0 row7\" >nb</th>\n",
              "      <td id=\"T_00676_row7_col0\" class=\"data row7 col0\" >Naive Bayes</td>\n",
              "      <td id=\"T_00676_row7_col1\" class=\"data row7 col1\" >0.8524</td>\n",
              "      <td id=\"T_00676_row7_col2\" class=\"data row7 col2\" >0.9696</td>\n",
              "      <td id=\"T_00676_row7_col3\" class=\"data row7 col3\" >0.8524</td>\n",
              "      <td id=\"T_00676_row7_col4\" class=\"data row7 col4\" >0.9020</td>\n",
              "      <td id=\"T_00676_row7_col5\" class=\"data row7 col5\" >0.8576</td>\n",
              "      <td id=\"T_00676_row7_col6\" class=\"data row7 col6\" >0.7457</td>\n",
              "      <td id=\"T_00676_row7_col7\" class=\"data row7 col7\" >0.7722</td>\n",
              "      <td id=\"T_00676_row7_col8\" class=\"data row7 col8\" >0.0160</td>\n",
              "    </tr>\n",
              "    <tr>\n",
              "      <th id=\"T_00676_level0_row8\" class=\"row_heading level0 row8\" >lda</th>\n",
              "      <td id=\"T_00676_row8_col0\" class=\"data row8 col0\" >Linear Discriminant Analysis</td>\n",
              "      <td id=\"T_00676_row8_col1\" class=\"data row8 col1\" >0.8167</td>\n",
              "      <td id=\"T_00676_row8_col2\" class=\"data row8 col2\" >0.9373</td>\n",
              "      <td id=\"T_00676_row8_col3\" class=\"data row8 col3\" >0.8167</td>\n",
              "      <td id=\"T_00676_row8_col4\" class=\"data row8 col4\" >0.8447</td>\n",
              "      <td id=\"T_00676_row8_col5\" class=\"data row8 col5\" >0.8214</td>\n",
              "      <td id=\"T_00676_row8_col6\" class=\"data row8 col6\" >0.6630</td>\n",
              "      <td id=\"T_00676_row8_col7\" class=\"data row8 col7\" >0.6752</td>\n",
              "      <td id=\"T_00676_row8_col8\" class=\"data row8 col8\" >0.0270</td>\n",
              "    </tr>\n",
              "    <tr>\n",
              "      <th id=\"T_00676_level0_row9\" class=\"row_heading level0 row9\" >ridge</th>\n",
              "      <td id=\"T_00676_row9_col0\" class=\"data row9 col0\" >Ridge Classifier</td>\n",
              "      <td id=\"T_00676_row9_col1\" class=\"data row9 col1\" >0.7905</td>\n",
              "      <td id=\"T_00676_row9_col2\" class=\"data row9 col2\" >0.0000</td>\n",
              "      <td id=\"T_00676_row9_col3\" class=\"data row9 col3\" >0.7905</td>\n",
              "      <td id=\"T_00676_row9_col4\" class=\"data row9 col4\" >0.7089</td>\n",
              "      <td id=\"T_00676_row9_col5\" class=\"data row9 col5\" >0.7262</td>\n",
              "      <td id=\"T_00676_row9_col6\" class=\"data row9 col6\" >0.4886</td>\n",
              "      <td id=\"T_00676_row9_col7\" class=\"data row9 col7\" >0.5548</td>\n",
              "      <td id=\"T_00676_row9_col8\" class=\"data row9 col8\" >0.0150</td>\n",
              "    </tr>\n",
              "    <tr>\n",
              "      <th id=\"T_00676_level0_row10\" class=\"row_heading level0 row10\" >lr</th>\n",
              "      <td id=\"T_00676_row10_col0\" class=\"data row10 col0\" >Logistic Regression</td>\n",
              "      <td id=\"T_00676_row10_col1\" class=\"data row10 col1\" >0.7786</td>\n",
              "      <td id=\"T_00676_row10_col2\" class=\"data row10 col2\" >0.8792</td>\n",
              "      <td id=\"T_00676_row10_col3\" class=\"data row10 col3\" >0.7786</td>\n",
              "      <td id=\"T_00676_row10_col4\" class=\"data row10 col4\" >0.6648</td>\n",
              "      <td id=\"T_00676_row10_col5\" class=\"data row10 col5\" >0.7043</td>\n",
              "      <td id=\"T_00676_row10_col6\" class=\"data row10 col6\" >0.4346</td>\n",
              "      <td id=\"T_00676_row10_col7\" class=\"data row10 col7\" >0.5283</td>\n",
              "      <td id=\"T_00676_row10_col8\" class=\"data row10 col8\" >0.5270</td>\n",
              "    </tr>\n",
              "    <tr>\n",
              "      <th id=\"T_00676_level0_row11\" class=\"row_heading level0 row11\" >dummy</th>\n",
              "      <td id=\"T_00676_row11_col0\" class=\"data row11 col0\" >Dummy Classifier</td>\n",
              "      <td id=\"T_00676_row11_col1\" class=\"data row11 col1\" >0.6667</td>\n",
              "      <td id=\"T_00676_row11_col2\" class=\"data row11 col2\" >0.5000</td>\n",
              "      <td id=\"T_00676_row11_col3\" class=\"data row11 col3\" >0.6667</td>\n",
              "      <td id=\"T_00676_row11_col4\" class=\"data row11 col4\" >0.4444</td>\n",
              "      <td id=\"T_00676_row11_col5\" class=\"data row11 col5\" >0.5333</td>\n",
              "      <td id=\"T_00676_row11_col6\" class=\"data row11 col6\" >0.0000</td>\n",
              "      <td id=\"T_00676_row11_col7\" class=\"data row11 col7\" >0.0000</td>\n",
              "      <td id=\"T_00676_row11_col8\" class=\"data row11 col8\" >0.0130</td>\n",
              "    </tr>\n",
              "    <tr>\n",
              "      <th id=\"T_00676_level0_row12\" class=\"row_heading level0 row12\" >svm</th>\n",
              "      <td id=\"T_00676_row12_col0\" class=\"data row12 col0\" >SVM - Linear Kernel</td>\n",
              "      <td id=\"T_00676_row12_col1\" class=\"data row12 col1\" >0.6214</td>\n",
              "      <td id=\"T_00676_row12_col2\" class=\"data row12 col2\" >0.0000</td>\n",
              "      <td id=\"T_00676_row12_col3\" class=\"data row12 col3\" >0.6214</td>\n",
              "      <td id=\"T_00676_row12_col4\" class=\"data row12 col4\" >0.5801</td>\n",
              "      <td id=\"T_00676_row12_col5\" class=\"data row12 col5\" >0.5570</td>\n",
              "      <td id=\"T_00676_row12_col6\" class=\"data row12 col6\" >0.1681</td>\n",
              "      <td id=\"T_00676_row12_col7\" class=\"data row12 col7\" >0.2144</td>\n",
              "      <td id=\"T_00676_row12_col8\" class=\"data row12 col8\" >0.0260</td>\n",
              "    </tr>\n",
              "    <tr>\n",
              "      <th id=\"T_00676_level0_row13\" class=\"row_heading level0 row13\" >qda</th>\n",
              "      <td id=\"T_00676_row13_col0\" class=\"data row13 col0\" >Quadratic Discriminant Analysis</td>\n",
              "      <td id=\"T_00676_row13_col1\" class=\"data row13 col1\" >0.2714</td>\n",
              "      <td id=\"T_00676_row13_col2\" class=\"data row13 col2\" >0.5094</td>\n",
              "      <td id=\"T_00676_row13_col3\" class=\"data row13 col3\" >0.2714</td>\n",
              "      <td id=\"T_00676_row13_col4\" class=\"data row13 col4\" >0.1300</td>\n",
              "      <td id=\"T_00676_row13_col5\" class=\"data row13 col5\" >0.1537</td>\n",
              "      <td id=\"T_00676_row13_col6\" class=\"data row13 col6\" >0.0200</td>\n",
              "      <td id=\"T_00676_row13_col7\" class=\"data row13 col7\" >0.0335</td>\n",
              "      <td id=\"T_00676_row13_col8\" class=\"data row13 col8\" >0.0240</td>\n",
              "    </tr>\n",
              "  </tbody>\n",
              "</table>\n"
            ]
          },
          "metadata": {}
        },
        {
          "output_type": "display_data",
          "data": {
            "text/plain": [
              "Processing:   0%|          | 0/61 [00:00<?, ?it/s]"
            ],
            "application/vnd.jupyter.widget-view+json": {
              "version_major": 2,
              "version_minor": 0,
              "model_id": "af990c8878cf4b3f870c7f0014f89a14"
            }
          },
          "metadata": {
            "application/vnd.jupyter.widget-view+json": {
              "colab": {
                "custom_widget_manager": {
                  "url": "https://ssl.gstatic.com/colaboratory-static/widgets/colab-cdn-widget-manager/2b70e893a8ba7c0f/manager.min.js"
                }
              }
            }
          }
        },
        {
          "output_type": "display_data",
          "data": {
            "text/plain": [
              "<IPython.core.display.HTML object>"
            ],
            "text/html": []
          },
          "metadata": {}
        }
      ],
      "source": [
        "# Step 6: Building and comparing different models\n",
        "best = classification.compare_models(exclude=['lightgbm'])"
      ],
      "id": "4e906af1"
    },
    {
      "cell_type": "markdown",
      "source": [
        "# # Step 7: Training the best model based on predictive performance metrics"
      ],
      "metadata": {
        "id": "T3ddtmhxn0m9"
      },
      "id": "T3ddtmhxn0m9"
    },
    {
      "cell_type": "code",
      "execution_count": null,
      "metadata": {
        "id": "a3e39264",
        "colab": {
          "base_uri": "https://localhost:8080/",
          "height": 457,
          "referenced_widgets": [
            "ee99a77e585043d88fddee89c8cdade1",
            "80b348ef60dc48709a23e2cfa4d8b3d6",
            "2016a5a3e55e4741bf10c2b76ad513c6",
            "00716900d00b4f1fb9adab26e394e2ad",
            "4072a54e4509436f9500c6819141896b",
            "0dd0692797ed468db010af00584a6705",
            "18714da62015446e9a581fceb5a253c5",
            "3cf43745bbb74e4fa062ec40952a8c6d",
            "46cb867d382c485ba2758560fab19439",
            "ebae0f58a55d4ce3bd38fa0cb9803dff",
            "8d3d2c2ab06a4f009b69a22432bd2da0"
          ]
        },
        "outputId": "9792900d-b525-449a-c286-9f0ed8565e29"
      },
      "outputs": [
        {
          "output_type": "display_data",
          "data": {
            "text/plain": [
              "<IPython.core.display.HTML object>"
            ],
            "text/html": []
          },
          "metadata": {}
        },
        {
          "output_type": "display_data",
          "data": {
            "text/plain": [
              "<pandas.io.formats.style.Styler at 0x785d19d26710>"
            ],
            "text/html": [
              "<style type=\"text/css\">\n",
              "#T_98d57_row10_col0, #T_98d57_row10_col1, #T_98d57_row10_col2, #T_98d57_row10_col3, #T_98d57_row10_col4, #T_98d57_row10_col5, #T_98d57_row10_col6 {\n",
              "  background: yellow;\n",
              "}\n",
              "</style>\n",
              "<table id=\"T_98d57\" class=\"dataframe\">\n",
              "  <thead>\n",
              "    <tr>\n",
              "      <th class=\"blank level0\" >&nbsp;</th>\n",
              "      <th id=\"T_98d57_level0_col0\" class=\"col_heading level0 col0\" >Accuracy</th>\n",
              "      <th id=\"T_98d57_level0_col1\" class=\"col_heading level0 col1\" >AUC</th>\n",
              "      <th id=\"T_98d57_level0_col2\" class=\"col_heading level0 col2\" >Recall</th>\n",
              "      <th id=\"T_98d57_level0_col3\" class=\"col_heading level0 col3\" >Prec.</th>\n",
              "      <th id=\"T_98d57_level0_col4\" class=\"col_heading level0 col4\" >F1</th>\n",
              "      <th id=\"T_98d57_level0_col5\" class=\"col_heading level0 col5\" >Kappa</th>\n",
              "      <th id=\"T_98d57_level0_col6\" class=\"col_heading level0 col6\" >MCC</th>\n",
              "    </tr>\n",
              "    <tr>\n",
              "      <th class=\"index_name level0\" >Fold</th>\n",
              "      <th class=\"blank col0\" >&nbsp;</th>\n",
              "      <th class=\"blank col1\" >&nbsp;</th>\n",
              "      <th class=\"blank col2\" >&nbsp;</th>\n",
              "      <th class=\"blank col3\" >&nbsp;</th>\n",
              "      <th class=\"blank col4\" >&nbsp;</th>\n",
              "      <th class=\"blank col5\" >&nbsp;</th>\n",
              "      <th class=\"blank col6\" >&nbsp;</th>\n",
              "    </tr>\n",
              "  </thead>\n",
              "  <tbody>\n",
              "    <tr>\n",
              "      <th id=\"T_98d57_level0_row0\" class=\"row_heading level0 row0\" >0</th>\n",
              "      <td id=\"T_98d57_row0_col0\" class=\"data row0 col0\" >1.0000</td>\n",
              "      <td id=\"T_98d57_row0_col1\" class=\"data row0 col1\" >1.0000</td>\n",
              "      <td id=\"T_98d57_row0_col2\" class=\"data row0 col2\" >1.0000</td>\n",
              "      <td id=\"T_98d57_row0_col3\" class=\"data row0 col3\" >1.0000</td>\n",
              "      <td id=\"T_98d57_row0_col4\" class=\"data row0 col4\" >1.0000</td>\n",
              "      <td id=\"T_98d57_row0_col5\" class=\"data row0 col5\" >1.0000</td>\n",
              "      <td id=\"T_98d57_row0_col6\" class=\"data row0 col6\" >1.0000</td>\n",
              "    </tr>\n",
              "    <tr>\n",
              "      <th id=\"T_98d57_level0_row1\" class=\"row_heading level0 row1\" >1</th>\n",
              "      <td id=\"T_98d57_row1_col0\" class=\"data row1 col0\" >0.9762</td>\n",
              "      <td id=\"T_98d57_row1_col1\" class=\"data row1 col1\" >1.0000</td>\n",
              "      <td id=\"T_98d57_row1_col2\" class=\"data row1 col2\" >0.9762</td>\n",
              "      <td id=\"T_98d57_row1_col3\" class=\"data row1 col3\" >0.9770</td>\n",
              "      <td id=\"T_98d57_row1_col4\" class=\"data row1 col4\" >0.9755</td>\n",
              "      <td id=\"T_98d57_row1_col5\" class=\"data row1 col5\" >0.9512</td>\n",
              "      <td id=\"T_98d57_row1_col6\" class=\"data row1 col6\" >0.9526</td>\n",
              "    </tr>\n",
              "    <tr>\n",
              "      <th id=\"T_98d57_level0_row2\" class=\"row_heading level0 row2\" >2</th>\n",
              "      <td id=\"T_98d57_row2_col0\" class=\"data row2 col0\" >1.0000</td>\n",
              "      <td id=\"T_98d57_row2_col1\" class=\"data row2 col1\" >1.0000</td>\n",
              "      <td id=\"T_98d57_row2_col2\" class=\"data row2 col2\" >1.0000</td>\n",
              "      <td id=\"T_98d57_row2_col3\" class=\"data row2 col3\" >1.0000</td>\n",
              "      <td id=\"T_98d57_row2_col4\" class=\"data row2 col4\" >1.0000</td>\n",
              "      <td id=\"T_98d57_row2_col5\" class=\"data row2 col5\" >1.0000</td>\n",
              "      <td id=\"T_98d57_row2_col6\" class=\"data row2 col6\" >1.0000</td>\n",
              "    </tr>\n",
              "    <tr>\n",
              "      <th id=\"T_98d57_level0_row3\" class=\"row_heading level0 row3\" >3</th>\n",
              "      <td id=\"T_98d57_row3_col0\" class=\"data row3 col0\" >1.0000</td>\n",
              "      <td id=\"T_98d57_row3_col1\" class=\"data row3 col1\" >1.0000</td>\n",
              "      <td id=\"T_98d57_row3_col2\" class=\"data row3 col2\" >1.0000</td>\n",
              "      <td id=\"T_98d57_row3_col3\" class=\"data row3 col3\" >1.0000</td>\n",
              "      <td id=\"T_98d57_row3_col4\" class=\"data row3 col4\" >1.0000</td>\n",
              "      <td id=\"T_98d57_row3_col5\" class=\"data row3 col5\" >1.0000</td>\n",
              "      <td id=\"T_98d57_row3_col6\" class=\"data row3 col6\" >1.0000</td>\n",
              "    </tr>\n",
              "    <tr>\n",
              "      <th id=\"T_98d57_level0_row4\" class=\"row_heading level0 row4\" >4</th>\n",
              "      <td id=\"T_98d57_row4_col0\" class=\"data row4 col0\" >1.0000</td>\n",
              "      <td id=\"T_98d57_row4_col1\" class=\"data row4 col1\" >1.0000</td>\n",
              "      <td id=\"T_98d57_row4_col2\" class=\"data row4 col2\" >1.0000</td>\n",
              "      <td id=\"T_98d57_row4_col3\" class=\"data row4 col3\" >1.0000</td>\n",
              "      <td id=\"T_98d57_row4_col4\" class=\"data row4 col4\" >1.0000</td>\n",
              "      <td id=\"T_98d57_row4_col5\" class=\"data row4 col5\" >1.0000</td>\n",
              "      <td id=\"T_98d57_row4_col6\" class=\"data row4 col6\" >1.0000</td>\n",
              "    </tr>\n",
              "    <tr>\n",
              "      <th id=\"T_98d57_level0_row5\" class=\"row_heading level0 row5\" >5</th>\n",
              "      <td id=\"T_98d57_row5_col0\" class=\"data row5 col0\" >1.0000</td>\n",
              "      <td id=\"T_98d57_row5_col1\" class=\"data row5 col1\" >1.0000</td>\n",
              "      <td id=\"T_98d57_row5_col2\" class=\"data row5 col2\" >1.0000</td>\n",
              "      <td id=\"T_98d57_row5_col3\" class=\"data row5 col3\" >1.0000</td>\n",
              "      <td id=\"T_98d57_row5_col4\" class=\"data row5 col4\" >1.0000</td>\n",
              "      <td id=\"T_98d57_row5_col5\" class=\"data row5 col5\" >1.0000</td>\n",
              "      <td id=\"T_98d57_row5_col6\" class=\"data row5 col6\" >1.0000</td>\n",
              "    </tr>\n",
              "    <tr>\n",
              "      <th id=\"T_98d57_level0_row6\" class=\"row_heading level0 row6\" >6</th>\n",
              "      <td id=\"T_98d57_row6_col0\" class=\"data row6 col0\" >1.0000</td>\n",
              "      <td id=\"T_98d57_row6_col1\" class=\"data row6 col1\" >1.0000</td>\n",
              "      <td id=\"T_98d57_row6_col2\" class=\"data row6 col2\" >1.0000</td>\n",
              "      <td id=\"T_98d57_row6_col3\" class=\"data row6 col3\" >1.0000</td>\n",
              "      <td id=\"T_98d57_row6_col4\" class=\"data row6 col4\" >1.0000</td>\n",
              "      <td id=\"T_98d57_row6_col5\" class=\"data row6 col5\" >1.0000</td>\n",
              "      <td id=\"T_98d57_row6_col6\" class=\"data row6 col6\" >1.0000</td>\n",
              "    </tr>\n",
              "    <tr>\n",
              "      <th id=\"T_98d57_level0_row7\" class=\"row_heading level0 row7\" >7</th>\n",
              "      <td id=\"T_98d57_row7_col0\" class=\"data row7 col0\" >1.0000</td>\n",
              "      <td id=\"T_98d57_row7_col1\" class=\"data row7 col1\" >1.0000</td>\n",
              "      <td id=\"T_98d57_row7_col2\" class=\"data row7 col2\" >1.0000</td>\n",
              "      <td id=\"T_98d57_row7_col3\" class=\"data row7 col3\" >1.0000</td>\n",
              "      <td id=\"T_98d57_row7_col4\" class=\"data row7 col4\" >1.0000</td>\n",
              "      <td id=\"T_98d57_row7_col5\" class=\"data row7 col5\" >1.0000</td>\n",
              "      <td id=\"T_98d57_row7_col6\" class=\"data row7 col6\" >1.0000</td>\n",
              "    </tr>\n",
              "    <tr>\n",
              "      <th id=\"T_98d57_level0_row8\" class=\"row_heading level0 row8\" >8</th>\n",
              "      <td id=\"T_98d57_row8_col0\" class=\"data row8 col0\" >1.0000</td>\n",
              "      <td id=\"T_98d57_row8_col1\" class=\"data row8 col1\" >1.0000</td>\n",
              "      <td id=\"T_98d57_row8_col2\" class=\"data row8 col2\" >1.0000</td>\n",
              "      <td id=\"T_98d57_row8_col3\" class=\"data row8 col3\" >1.0000</td>\n",
              "      <td id=\"T_98d57_row8_col4\" class=\"data row8 col4\" >1.0000</td>\n",
              "      <td id=\"T_98d57_row8_col5\" class=\"data row8 col5\" >1.0000</td>\n",
              "      <td id=\"T_98d57_row8_col6\" class=\"data row8 col6\" >1.0000</td>\n",
              "    </tr>\n",
              "    <tr>\n",
              "      <th id=\"T_98d57_level0_row9\" class=\"row_heading level0 row9\" >9</th>\n",
              "      <td id=\"T_98d57_row9_col0\" class=\"data row9 col0\" >1.0000</td>\n",
              "      <td id=\"T_98d57_row9_col1\" class=\"data row9 col1\" >1.0000</td>\n",
              "      <td id=\"T_98d57_row9_col2\" class=\"data row9 col2\" >1.0000</td>\n",
              "      <td id=\"T_98d57_row9_col3\" class=\"data row9 col3\" >1.0000</td>\n",
              "      <td id=\"T_98d57_row9_col4\" class=\"data row9 col4\" >1.0000</td>\n",
              "      <td id=\"T_98d57_row9_col5\" class=\"data row9 col5\" >1.0000</td>\n",
              "      <td id=\"T_98d57_row9_col6\" class=\"data row9 col6\" >1.0000</td>\n",
              "    </tr>\n",
              "    <tr>\n",
              "      <th id=\"T_98d57_level0_row10\" class=\"row_heading level0 row10\" >Mean</th>\n",
              "      <td id=\"T_98d57_row10_col0\" class=\"data row10 col0\" >0.9976</td>\n",
              "      <td id=\"T_98d57_row10_col1\" class=\"data row10 col1\" >1.0000</td>\n",
              "      <td id=\"T_98d57_row10_col2\" class=\"data row10 col2\" >0.9976</td>\n",
              "      <td id=\"T_98d57_row10_col3\" class=\"data row10 col3\" >0.9977</td>\n",
              "      <td id=\"T_98d57_row10_col4\" class=\"data row10 col4\" >0.9975</td>\n",
              "      <td id=\"T_98d57_row10_col5\" class=\"data row10 col5\" >0.9951</td>\n",
              "      <td id=\"T_98d57_row10_col6\" class=\"data row10 col6\" >0.9953</td>\n",
              "    </tr>\n",
              "    <tr>\n",
              "      <th id=\"T_98d57_level0_row11\" class=\"row_heading level0 row11\" >Std</th>\n",
              "      <td id=\"T_98d57_row11_col0\" class=\"data row11 col0\" >0.0071</td>\n",
              "      <td id=\"T_98d57_row11_col1\" class=\"data row11 col1\" >0.0000</td>\n",
              "      <td id=\"T_98d57_row11_col2\" class=\"data row11 col2\" >0.0071</td>\n",
              "      <td id=\"T_98d57_row11_col3\" class=\"data row11 col3\" >0.0069</td>\n",
              "      <td id=\"T_98d57_row11_col4\" class=\"data row11 col4\" >0.0074</td>\n",
              "      <td id=\"T_98d57_row11_col5\" class=\"data row11 col5\" >0.0146</td>\n",
              "      <td id=\"T_98d57_row11_col6\" class=\"data row11 col6\" >0.0142</td>\n",
              "    </tr>\n",
              "  </tbody>\n",
              "</table>\n"
            ]
          },
          "metadata": {}
        },
        {
          "output_type": "display_data",
          "data": {
            "text/plain": [
              "Processing:   0%|          | 0/4 [00:00<?, ?it/s]"
            ],
            "application/vnd.jupyter.widget-view+json": {
              "version_major": 2,
              "version_minor": 0,
              "model_id": "ee99a77e585043d88fddee89c8cdade1"
            }
          },
          "metadata": {
            "application/vnd.jupyter.widget-view+json": {
              "colab": {
                "custom_widget_manager": {
                  "url": "https://ssl.gstatic.com/colaboratory-static/widgets/colab-cdn-widget-manager/2b70e893a8ba7c0f/manager.min.js"
                }
              }
            }
          }
        },
        {
          "output_type": "display_data",
          "data": {
            "text/plain": [
              "<IPython.core.display.HTML object>"
            ],
            "text/html": []
          },
          "metadata": {}
        }
      ],
      "source": [
        "# Step 7: Training the best model based on predictive performance metrics\n",
        "# Note: The rf model was one of the three best. Now, we'll create and validate the random forest model\n",
        "best_model = classification.create_model(\"rf\")"
      ],
      "id": "a3e39264"
    },
    {
      "cell_type": "markdown",
      "source": [
        "# # Step 8: Extracting the results of the model's metrics\n"
      ],
      "metadata": {
        "id": "XWU66Dh6n8hv"
      },
      "id": "XWU66Dh6n8hv"
    },
    {
      "cell_type": "code",
      "execution_count": null,
      "metadata": {
        "id": "e43ea3ce",
        "colab": {
          "base_uri": "https://localhost:8080/",
          "height": 236,
          "referenced_widgets": [
            "b625609c300f417eb95b158defd0c62b",
            "8cb09c55e4e345b8b9f88fed60afa84c",
            "01fae235c9584e7796a3413f9d95045f",
            "97b7e80b6fda4251870481b2910d7b4d",
            "47c5000f09bf42a3a03f615919c688bc",
            "a266c34c133040c6af74a05ddce2cb48",
            "73eb917cf81a49a489d8b5bb979fa5d1"
          ]
        },
        "outputId": "01a4b388-4aa2-4dad-b905-c2f2e9b735a2"
      },
      "outputs": [
        {
          "output_type": "display_data",
          "data": {
            "text/plain": [
              "interactive(children=(ToggleButtons(description='Plot Type:', icons=('',), options=(('Pipeline Plot', 'pipelin…"
            ],
            "application/vnd.jupyter.widget-view+json": {
              "version_major": 2,
              "version_minor": 0,
              "model_id": "b625609c300f417eb95b158defd0c62b"
            }
          },
          "metadata": {
            "application/vnd.jupyter.widget-view+json": {
              "colab": {
                "custom_widget_manager": {
                  "url": "https://ssl.gstatic.com/colaboratory-static/widgets/colab-cdn-widget-manager/2b70e893a8ba7c0f/manager.min.js"
                }
              }
            }
          }
        }
      ],
      "source": [
        "# Step 8: Extracting the results of the model's metrics\n",
        "# General evaluation\n",
        "classification.evaluate_model(best_model)"
      ],
      "id": "e43ea3ce"
    },
    {
      "cell_type": "code",
      "execution_count": null,
      "metadata": {
        "id": "_Ha2Ww_4dcP3",
        "colab": {
          "base_uri": "https://localhost:8080/",
          "height": 569
        },
        "outputId": "5c7f9667-496e-488f-d731-05a2f759a579"
      },
      "outputs": [
        {
          "output_type": "display_data",
          "data": {
            "text/plain": [
              "<IPython.core.display.HTML object>"
            ],
            "text/html": []
          },
          "metadata": {}
        },
        {
          "output_type": "display_data",
          "data": {
            "text/plain": [
              "<Figure size 800x550 with 2 Axes>"
            ],
            "image/png": "[encoded data removed]"
          },
          "metadata": {}
        },
        {
          "output_type": "display_data",
          "data": {
            "text/plain": [
              "<IPython.core.display.HTML object>"
            ],
            "text/html": []
          },
          "metadata": {}
        },
        {
          "output_type": "execute_result",
          "data": {
            "text/plain": [
              "'Class Report.png'"
            ],
            "application/vnd.google.colaboratory.intrinsic+json": {
              "type": "string"
            }
          },
          "metadata": {},
          "execution_count": 9
        }
      ],
      "source": [
        "# Saving the figures of merit of the model\n",
        "# Ploting Class report\n",
        "classification.plot_model(best_model, plot =\"class_report\", plot_kwargs ={'classes': [\"Diabetes\", \"Pre-diabetes\", \"Non-diabetes\"]})\n",
        "classification.plot_model(best_model, plot =\"class_report\", plot_kwargs ={'classes': [\"Diabetes\", \"Pre-diabetes\", \"Non-diabetes\"]}, save=True, scale=5)\n"
      ],
      "id": "_Ha2Ww_4dcP3"
    },
    {
      "cell_type": "code",
      "execution_count": null,
      "metadata": {
        "id": "rITpbD33de4x",
        "colab": {
          "base_uri": "https://localhost:8080/",
          "height": 569
        },
        "outputId": "b01f8b7b-dfcf-4679-b8ec-9cb36a5742d2"
      },
      "outputs": [
        {
          "output_type": "display_data",
          "data": {
            "text/plain": [
              "<IPython.core.display.HTML object>"
            ],
            "text/html": []
          },
          "metadata": {}
        },
        {
          "output_type": "display_data",
          "data": {
            "text/plain": [
              "<Figure size 800x550 with 1 Axes>"
            ],
            "image/png": "[encoded data removed]"
          },
          "metadata": {}
        },
        {
          "output_type": "display_data",
          "data": {
            "text/plain": [
              "<IPython.core.display.HTML object>"
            ],
            "text/html": []
          },
          "metadata": {}
        },
        {
          "output_type": "execute_result",
          "data": {
            "text/plain": [
              "'Confusion Matrix.png'"
            ],
            "application/vnd.google.colaboratory.intrinsic+json": {
              "type": "string"
            }
          },
          "metadata": {},
          "execution_count": 10
        }
      ],
      "source": [
        "# Plotando a matriz de confusão\n",
        "classification.plot_model(best_model, plot =\"confusion_matrix\", plot_kwargs ={'classes':  [\"Diabetes\", \"Pre-diabetes\", \"Non-diabetes\"]})\n",
        "classification.plot_model(best_model, plot =\"confusion_matrix\", plot_kwargs ={'classes':  [\"Diabetes\", \"Pre-diabetes\", \"Non-diabetes\"]}, save=True)"
      ],
      "id": "rITpbD33de4x"
    },
    {
      "cell_type": "code",
      "execution_count": null,
      "metadata": {
        "id": "dCyvk4xzYLEg",
        "colab": {
          "base_uri": "https://localhost:8080/",
          "height": 569
        },
        "outputId": "4ce297aa-44d6-4b4d-d592-f343ab140f27"
      },
      "outputs": [
        {
          "output_type": "display_data",
          "data": {
            "text/plain": [
              "<IPython.core.display.HTML object>"
            ],
            "text/html": []
          },
          "metadata": {}
        },
        {
          "output_type": "display_data",
          "data": {
            "text/plain": [
              "<Figure size 800x550 with 1 Axes>"
            ],
            "image/png": "[encoded data removed]"
          },
          "metadata": {}
        },
        {
          "output_type": "display_data",
          "data": {
            "text/plain": [
              "<IPython.core.display.HTML object>"
            ],
            "text/html": []
          },
          "metadata": {}
        },
        {
          "output_type": "execute_result",
          "data": {
            "text/plain": [
              "'Prediction Error.png'"
            ],
            "application/vnd.google.colaboratory.intrinsic+json": {
              "type": "string"
            }
          },
          "metadata": {},
          "execution_count": 11
        }
      ],
      "source": [
        "# Plotando prediction error\n",
        "classification.plot_model(best_model, plot =\"error\",  plot_kwargs ={'classes': [\"Diabetes\", \"Pre-diabetes\", \"Non-diabetes\"]})\n",
        "classification.plot_model(best_model, plot =\"error\",  plot_kwargs ={'classes':  [\"Diabetes\", \"Pre-diabetes\", \"Non-diabetes\"]}, save=True)"
      ],
      "id": "dCyvk4xzYLEg"
    },
    {
      "cell_type": "code",
      "execution_count": null,
      "metadata": {
        "colab": {
          "base_uri": "https://localhost:8080/",
          "height": 542
        },
        "id": "NAJL8dMqYLcd",
        "outputId": "412dbfe7-7cbb-42cd-b483-aed55fa110b4"
      },
      "outputs": [
        {
          "output_type": "display_data",
          "data": {
            "text/plain": [
              "<IPython.core.display.HTML object>"
            ],
            "text/html": []
          },
          "metadata": {}
        },
        {
          "output_type": "display_data",
          "data": {
            "text/plain": [
              "<Figure size 800x550 with 1 Axes>"
            ],
            "image/png": "[encoded data removed]"
          },
          "metadata": {}
        },
        {
          "output_type": "display_data",
          "data": {
            "text/plain": [
              "<IPython.core.display.HTML object>"
            ],
            "text/html": []
          },
          "metadata": {}
        },
        {
          "output_type": "execute_result",
          "data": {
            "text/plain": [
              "'AUC.png'"
            ],
            "application/vnd.google.colaboratory.intrinsic+json": {
              "type": "string"
            }
          },
          "metadata": {},
          "execution_count": 12
        }
      ],
      "source": [
        "# Plotando AUC\n",
        "classification.plot_model(best_model, plot =\"auc\", plot_kwargs ={'classes':  [\"Diabetes\", \"Non-diabetes\",\"Pre-diabetes\"]})\n",
        "classification.plot_model(best_model, plot =\"auc\", plot_kwargs ={'classes':  [\"Diabetes\", \"Non-diabetes\",\"Pre-diabetes\"]}, save=True)"
      ],
      "id": "NAJL8dMqYLcd"
    },
    {
      "cell_type": "code",
      "execution_count": null,
      "metadata": {
        "colab": {
          "base_uri": "https://localhost:8080/",
          "height": 542
        },
        "id": "_ggsDtP0gcWb",
        "outputId": "0d4df858-202a-4ee6-b128-3c5343db4431"
      },
      "outputs": [
        {
          "output_type": "display_data",
          "data": {
            "text/plain": [
              "<IPython.core.display.HTML object>"
            ],
            "text/html": []
          },
          "metadata": {}
        },
        {
          "output_type": "display_data",
          "data": {
            "text/plain": [
              "<Figure size 800x550 with 1 Axes>"
            ],
            "image/png": "[encoded data removed]"
          },
          "metadata": {}
        },
        {
          "output_type": "display_data",
          "data": {
            "text/plain": [
              "<IPython.core.display.HTML object>"
            ],
            "text/html": []
          },
          "metadata": {}
        },
        {
          "output_type": "execute_result",
          "data": {
            "text/plain": [
              "'Learning Curve.png'"
            ],
            "application/vnd.google.colaboratory.intrinsic+json": {
              "type": "string"
            }
          },
          "metadata": {},
          "execution_count": 13
        }
      ],
      "source": [
        "# Plotando decision boundary\n",
        "classification.plot_model(best_model, plot =\"learning\")\n",
        "classification.plot_model(best_model, plot =\"learning\", save=True)"
      ],
      "id": "_ggsDtP0gcWb"
    },
    {
      "cell_type": "markdown",
      "source": [
        "# # Step 9: Ploting the 10 most important wavenumbers\n"
      ],
      "metadata": {
        "id": "b4x3oV-uoafj"
      },
      "id": "b4x3oV-uoafj"
    },
    {
      "cell_type": "code",
      "execution_count": null,
      "metadata": {
        "id": "iC5-30xDdckh",
        "colab": {
          "base_uri": "https://localhost:8080/",
          "height": 503
        },
        "outputId": "6674b73d-f957-493d-ae65-6bff41968430"
      },
      "outputs": [
        {
          "output_type": "display_data",
          "data": {
            "text/plain": [
              "<IPython.core.display.HTML object>"
            ],
            "text/html": []
          },
          "metadata": {}
        },
        {
          "output_type": "display_data",
          "data": {
            "text/plain": [
              "<Figure size 800x500 with 1 Axes>"
            ],
            "image/png": "[encoded data removed]"
          },
          "metadata": {}
        },
        {
          "output_type": "display_data",
          "data": {
            "text/plain": [
              "<IPython.core.display.HTML object>"
            ],
            "text/html": []
          },
          "metadata": {}
        },
        {
          "output_type": "execute_result",
          "data": {
            "text/plain": [
              "'Feature Importance.png'"
            ],
            "application/vnd.google.colaboratory.intrinsic+json": {
              "type": "string"
            }
          },
          "metadata": {},
          "execution_count": 14
        }
      ],
      "source": [
        "# Step 9: Ploting the 10 most important wavenumbers\n",
        "classification.plot_model(best_model, plot =\"feature\")\n",
        "classification.plot_model(best_model, plot =\"feature\", save=True)"
      ],
      "id": "iC5-30xDdckh"
    },
    {
      "cell_type": "markdown",
      "source": [
        "# # Step 10: Conclusions about the model\n"
      ],
      "metadata": {
        "id": "6STX5bEyogiW"
      },
      "id": "6STX5bEyogiW"
    },
    {
      "cell_type": "code",
      "execution_count": null,
      "metadata": {
        "id": "NQn5jCHG-HNX"
      },
      "outputs": [],
      "source": [
        "# Passo 10: Conclusoes sobre o modelo\n",
        "# Diversos Modelos de machine learning foram construidos para a predição do diagnóstico de diabetes usando dados do espectro de infravermelho de amostras de soro de indivíduos\n",
        "# O modelo de rf foi um dos que apresentaram melhor desempenho preditivo\n",
        "#  Os top 5 comprimentos de onda mais importantes para o diagnóstico de diabetes foram:3566, 1724, 1745, 1742, 1747\n",
        "# O próximo passo é desenvoler o App para que o modelo seja utilizado nas Unidados de saúde com vista a otimizar o início do tratamento farmacológico em pacientes que apresentarem pré-diabetes ou DM2"
      ],
      "id": "NQn5jCHG-HNX"
    },
    {
      "cell_type": "markdown",
      "source": [
        "# # # Step 11: Saving the model to make predictions in real life (Deploy)\n",
        "\n"
      ],
      "metadata": {
        "id": "793e5KBDpFxW"
      },
      "id": "793e5KBDpFxW"
    },
    {
      "cell_type": "code",
      "execution_count": null,
      "metadata": {
        "colab": {
          "base_uri": "https://localhost:8080/"
        },
        "id": "6d450f64",
        "outputId": "276238ae-e0b2-42b4-8b4c-b8887a5bf23e"
      },
      "outputs": [
        {
          "output_type": "stream",
          "name": "stdout",
          "text": [
            "Transformation Pipeline and Model Successfully Saved\n"
          ]
        },
        {
          "output_type": "execute_result",
          "data": {
            "text/plain": [
              "(Pipeline(memory=Memory(location=None),\n",
              "          steps=[('numerical_imputer',\n",
              "                  TransformerWrapper(exclude=None,\n",
              "                                     include=['3000.9', '2999.5', '2998.1',\n",
              "                                              '2996.7', '2995.3', '2993.9',\n",
              "                                              '2992.4', '2991', '2989.6',\n",
              "                                              '2988.2', '2986.8', '2985.4',\n",
              "                                              '2983.9', '2982.5', '2981.1',\n",
              "                                              '2979.7', '2978.3', '2976.9',\n",
              "                                              '2975.4', '2974', '2972.6',\n",
              "                                              '2971.2', '2969.8', '2968.4',\n",
              "                                              '2966.9', '2965.5', '2964.1',\n",
              "                                              '296...\n",
              "                  RandomForestClassifier(bootstrap=True, ccp_alpha=0.0,\n",
              "                                         class_weight=None, criterion='gini',\n",
              "                                         max_depth=None, max_features='sqrt',\n",
              "                                         max_leaf_nodes=None, max_samples=None,\n",
              "                                         min_impurity_decrease=0.0,\n",
              "                                         min_samples_leaf=1, min_samples_split=2,\n",
              "                                         min_weight_fraction_leaf=0.0,\n",
              "                                         n_estimators=100, n_jobs=-1,\n",
              "                                         oob_score=False, random_state=1135,\n",
              "                                         verbose=0, warm_start=False))],\n",
              "          verbose=False),\n",
              " 'melhor_modelo_rf.pkl')"
            ]
          },
          "metadata": {},
          "execution_count": 52
        }
      ],
      "source": [
        "# Passo 11: Salvando o modelo para realizar predições na vida real (Deploy)\n",
        "classification.save_model(best_model, \"melhor_modelo_rf\")"
      ],
      "id": "6d450f64"
    }
  ],
  "metadata": {
    "colab": {
      "machine_shape": "hm",
      "provenance": [],
      "toc_visible": true,
      "include_colab_link": true
    },
    "kernelspec": {
      "display_name": "Python 3",
      "name": "python3"
    },
    "language_info": {
      "codemirror_mode": {
        "name": "ipython",
        "version": 3
      },
      "file_extension": ".py",
      "mimetype": "text/x-python",
      "name": "python",
      "nbconvert_exporter": "python",
      "pygments_lexer": "ipython3",
      "version": "3.6.13"
    },
    "widgets": {
      "application/vnd.jupyter.widget-state+json": {
        "af990c8878cf4b3f870c7f0014f89a14": {
          "model_module": "@jupyter-widgets/controls",
          "model_name": "HBoxModel",
          "model_module_version": "1.5.0",
          "state": {
            "_dom_classes": [],
            "_model_module": "@jupyter-widgets/controls",
            "_model_module_version": "1.5.0",
            "_model_name": "HBoxModel",
            "_view_count": null,
            "_view_module": "@jupyter-widgets/controls",
            "_view_module_version": "1.5.0",
            "_view_name": "HBoxView",
            "box_style": "",
            "children": [
              "IPY_MODEL_13e7dc093fe346b4801f76e6a7c6a0a4",
              "IPY_MODEL_a456832134bf4010a0bfd49ed61978fb",
              "IPY_MODEL_eb09e398d8ca4f378ad4ecba12569c95"
            ],
            "layout": "IPY_MODEL_c60505f841844dfa805353fe4bb75e48"
          }
        },
        "13e7dc093fe346b4801f76e6a7c6a0a4": {
          "model_module": "@jupyter-widgets/controls",
          "model_name": "HTMLModel",
          "model_module_version": "1.5.0",
          "state": {
            "_dom_classes": [],
            "_model_module": "@jupyter-widgets/controls",
            "_model_module_version": "1.5.0",
            "_model_name": "HTMLModel",
            "_view_count": null,
            "_view_module": "@jupyter-widgets/controls",
            "_view_module_version": "1.5.0",
            "_view_name": "HTMLView",
            "description": "",
            "description_tooltip": null,
            "layout": "IPY_MODEL_6a0f463c0d694d88a7b118a8bd0b2189",
            "placeholder": "​",
            "style": "IPY_MODEL_6e1c2d5e7d9e42cb8caae6576b83cd1e",
            "value": "Processing: 100%"
          }
        },
        "a456832134bf4010a0bfd49ed61978fb": {
          "model_module": "@jupyter-widgets/controls",
          "model_name": "FloatProgressModel",
          "model_module_version": "1.5.0",
          "state": {
            "_dom_classes": [],
            "_model_module": "@jupyter-widgets/controls",
            "_model_module_version": "1.5.0",
            "_model_name": "FloatProgressModel",
            "_view_count": null,
            "_view_module": "@jupyter-widgets/controls",
            "_view_module_version": "1.5.0",
            "_view_name": "ProgressView",
            "bar_style": "",
            "description": "",
            "description_tooltip": null,
            "layout": "IPY_MODEL_0b596117e9bc40cb984430a22115ad82",
            "max": 61,
            "min": 0,
            "orientation": "horizontal",
            "style": "IPY_MODEL_fe0775cb4e6c403ab19e7c42f4dfe15d",
            "value": 61
          }
        },
        "eb09e398d8ca4f378ad4ecba12569c95": {
          "model_module": "@jupyter-widgets/controls",
          "model_name": "HTMLModel",
          "model_module_version": "1.5.0",
          "state": {
            "_dom_classes": [],
            "_model_module": "@jupyter-widgets/controls",
            "_model_module_version": "1.5.0",
            "_model_name": "HTMLModel",
            "_view_count": null,
            "_view_module": "@jupyter-widgets/controls",
            "_view_module_version": "1.5.0",
            "_view_name": "HTMLView",
            "description": "",
            "description_tooltip": null,
            "layout": "IPY_MODEL_f25c3af1030e419db6163c499d6097a3",
            "placeholder": "​",
            "style": "IPY_MODEL_8254a14353a44dcbb6d29ceef3545f3b",
            "value": " 61/61 [00:29&lt;00:00,  3.75it/s]"
          }
        },
        "c60505f841844dfa805353fe4bb75e48": {
          "model_module": "@jupyter-widgets/base",
          "model_name": "LayoutModel",
          "model_module_version": "1.2.0",
          "state": {
            "_model_module": "@jupyter-widgets/base",
            "_model_module_version": "1.2.0",
            "_model_name": "LayoutModel",
            "_view_count": null,
            "_view_module": "@jupyter-widgets/base",
            "_view_module_version": "1.2.0",
            "_view_name": "LayoutView",
            "align_content": null,
            "align_items": null,
            "align_self": null,
            "border": null,
            "bottom": null,
            "display": null,
            "flex": null,
            "flex_flow": null,
            "grid_area": null,
            "grid_auto_columns": null,
            "grid_auto_flow": null,
            "grid_auto_rows": null,
            "grid_column": null,
            "grid_gap": null,
            "grid_row": null,
            "grid_template_areas": null,
            "grid_template_columns": null,
            "grid_template_rows": null,
            "height": null,
            "justify_content": null,
            "justify_items": null,
            "left": null,
            "margin": null,
            "max_height": null,
            "max_width": null,
            "min_height": null,
            "min_width": null,
            "object_fit": null,
            "object_position": null,
            "order": null,
            "overflow": null,
            "overflow_x": null,
            "overflow_y": null,
            "padding": null,
            "right": null,
            "top": null,
            "visibility": "hidden",
            "width": null
          }
        },
        "6a0f463c0d694d88a7b118a8bd0b2189": {
          "model_module": "@jupyter-widgets/base",
          "model_name": "LayoutModel",
          "model_module_version": "1.2.0",
          "state": {
            "_model_module": "@jupyter-widgets/base",
            "_model_module_version": "1.2.0",
            "_model_name": "LayoutModel",
            "_view_count": null,
            "_view_module": "@jupyter-widgets/base",
            "_view_module_version": "1.2.0",
            "_view_name": "LayoutView",
            "align_content": null,
            "align_items": null,
            "align_self": null,
            "border": null,
            "bottom": null,
            "display": null,
            "flex": null,
            "flex_flow": null,
            "grid_area": null,
            "grid_auto_columns": null,
            "grid_auto_flow": null,
            "grid_auto_rows": null,
            "grid_column": null,
            "grid_gap": null,
            "grid_row": null,
            "grid_template_areas": null,
            "grid_template_columns": null,
            "grid_template_rows": null,
            "height": null,
            "justify_content": null,
            "justify_items": null,
            "left": null,
            "margin": null,
            "max_height": null,
            "max_width": null,
            "min_height": null,
            "min_width": null,
            "object_fit": null,
            "object_position": null,
            "order": null,
            "overflow": null,
            "overflow_x": null,
            "overflow_y": null,
            "padding": null,
            "right": null,
            "top": null,
            "visibility": null,
            "width": null
          }
        },
        "6e1c2d5e7d9e42cb8caae6576b83cd1e": {
          "model_module": "@jupyter-widgets/controls",
          "model_name": "DescriptionStyleModel",
          "model_module_version": "1.5.0",
          "state": {
            "_model_module": "@jupyter-widgets/controls",
            "_model_module_version": "1.5.0",
            "_model_name": "DescriptionStyleModel",
            "_view_count": null,
            "_view_module": "@jupyter-widgets/base",
            "_view_module_version": "1.2.0",
            "_view_name": "StyleView",
            "description_width": ""
          }
        },
        "0b596117e9bc40cb984430a22115ad82": {
          "model_module": "@jupyter-widgets/base",
          "model_name": "LayoutModel",
          "model_module_version": "1.2.0",
          "state": {
            "_model_module": "@jupyter-widgets/base",
            "_model_module_version": "1.2.0",
            "_model_name": "LayoutModel",
            "_view_count": null,
            "_view_module": "@jupyter-widgets/base",
            "_view_module_version": "1.2.0",
            "_view_name": "LayoutView",
            "align_content": null,
            "align_items": null,
            "align_self": null,
            "border": null,
            "bottom": null,
            "display": null,
            "flex": null,
            "flex_flow": null,
            "grid_area": null,
            "grid_auto_columns": null,
            "grid_auto_flow": null,
            "grid_auto_rows": null,
            "grid_column": null,
            "grid_gap": null,
            "grid_row": null,
            "grid_template_areas": null,
            "grid_template_columns": null,
            "grid_template_rows": null,
            "height": null,
            "justify_content": null,
            "justify_items": null,
            "left": null,
            "margin": null,
            "max_height": null,
            "max_width": null,
            "min_height": null,
            "min_width": null,
            "object_fit": null,
            "object_position": null,
            "order": null,
            "overflow": null,
            "overflow_x": null,
            "overflow_y": null,
            "padding": null,
            "right": null,
            "top": null,
            "visibility": null,
            "width": null
          }
        },
        "fe0775cb4e6c403ab19e7c42f4dfe15d": {
          "model_module": "@jupyter-widgets/controls",
          "model_name": "ProgressStyleModel",
          "model_module_version": "1.5.0",
          "state": {
            "_model_module": "@jupyter-widgets/controls",
            "_model_module_version": "1.5.0",
            "_model_name": "ProgressStyleModel",
            "_view_count": null,
            "_view_module": "@jupyter-widgets/base",
            "_view_module_version": "1.2.0",
            "_view_name": "StyleView",
            "bar_color": null,
            "description_width": ""
          }
        },
        "f25c3af1030e419db6163c499d6097a3": {
          "model_module": "@jupyter-widgets/base",
          "model_name": "LayoutModel",
          "model_module_version": "1.2.0",
          "state": {
            "_model_module": "@jupyter-widgets/base",
            "_model_module_version": "1.2.0",
            "_model_name": "LayoutModel",
            "_view_count": null,
            "_view_module": "@jupyter-widgets/base",
            "_view_module_version": "1.2.0",
            "_view_name": "LayoutView",
            "align_content": null,
            "align_items": null,
            "align_self": null,
            "border": null,
            "bottom": null,
            "display": null,
            "flex": null,
            "flex_flow": null,
            "grid_area": null,
            "grid_auto_columns": null,
            "grid_auto_flow": null,
            "grid_auto_rows": null,
            "grid_column": null,
            "grid_gap": null,
            "grid_row": null,
            "grid_template_areas": null,
            "grid_template_columns": null,
            "grid_template_rows": null,
            "height": null,
            "justify_content": null,
            "justify_items": null,
            "left": null,
            "margin": null,
            "max_height": null,
            "max_width": null,
            "min_height": null,
            "min_width": null,
            "object_fit": null,
            "object_position": null,
            "order": null,
            "overflow": null,
            "overflow_x": null,
            "overflow_y": null,
            "padding": null,
            "right": null,
            "top": null,
            "visibility": null,
            "width": null
          }
        },
        "8254a14353a44dcbb6d29ceef3545f3b": {
          "model_module": "@jupyter-widgets/controls",
          "model_name": "DescriptionStyleModel",
          "model_module_version": "1.5.0",
          "state": {
            "_model_module": "@jupyter-widgets/controls",
            "_model_module_version": "1.5.0",
            "_model_name": "DescriptionStyleModel",
            "_view_count": null,
            "_view_module": "@jupyter-widgets/base",
            "_view_module_version": "1.2.0",
            "_view_name": "StyleView",
            "description_width": ""
          }
        },
        "ee99a77e585043d88fddee89c8cdade1": {
          "model_module": "@jupyter-widgets/controls",
          "model_name": "HBoxModel",
          "model_module_version": "1.5.0",
          "state": {
            "_dom_classes": [],
            "_model_module": "@jupyter-widgets/controls",
            "_model_module_version": "1.5.0",
            "_model_name": "HBoxModel",
            "_view_count": null,
            "_view_module": "@jupyter-widgets/controls",
            "_view_module_version": "1.5.0",
            "_view_name": "HBoxView",
            "box_style": "",
            "children": [
              "IPY_MODEL_80b348ef60dc48709a23e2cfa4d8b3d6",
              "IPY_MODEL_2016a5a3e55e4741bf10c2b76ad513c6",
              "IPY_MODEL_00716900d00b4f1fb9adab26e394e2ad"
            ],
            "layout": "IPY_MODEL_4072a54e4509436f9500c6819141896b"
          }
        },
        "80b348ef60dc48709a23e2cfa4d8b3d6": {
          "model_module": "@jupyter-widgets/controls",
          "model_name": "HTMLModel",
          "model_module_version": "1.5.0",
          "state": {
            "_dom_classes": [],
            "_model_module": "@jupyter-widgets/controls",
            "_model_module_version": "1.5.0",
            "_model_name": "HTMLModel",
            "_view_count": null,
            "_view_module": "@jupyter-widgets/controls",
            "_view_module_version": "1.5.0",
            "_view_name": "HTMLView",
            "description": "",
            "description_tooltip": null,
            "layout": "IPY_MODEL_0dd0692797ed468db010af00584a6705",
            "placeholder": "​",
            "style": "IPY_MODEL_18714da62015446e9a581fceb5a253c5",
            "value": "Processing: 100%"
          }
        },
        "2016a5a3e55e4741bf10c2b76ad513c6": {
          "model_module": "@jupyter-widgets/controls",
          "model_name": "FloatProgressModel",
          "model_module_version": "1.5.0",
          "state": {
            "_dom_classes": [],
            "_model_module": "@jupyter-widgets/controls",
            "_model_module_version": "1.5.0",
            "_model_name": "FloatProgressModel",
            "_view_count": null,
            "_view_module": "@jupyter-widgets/controls",
            "_view_module_version": "1.5.0",
            "_view_name": "ProgressView",
            "bar_style": "",
            "description": "",
            "description_tooltip": null,
            "layout": "IPY_MODEL_3cf43745bbb74e4fa062ec40952a8c6d",
            "max": 4,
            "min": 0,
            "orientation": "horizontal",
            "style": "IPY_MODEL_46cb867d382c485ba2758560fab19439",
            "value": 4
          }
        },
        "00716900d00b4f1fb9adab26e394e2ad": {
          "model_module": "@jupyter-widgets/controls",
          "model_name": "HTMLModel",
          "model_module_version": "1.5.0",
          "state": {
            "_dom_classes": [],
            "_model_module": "@jupyter-widgets/controls",
            "_model_module_version": "1.5.0",
            "_model_name": "HTMLModel",
            "_view_count": null,
            "_view_module": "@jupyter-widgets/controls",
            "_view_module_version": "1.5.0",
            "_view_name": "HTMLView",
            "description": "",
            "description_tooltip": null,
            "layout": "IPY_MODEL_ebae0f58a55d4ce3bd38fa0cb9803dff",
            "placeholder": "​",
            "style": "IPY_MODEL_8d3d2c2ab06a4f009b69a22432bd2da0",
            "value": " 4/4 [00:01&lt;00:00,  3.13it/s]"
          }
        },
        "4072a54e4509436f9500c6819141896b": {
          "model_module": "@jupyter-widgets/base",
          "model_name": "LayoutModel",
          "model_module_version": "1.2.0",
          "state": {
            "_model_module": "@jupyter-widgets/base",
            "_model_module_version": "1.2.0",
            "_model_name": "LayoutModel",
            "_view_count": null,
            "_view_module": "@jupyter-widgets/base",
            "_view_module_version": "1.2.0",
            "_view_name": "LayoutView",
            "align_content": null,
            "align_items": null,
            "align_self": null,
            "border": null,
            "bottom": null,
            "display": null,
            "flex": null,
            "flex_flow": null,
            "grid_area": null,
            "grid_auto_columns": null,
            "grid_auto_flow": null,
            "grid_auto_rows": null,
            "grid_column": null,
            "grid_gap": null,
            "grid_row": null,
            "grid_template_areas": null,
            "grid_template_columns": null,
            "grid_template_rows": null,
            "height": null,
            "justify_content": null,
            "justify_items": null,
            "left": null,
            "margin": null,
            "max_height": null,
            "max_width": null,
            "min_height": null,
            "min_width": null,
            "object_fit": null,
            "object_position": null,
            "order": null,
            "overflow": null,
            "overflow_x": null,
            "overflow_y": null,
            "padding": null,
            "right": null,
            "top": null,
            "visibility": "hidden",
            "width": null
          }
        },
        "0dd0692797ed468db010af00584a6705": {
          "model_module": "@jupyter-widgets/base",
          "model_name": "LayoutModel",
          "model_module_version": "1.2.0",
          "state": {
            "_model_module": "@jupyter-widgets/base",
            "_model_module_version": "1.2.0",
            "_model_name": "LayoutModel",
            "_view_count": null,
            "_view_module": "@jupyter-widgets/base",
            "_view_module_version": "1.2.0",
            "_view_name": "LayoutView",
            "align_content": null,
            "align_items": null,
            "align_self": null,
            "border": null,
            "bottom": null,
            "display": null,
            "flex": null,
            "flex_flow": null,
            "grid_area": null,
            "grid_auto_columns": null,
            "grid_auto_flow": null,
            "grid_auto_rows": null,
            "grid_column": null,
            "grid_gap": null,
            "grid_row": null,
            "grid_template_areas": null,
            "grid_template_columns": null,
            "grid_template_rows": null,
            "height": null,
            "justify_content": null,
            "justify_items": null,
            "left": null,
            "margin": null,
            "max_height": null,
            "max_width": null,
            "min_height": null,
            "min_width": null,
            "object_fit": null,
            "object_position": null,
            "order": null,
            "overflow": null,
            "overflow_x": null,
            "overflow_y": null,
            "padding": null,
            "right": null,
            "top": null,
            "visibility": null,
            "width": null
          }
        },
        "18714da62015446e9a581fceb5a253c5": {
          "model_module": "@jupyter-widgets/controls",
          "model_name": "DescriptionStyleModel",
          "model_module_version": "1.5.0",
          "state": {
            "_model_module": "@jupyter-widgets/controls",
            "_model_module_version": "1.5.0",
            "_model_name": "DescriptionStyleModel",
            "_view_count": null,
            "_view_module": "@jupyter-widgets/base",
            "_view_module_version": "1.2.0",
            "_view_name": "StyleView",
            "description_width": ""
          }
        },
        "3cf43745bbb74e4fa062ec40952a8c6d": {
          "model_module": "@jupyter-widgets/base",
          "model_name": "LayoutModel",
          "model_module_version": "1.2.0",
          "state": {
            "_model_module": "@jupyter-widgets/base",
            "_model_module_version": "1.2.0",
            "_model_name": "LayoutModel",
            "_view_count": null,
            "_view_module": "@jupyter-widgets/base",
            "_view_module_version": "1.2.0",
            "_view_name": "LayoutView",
            "align_content": null,
            "align_items": null,
            "align_self": null,
            "border": null,
            "bottom": null,
            "display": null,
            "flex": null,
            "flex_flow": null,
            "grid_area": null,
            "grid_auto_columns": null,
            "grid_auto_flow": null,
            "grid_auto_rows": null,
            "grid_column": null,
            "grid_gap": null,
            "grid_row": null,
            "grid_template_areas": null,
            "grid_template_columns": null,
            "grid_template_rows": null,
            "height": null,
            "justify_content": null,
            "justify_items": null,
            "left": null,
            "margin": null,
            "max_height": null,
            "max_width": null,
            "min_height": null,
            "min_width": null,
            "object_fit": null,
            "object_position": null,
            "order": null,
            "overflow": null,
            "overflow_x": null,
            "overflow_y": null,
            "padding": null,
            "right": null,
            "top": null,
            "visibility": null,
            "width": null
          }
        },
        "46cb867d382c485ba2758560fab19439": {
          "model_module": "@jupyter-widgets/controls",
          "model_name": "ProgressStyleModel",
          "model_module_version": "1.5.0",
          "state": {
            "_model_module": "@jupyter-widgets/controls",
            "_model_module_version": "1.5.0",
            "_model_name": "ProgressStyleModel",
            "_view_count": null,
            "_view_module": "@jupyter-widgets/base",
            "_view_module_version": "1.2.0",
            "_view_name": "StyleView",
            "bar_color": null,
            "description_width": ""
          }
        },
        "ebae0f58a55d4ce3bd38fa0cb9803dff": {
          "model_module": "@jupyter-widgets/base",
          "model_name": "LayoutModel",
          "model_module_version": "1.2.0",
          "state": {
            "_model_module": "@jupyter-widgets/base",
            "_model_module_version": "1.2.0",
            "_model_name": "LayoutModel",
            "_view_count": null,
            "_view_module": "@jupyter-widgets/base",
            "_view_module_version": "1.2.0",
            "_view_name": "LayoutView",
            "align_content": null,
            "align_items": null,
            "align_self": null,
            "border": null,
            "bottom": null,
            "display": null,
            "flex": null,
            "flex_flow": null,
            "grid_area": null,
            "grid_auto_columns": null,
            "grid_auto_flow": null,
            "grid_auto_rows": null,
            "grid_column": null,
            "grid_gap": null,
            "grid_row": null,
            "grid_template_areas": null,
            "grid_template_columns": null,
            "grid_template_rows": null,
            "height": null,
            "justify_content": null,
            "justify_items": null,
            "left": null,
            "margin": null,
            "max_height": null,
            "max_width": null,
            "min_height": null,
            "min_width": null,
            "object_fit": null,
            "object_position": null,
            "order": null,
            "overflow": null,
            "overflow_x": null,
            "overflow_y": null,
            "padding": null,
            "right": null,
            "top": null,
            "visibility": null,
            "width": null
          }
        },
        "8d3d2c2ab06a4f009b69a22432bd2da0": {
          "model_module": "@jupyter-widgets/controls",
          "model_name": "DescriptionStyleModel",
          "model_module_version": "1.5.0",
          "state": {
            "_model_module": "@jupyter-widgets/controls",
            "_model_module_version": "1.5.0",
            "_model_name": "DescriptionStyleModel",
            "_view_count": null,
            "_view_module": "@jupyter-widgets/base",
            "_view_module_version": "1.2.0",
            "_view_name": "StyleView",
            "description_width": ""
          }
        },
        "b625609c300f417eb95b158defd0c62b": {
          "model_module": "@jupyter-widgets/controls",
          "model_name": "VBoxModel",
          "model_module_version": "1.5.0",
          "state": {
            "_dom_classes": [
              "widget-interact"
            ],
            "_model_module": "@jupyter-widgets/controls",
            "_model_module_version": "1.5.0",
            "_model_name": "VBoxModel",
            "_view_count": null,
            "_view_module": "@jupyter-widgets/controls",
            "_view_module_version": "1.5.0",
            "_view_name": "VBoxView",
            "box_style": "",
            "children": [
              "IPY_MODEL_8cb09c55e4e345b8b9f88fed60afa84c",
              "IPY_MODEL_01fae235c9584e7796a3413f9d95045f"
            ],
            "layout": "IPY_MODEL_97b7e80b6fda4251870481b2910d7b4d"
          }
        },
        "8cb09c55e4e345b8b9f88fed60afa84c": {
          "model_module": "@jupyter-widgets/controls",
          "model_name": "ToggleButtonsModel",
          "model_module_version": "1.5.0",
          "state": {
            "_dom_classes": [],
            "_model_module": "@jupyter-widgets/controls",
            "_model_module_version": "1.5.0",
            "_model_name": "ToggleButtonsModel",
            "_options_labels": [
              "Pipeline Plot",
              "Hyperparameters",
              "AUC",
              "Confusion Matrix",
              "Threshold",
              "Precision Recall",
              "Prediction Error",
              "Class Report",
              "Feature Selection",
              "Learning Curve",
              "Manifold Learning",
              "Calibration Curve",
              "Validation Curve",
              "Dimensions",
              "Feature Importance",
              "Feature Importance (All)",
              "Decision Boundary",
              "Lift Chart",
              "Gain Chart",
              "Decision Tree",
              "KS Statistic Plot"
            ],
            "_view_count": null,
            "_view_module": "@jupyter-widgets/controls",
            "_view_module_version": "1.5.0",
            "_view_name": "ToggleButtonsView",
            "button_style": "",
            "description": "Plot Type:",
            "description_tooltip": null,
            "disabled": false,
            "icons": [
              ""
            ],
            "index": 0,
            "layout": "IPY_MODEL_47c5000f09bf42a3a03f615919c688bc",
            "style": "IPY_MODEL_a266c34c133040c6af74a05ddce2cb48",
            "tooltips": []
          }
        },
        "01fae235c9584e7796a3413f9d95045f": {
          "model_module": "@jupyter-widgets/output",
          "model_name": "OutputModel",
          "model_module_version": "1.0.0",
          "state": {
            "_dom_classes": [],
            "_model_module": "@jupyter-widgets/output",
            "_model_module_version": "1.0.0",
            "_model_name": "OutputModel",
            "_view_count": null,
            "_view_module": "@jupyter-widgets/output",
            "_view_module_version": "1.0.0",
            "_view_name": "OutputView",
            "layout": "IPY_MODEL_73eb917cf81a49a489d8b5bb979fa5d1",
            "msg_id": "",
            "outputs": [
              {
                "output_type": "display_data",
                "data": {
                  "text/plain": "<Figure size 1700x600 with 1 Axes>",
                  "image/png": "iVBORw0KGgoAAAANSUhEUgAABpQAAAB0CAYAAACLzdEVAAAAOXRFWHRTb2Z0d2FyZQBNYXRwbG90bGliIHZlcnNpb24zLjcuMSwgaHR0cHM6Ly9tYXRwbG90bGliLm9yZy/bCgiHAAAACXBIWXMAAA9hAAAPYQGoP6dpAABE2klEQVR4nO3deXhM1xsH8O9M9mViiUQkIVSR2KrUFrtStCq21la1xNKiaNHohqK11FpVaiklLaW0tdNYUrGHWlJLgkRijy2LhCST9/eHZ+5vRiK1JLlm5vt5njzPnTt37rx3MvecO+c951yNiAiIiIiIiIiIiIiIiIiIHkGrdgBERERERERERERERET0fGNCiYiIiIiIiIiIiIiIiPLEhBIRERERERERERERERHliQklIiIiIiIiIiIiIiIiyhMTSkRERERERERERERERJQnJpSIiIiIiIiIiIiIiIgoT0woERERERERERERERERUZ6YUCIiIiIiIiIiIiIiIqI8MaFEREREREREREREREREeWJCiYiIiIiIiIiIiIiIiPLEhBIRERERERERERERERHlyVbtAIiInjcigsuXLyMqKgrx8fFISkpCVlaW2mERqUqj0cDV1RXe3t7w9/dHxYoVYWNjo3ZYZikzMxOnT5/GmTNncPXqVdy9excionZYRKqys7ND0aJFUbZsWVStWhUlS5ZUOySzdefOHZw4cQLnz5/HzZs3kZGRoXZIRJTPtFot3Nzc4Ovri8qVK6NcuXLQaDRqh/VcuX79OlatWoXU1FS1QyEiIpW4ubmhR48eKFKkiNqhWBQmlArA6tWrMWbMGKSkpDz1PtLT05GSkgKdTgcnJ6d8jI4sUX5+X3Q6HSZMmIDOnTvnU3TmQUQQHh6OFStWYMuWLYiPj1c7JKLnmpubG5o3b47OnTujQ4cOcHZ2Vjuk51pycjJWr16NNWvWIDw8HGlpaWqHRPRce/HFF/H666+je/fuqFOnDhtK/8OpU6fw888/Y/369Th+/Lja4RBRIfPw8MBrr72Gt99+G23atIGdnZ3aIanunXfewV9//aV2GEREpLIjR45g0aJFaodhUTTCLrH5LiAgAKdPn1Y7DKKn5u/vj1OnTqkdRqHQ6/VYsWIFvv76a6s5ZqL8VqxYMXzwwQf46KOP2PPnIYmJiZgyZQp++OEH9pAlekq1atXC559/jqCgICaWHhIREYHx48ez0ZSIFL6+vhg5ciQGDhwIR0dHtcNRjU6n47UXERHhjTfewIYNG9QOw6IwoVQAfH19cenSJWi1WpQqVeqp9nHlyhVkZ2c/0z7IeuTX98WwHx8fH1y8eDEfI3w+HT16FP369cPhw4dN1js4OKBBgwaoVasWypcvD3d3d/byI6un1+uRnJyM+Ph4HDt2DH///Tdu3Lhhso2HhwdmzJiBHj16WH2jb3Z2NubNm4dPP/0UycnJJs+VKlUKjRs3RrVq1VC6dGnodDpotbytJVkvEUFmZiYSExNx9uxZHDp0CPv3788x3WyTJk2wYMECVKxYUaVInx/Xr1/H0KFD8euvv5qs12g0ePnll1GvXj1UqlQJJUuWhIODg9WXyUSWJisrC3fu3EFcXByOHDmC3bt355gh5YUXXsD8+fPRsmVLlaJUT0pKCtzc3AAA1atXx/jx41WOiIiIClNMTAxGjRoFAOjfvz8WLFigckSWhVPeFaBSpUo9daO8ISn1LPsg65Ff3xfDfiydiGDOnDkYOXIkMjMzlfUNGzbEoEGD0K5dO7i4uKgYIdHzLzs7GxEREVi0aBFWrFiBrKwsJCYmomfPnti4cSMWLVpktefRrVu30KNHD2zZskVZ5+joiF69eqFv376oXbs2G3eJ/kNSUhLWrFmDuXPn4siRIwCA8PBwvPzyy/jhhx/wzjvvqByhenbu3ImuXbvi+vXryroXXngBQ4YMQbdu3eDl5aVidESkhoyMDPz111/44YcfsH79egDA+fPn8dprr2HEiBGYPHkybG2tp/nnypUrynLVqlURFBSkYjRERFTYNm7cqCx7e3urGIllYndYIrIqer0egwYNwrBhw5RkUtWqVbF9+3bs3r0b3bp1s9pGcKInodVq0bhxYyxbtgzR0dEm911buXIlGjdubNLYaS3i4uJQr149k2RS3759cf78ecyfP5/3giF6TEWKFEHfvn0RGRmJP/74A+XKlQMApKWloWfPnhgzZgyscaKFn376CS1btlTKV3d3dyxcuBBnzpzBhx9+yGQSkZWyt7fHG2+8gXXr1uGff/5BkyZNlOemT5+OoKAgq7p/4+XLl5VlzvhCRGR9WA8ULCaUiMhqiAgGDhyI+fPnK+tGjRqFw4cPo3nz5ipGRmTeypUrh9WrV2P16tXK9CJHjhxB8+bNcfPmTZWjKzwJCQlo0qQJYmJiADyYAnDbtm1YvHgxL2KJnpJGo0FQUBBOnDiB4OBgZf2ECRPw+eefqxhZ4Vu6dCl69+4NvV4PAGjVqhVOnjyJfv36WdXIAyLKW40aNbBz507Mnj1bmbZ706ZNCAoKwv3791WOrnAYj1Biz3QiIuvDeqBgMaFERFZj4sSJWLx4MQDA1tYWy5cvx9SpU2Fvb69yZESWoXPnzti3bx98fX0BAP/++y86dOhgMrWkpUpNTcUbb7yB+Ph4AEClSpVw6NAhq7xvAVFBcHFxwaJFizBr1ixl3ddff20186Fv374d/fr1Ux4PGTIEGzduhKenp4pREdHzSqPRYOjQodi2bRt0Oh0AICwsDP369bOK0Z3GPdPZkEhEZH1YDxQsJpSIyCrs2LEDY8eOBfDgB9bPP/9s1fdfICoolStXxq5du5Rpl3bv3o3PPvtM5agK3uDBg3HixAkAQPny5bFr1y74+fmpHBWR5Rk2bBi+++475fEHH3yAo0ePqhdQIbh69Sq6deumjEz64IMP8O2338LGxkblyIjoede0aVNs3boVTk5OAIDQ0FAsXLhQ5agKHqc6IiKybqwHChYTSkRk8dLS0tC3b1+lN95XX32Ft99+W+WoiCxX+fLl8eeffyrTrEybNg0HDx5UOaqCs3HjRixbtgwAoNPpsHHjRt7HhKgADR48GMOGDQPw4Eb0ffr0QVZWlspRFZwhQ4YgMTERANCmTRvMnDmT92IjosdWv3595ToFAEaMGIGEhAQVIyp4nOqIiMi6GeoBrVbLEf0FgAklIrJ406ZNw4ULFwA86KUXEhKickRElq9OnTqYOHEigAf3Lxs2bJhFTrGSmZmJDz/8UHk8Z84cVKpUScWIiKzD1KlTUb16dQDA0aNHlSltLU14eDjWrFkD4MF92X766SeOTCKiJ9a5c2f0798fwINpej/55BOVIypY7JlORGTdDPWAp6cn7zVaAJhQIiKLlpycjBkzZgAAbGxsMH/+fGi1LPqICsNHH32EypUrAwD279+Pbdu2qRxR/vvll18QExMDAGjcuDHeffddlSMisg729vaYN2+e8virr76yyPu1jRs3TlmeMmUKPDw81AuGiMzalClT4O7uDuDB9Ut0dLTKERUcQ890nU4HV1dXlaMhIqLCpNfrce3aNQAcpVpQ2KpKRBZt+fLlSEpKAgD06tWLIweICpGtrS3Gjx+vPP72229VjKZgzJkzR1n+6quvOA0VUSEKDAzEG2+8AQBISEjAn3/+qXJE+ev48ePYtWsXAKBixYpMWBPRMylWrBhGjRoF4MHo8blz56ocUcEx9ExnQyIRkfVJTExU7j3KeqBgMKFERBbNeL7w4cOHqxcIkZVq3749ypQpAwDYsmULrl+/rnJE+efkyZM4fPgwAKBWrVpo2LChyhERWR/jun358uXqBVIAQkNDleWhQ4dyqjsiemYDBgyAo6MjgAejlCzx/nMpKSlITU0FwOnuiIisEac9LXhMKBGRxbp27RoOHjwIAKhevTqqVaumckRE1sfGxgbdu3cHAGRnZ2PTpk0qR5R/1q9fryy/8847KkZCZL2aN2+u/FDctm0b7t27p3JE+WfdunUAHpSjXbp0UTkaIrIExYoVQ9u2bQEAN27cwP79+1WOKP8ZprsD2DOdiMgasR4oeEwoEZHF2r17t7L8+uuvqxgJkXVr06aNsvz333+rGEn+Mj4W42MkosKj1WrRunVrAMC9e/dw6NAhlSPKH9evX8eZM2cAAHXq1EGJEiVUjoiILIXx7yJLui4zMO6ZzoZEIiLrwxFKBY8JJSKyWMeOHVOW69Wrp2IkRNatdu3a0GofXHIYn5fmznAsxYoVQ8WKFVWOhsh6GdfxR48eVS+QfGRcVtavX1/FSIjI0lhimWnMuGc6GxKJiKwPRygVPCaUiMhinT9/XlmuVKmSipEQWTcnJyf4+fkBMD0vzdn9+/dx6dIlAA/KF41Go3JERNbLuI6PjY1VMZL8w2sYIiooL774otLRx1LKTGMcoUREZN1YDxQ8JpSIyGLduHFDWS5ZsqSKkRCR4Ry8c+eORdwA+ubNm8oyyxcidXl5eSnLxnW/OWMZQ0QFxc7ODu7u7gAsp8w0xqmOiIisG+uBgseEEhFZrIyMDGXZ0dFRxUiIyPgczMzMVDGS/MHyhej54eDgoCwbn5vm7P79+8oyyxgiym+GctNSykxjnOqIiMi6GeoBrVYLT09PlaOxTEwoEZFV4HRUROqy5HPQko+NyBxY+jlo6cdHRIXPkssV9kwnIrJuhnrA09MTtra2KkdjmZhQIiIiIiIiIiIis2foma7T6eDq6qpyNEREVJj0ej2uXbsGgKNUCxITSkREREREREREZPYMPdPZkEhEZH0SExOh1+sBsB4oSEwoERERERERERGRWUtJSUFqaioATndHRGSNOO1p4WBCiYiIiIiIiIiIzJphujuAPdOJiKwR64HCwYQSERERERERERGZNeOe6WxIJCKyPhyhVDiYUCIiIiIiIiIiIrNm3DOdDYlERNaHI5QKBxNKRERERERERERk1jhCiYjIurEeKBxMKBERERERERERkVljz3QiIuvGKe8KBxNKRERERERERERk1tiQSERk3QwdC7RaLTw9PVWOxnIxoURERERERERERGaNCSUiIutmqAc8PT1ha2urcjSWiwklIiIiIiIiIiIya4ae6TqdDq6uripHQ0REhUmv1+PatWsAOO1pQWNCiYiIiIiIiIiIzJqhZzobEomIrE9iYiL0ej0A1gMFjQklIiIiIiIiIiIyWykpKUhNTQXAhkQiImvEaU8LDxNKRERERERERERktgzT3QFsSCQiskbG9QA7FhQsJpSIiIiIiIiIiMhsGfdMZ0MiEZH14QilwsOEEhERERERERERmS2OUCIism4coVR4mFAiIiIiIiIiIiKzxRFKRETWjfVA4WFCiYiIiIiIiIiIzBZ7phMRWTdOeVd4mFCix9K7d29oNJocf05OTqhRowZmzpwJvV6vdpgmli5dCo1Gg4iICLVDISp0Z8+exbBhw1CpUiW4urrCwcEBZcuWRZ8+fRAfHw8A2LVrFzQaDUJDQwslpqc9J3kuEz1fWL4QUWE5cOAAunXrBl9fXzg4OMDT0xMNGzbE999/j6ysLADP13l88+ZNfPHFF6hevTpcXV3h6uoKf39/fPjhh4iNjX3i/RV2Wfq4DJ95nTp1kJ2dnes2Go0GS5cuLdzAyKqxIfH59Ly1JcXFxUGj0WDixImF9p5ly5bN9TMw/PXr16/QYnlWW7duRVBQELy8vGBvb49SpUqhRYsWCA0NhYgo240bNw4ajQYXL14s9Bhzuy745ptvUKxYMdjb22Pv3r3o3bs3bG1tCz02KliGjgVarRaenp4qR2PZmFCix2ZjY4MrV66Y/B04cAAdOnTAyJEj8f7776sdYr44duwYNBqN2mEQPbWzZ8+iVq1aOHjwIGbOnImTJ0/i2LFjGD9+PP766y80aNAAiYmJCAwMxJUrV9C5c2e1QzZbHTp0wLhx49QOg6jQsHwpPCxfyNpNnz4d9evXh0ajwfLlyxEdHY0NGzagSZMmGDFiBJo2bYq7d++qHaYiKioK1atXx6pVqzBq1Cj8888/iIyMxGeffYbNmzfj5ZdfRnh4uNph5qsjR45gzpw5aodBBID3UHqeWUtbUl4aNWqU4zMw/M2YMUPt8Ew8qk1s2LBheP3111G6dGn8/vvviImJwW+//YZKlSqhV69e6Ny58yM7GRSmLl264MqVK6hbty4AIDk5GaNHj0a9evUQExODmjVrYvbs2bh06ZLKkVJ+M3Qs8PT0ZMKwgPHTpSfi5eWV43H16tVx6dIlLFq0CBMnTjT7LPDff/+tdghEz2Tx4sVITk7GH3/8gZIlSyrr/f394e/vj/79++PAgQNo27ZtjnOaHp+IICIiAi+99JLaoRAVGpYvhYPlC1m7nTt3YtSoUQgJCcGkSZOU9X5+fqhTpw4CAwPRtm1bzJ0797n47ZGZmYmOHTvCzc0N+/fvR5EiRZTn/P398eabb6JOnToYMmQIjh07Bq3WMvp1Dh8+HJ9//jk6duyI0qVLqx0OWTlDQ6JOp4Orq6vK0dDDrKEtKS/29vZmc22cW5vY0qVL8e2332L+/PkYOHCgst7Pzw8NGjRAlSpVMHjwYPz22294++23CzPcHJycnODk5KQ8vn37NrKzs9GgQQP4+fkBABwdHU3qajJ/er0e165dA8BpTwuDZVzJkupq1KgBEVGmugEeTNHQsmVLuLm5wdHRERUrVsSECROU6Sl69uyJF1980WQ/c+fOzXX4cZ06ddCuXbtHvv+RI0fQsGFDODo6wtPTEx988AHS09NzbLd27VoEBgbCxcUFzs7OqFq1Kr7//nvl+d69e2Po0KEAHkzT0Lt3bwDArVu38N5778HHxwd2dnYoVaoUOnfujHPnzj3ZB0VUCAzf/bS0tBzP1alTB8eOHUPbtm1zTKNiPDT8zTffhE6nQ4kSJRASEoL79+9j+PDh8PT0RLFixdC1a1ckJycr+9VoNBg1ahRmzpyJsmXLwsHBAVWqVMEff/yRZ6wnTpxAUFAQfH194eTkhOrVq+PHH3/8z2PUaDT4/PPP8fXXX8PX1xfOzs5o2rQpEhIS8Mcff6Bq1apwdnZGjRo1sGfPHuV1vXv3hoeHB/755x8EBgbCyckJHh4eGD58ODIyMkz2//DUAxEREcr0LXFxcdBqtbhx4wa+/PJLaDQaxMXFPfYxlS1bFr1798bHH38MnU5XqFMuED0Lli8sX4gKw+TJk+Hh4YEvv/wy1+ffeOMNxMTE4OOPP871+cc5V+7du4eQkBCUK1cOdnZ28PDwQOvWrXHkyBFlG8PUSD/++CPGjh2LMmXKwNnZGTVr1sT27duV7X777TfExMRg8uTJuTZQFS1aFNu3b0dkZKSSTMrKysKECRNQsWJF2Nvbo2jRonjttdewb9++R34uj5rer1+/fia9yXv37g1fX1/s3bsXtWvXhpOTE8qVK4cVK1bg8uXLaNeuHdzc3ODt7Y2xY8cqrzOU3Vu2bMGQIUPg5eUFnU6HRo0a4Z9//skRz/jx41GiRAkMHjz4kTEbf5bvvPMOPD09YWdnh9KlSyM4OBjXr1/P9fietK7Q6/WYMmUKXnrpJbi6uqJEiRLo3r17jumWZsyYgSpVqsDFxQVFihRBgwYNsH79+v+Mn55/hoQSGxLNy8NtSf/VjgQ8KOPKli2LY8eOoWnTpnB1dUWpUqUwcOBAk3agGzduoEuXLnBzc4NOp8Obb76JCxcu5Ijh+vXr6N+/P7y9vWFnZwcvLy+8++67JiNYDFO4/fvvv2jatClcXFzg7e2NmTNnIjk5Ge+++y6KFSsGDw8PvP/++ybxPokdO3agadOm0Ol0cHR0ROXKlTF9+nST6eQeda2Xnp6OkJAQVK5cGU5OTihVqhTef/993L59W3ltZmYmPv/8c1SoUAFOTk4oXrw4WrZsib179yqfbW5tYpMmTUKNGjVMkknG3nvvPZw7dy7PZNKCBQvw8ssvw8nJCW5ubnjllVewevVqk21OnTqFjh07wsvLCw4ODihdujQGDRpkUt5v2rQJDRs2RPHixeHs7IzKlStj2rRpymdkXJcsXboUZcuWBQB88cUX0Gg02LVrV65T3v3xxx9o1KgRihcvDp1Oh6ZNm5pc6xuuCb777ju0bt0ajo6O2L179yOPlwpXYmKiMn0m64FCIJTvfHx8BID4+Piouo/81KtXL7GxsXnk84MHDxatViuJiYkiInLhwgVxcHCQTp06SVRUlMTFxcmyZcvE1tZWJkyYICIiP//8swCQhIQEZT9BQUFSpkwZadasmbLu9u3bYmNjI/Pnz8/1ve/cuSMlSpSQqlWryu7du+XUqVMyduxY5TPcvXu3iIjs27dPNBqNDB48WM6cOSPnzp2TadOmCQBZvny5sq/u3bsLALly5YrcuXNHRERat24tJUuWlLCwMImPj5d9+/ZJjRo1pGLFipKVlfUMn2z+yK/vy/P2vXtWTZs2FQACQNLT09UOp9D89ddfAkB8fX3lu+++k7i4uFy327lzp8n3f8mSJQJAXnnlFVm1apWcPXtWhg0bJgCkYcOG8tVXX0lMTIyEhoYKAPnqq6+UfQGQMmXKSK9eveTEiRNy+PBhadGihdja2sqJEydM9m84J8+fPy9FihSRWrVqye7du+X06dPy5ZdfCgD54YcflH0//DrD+5UvX16GDh0qp0+fls2bN4uTk5PUrVtXWrRoIYcPH5YjR45IQECAVKhQQXldr169xM7OTho2bChhYWESHR0tU6dOFY1GIyEhISb7Dw4ONvm8du/eLQBkyZIlkpWVJUeOHBEAMmLECLly5YpkZWU99jH5+fnJiy++KD169JBTp07J7du3n/TfbHaaNWumnI9paWlqh/PMYmNjlePp2rWr2uEUGpYvLF+eR3Fxccr52KVLF7XDyRdjxoxRjmnr1q1qh1OoMjMzxdHRUd55553H2v5pz//33ntPnJycZO3atRIfHy///POPtGzZUjw8POTWrVsi8v+yPiAgQEaOHCknT56UAwcOiL+/v3h4eCjXl/369RM7O7snut7s37+/ODo6yqxZsyQ6OloOHDggzZo1E0dHRzl58qSIPLosNS6zRESCg4PF+Kd9r169pGjRotK0aVOJiIiQU6dOSePGjcXZ2VmaNWsmv/76q5w9e1aGDx8uAGTPnj0m71etWjWZMmWKREdHy44dO8TT01OqVq2a4zMXEdm0aZMAkFWrVpnEZCjTDAICAsTf31/27dsn8fHxsmPHDilTpoy8+uqrOfb7NHXFBx98IFqtViZPnixnz56V7du3S5UqVaR8+fJy9+5dERFZunSpaDQaWbx4scTGxsqpU6dk5MiRotVq5fDhw4/9v7MEpUuXFgDi7e2tdij5Ijk5WSkzjdsSSH1P0pb0OO1Ihn0WL15cAgMDZfPmzXLu3Dn56quvBIBMmzZN2a5FixZSpEgRWbVqlcTExMiyZcukcuXKAkDZ3/3796Vq1apSunRpWbt2rZw7d042bNggfn5+UrFiRbl3756IiIwdO1b5fm3ZskViYmLk7bffFo1GI82aNZP58+fL2bNnZerUqQJAfv75ZyUOPz8/k7LuUf7++2+xsbGRDh06yKFDh+TMmTPy1VdfiUajkTFjxpjsL7drvTfffFOcnZ1l4cKFcu7cOVm3bp34+PhIYGCgZGdni4jIuHHjxMXFRdauXStxcXFy7Ngx6dmzpzg6OiptYA+3iV28eFEAyOeff/4Y/3Ex+bwM7X0rV64UADJx4kQ5d+6cREdHy0cffSQajUbCw8OV15UtW1aaNGkikZGREh8fL1u3bpUXXnhBgoKCREQkOjpa7OzsZMiQIXLq1CmJjY2VRYsWiaOjo8ycOVNETOvKtLQ0OXjwoACQkJAQuXLlity/fz/H93LNmjUCQLp37y5RUVFy5MgR6dixozg6OsrRo0dF5P/XBBUqVJBvvvlG4uLiLOJ3raU4fPiwUg/0799f7XAsHhNKBcCaEkqpqamydOlScXBwkN69eyvr7927J6dPn1YSMga1a9eWunXriojIjRs3RKvVyrJly0TkwY9HNzc3+eabb8TR0VH5QbZ27VoBIPHx8bnG9uOPPwoA+fvvv03Wt2/f3uQHV2pqqvz77785CnwPDw+TxoeHf5CJiMTHx0tsbKzJurlz5woAOXXqVK5xFSYmlP7vt99+k+PHj0t2drbVJpRERH766Sfx8vJSjt/Hx0e6d+8uK1eulIyMDBF5dCPFxIkTlf1cu3ZNAEjz5s1N9h8QECAdOnRQHgMQLy8vyczMVNadP39eAMgnn3xisn/DOTlkyBCxtbWVixcvmuz7zTffFB8fH+Wi91ENvhUrVlS2ERFp06aNAJALFy4o66ZMmSIAJCkpSUQelGUAZP369Sbv2aRJEylVqpTJ/vNq8BURSUhIEAAyduxYZZvHPSY/Pz9xcnKSlJQUsRaWkFC6deuWLFu2TG7cuGG1CSURli8GLF+eH5aSUPr7779l586dkpGRYdUJpatXrz5Rw9XTnv9XrlyR6Ohok202btwoAGTz5s0i8v/Go0aNGplsZ+iUZkhqt27dWnx9fR/7GC9fvixarVZGjhxpsv7mzZtiZ2cngwcPFpFnSygBkIiICGXdr7/+KgBk/PjxyjpDOTx79myT9+vZs6fJ/ocMGSIAlHLFOKEkItK1a1fx8vIySWAbl2nZ2dly/vz5HP+TUaNGiVarldTUVJP9PmldcfXqVbGxsZH333/fZBtD49KCBQtEROT9998XnU6n1FWG2Pbs2aMkEa2FJSSUzp49K2vWrJHk5GQ5c+aMUmZ2795d7dDIyJO0JT1OO5JhnwBk+/btyrrs7Gxxc3OTTp06icj/rxWNyzwRkVmzZpkklAxl44YNG0y2W79+vQCQ1atXi8j/EyShoaHKNgcOHBAA0rdvX2WdXq8XFxcX+fDDD5V1j5tQatOmjZQqVcqkjBIR6dSpkxQpUkS5Fs7tWi8yMlIAyJQpU0xea0iUbNu2TXmPgIAAk23S09Nl3759Sln8cJ2yf/9+ASCLFi36z2MweDihdOfOHTl+/Ljo9Xplm7t37yqJHpH/l/eTJ0822VdsbKxERUWJyP//X/v37zfZ5ujRo0qb4cN1paEufzgpafy9rFq1qlSpUsXk+j8tLU08PT2VMuVR1wT0fNiwYYNSDxj/hqKCwXsoFQDDsFhLu8GbXq/PMRdxWloaPD09MXz4cEyYMEFZ7+DggJiYGHz00Uc4ceIEbt++DRFBeno6ypUrBwBwd3dHnTp1sHPnTvTs2RMHDx7E/fv38d5772HChAnYu3cvmjdvju3bt6NatWqPnJf7+PHjAIBatWqZrG/cuLHJdDguLi44fPgwhgwZgjNnziA5ORkigrS0NNy4cSPPY8/Ozsa0adMQFhaGa9euITMzUxnC/F+vNSeG4eFXrlyBr6+vytE8ndu3byMtLQ1+fn5PPczcErz77rvo1q0bwsPDER4ejoiICKxZswa//PILqlatim3btj3yta+88oqy7OHhAQCoWbOmyTYeHh4mQ+cBoH79+ibDxsuVKwd3d3ecP38+1/fZu3cvqlatCh8fH5P1rVq1wvr163H16tU8b6hbs2ZNk+ldPDw8UKJECZQpUyZH/Ldv34abm5uyvnHjxjmOOTw8HPfu3YOjo+Mj3/O/PMkxVa5c2Wrnd3/xxRdzvdHr8y4rKwvXrl2DRqPJUedYE5YvpvGzfHm+rFu3zmyvYZKTk5GSkgIXFxfletkaGc49MZre50k87rliZ2eHxYsXY+PGjbh8+TLu37+vTJXy8PV9YGCgyWPDfT5u3rypxPwk8UZGRiI7OztHeVG8eHEEBATg0KFDj72vvBjXVbmVucblmLG8jje3smXWrFkICAjAxx9/jAULFuR4XqPRIDU1FdOnT0dERIQyLU1GRgays7Nx+/ZtuLi4KNs/aV1x8OBB6PV6tGrVymSbmjVrokSJEoiMjET//v0RFBSEhQsXol69eujTpw+aNGmCatWq5Thea3L9+nWzLTPv3buHmzdvwtbWFi+//LKyPq/6ndTxuG1Jj9OOZKx+/frKskajQYkSJZRyOa92ImMHDhzIdX2DBg0AAIcOHULnzp2V9f9VPmm1Wri7u+coV3ft2vXIa7PZs2cjODgYBw4cQNOmTWFnZ5cjljVr1iAmJgYBAQEAcl7rGaase7gcbNmyJTQaDSIjI9GyZUt06tQJ/fr1Q7NmzdCjRw80adIEFSpUQL169XKNDXj2ehkAXF1dsWvXLgwYMACxsbFITU1VnjPUuR4eHmjcuDHGjRuHhIQEtGrVCo0bN1amrAOAhg0bwsvLCx07dsSAAQPQrFkz1KtX75nuO5qSkoKoqCgMHz7c5PrfyckJjRs3RmRkpMn2derUeer3ooJjmPYUYD1QGJhQosdmY2ODo0ePKo+Tk5Px6quvolGjRpg8ebLJtuvXr0e7du3QqlUrLFmyBL6+vrCxsUGPHj2UCh4A2rRpgyVLlgAA/vrrLwQGBsLV1RWNGjXCjh070Lx5c4SFhaFDhw6PjCs5ORkajQbOzs4m640bdwDgu+++wwcffIDu3bvjyy+/RMmSJaHVatG0adM8jzstLQ2NGzdGeno6vvnmG9SsWRNOTk5Yu3YtQkJC8nytuUlJSQHwIIFmzgnRIkWKICQkBMuWLTPr43hWdnZ2aNGiBVq0aAEASEpKwvTp0zFhwgR8+umn6NWrV66vM/5Bb7igMl5nWP/wBWXRokVz7MvV1TXHxbRBUlISYmNjc1xYGxpzLl26lOeFQG4x5bYOML341Wg0OcoHQwy3b99+pouPJzmm3D4va2F8sWeOSpQogffeey/HfXCsCcsXli/Pq/T0dLOv+4sVK4bAwEBERUWpHYoq3N3d4eLigpiYmKd6/eOeK61bt8a///6LqVOnolGjRnBxccGBAwfwzjvv5Njnw/t6+Pz38/PDtm3bkJqa+ljJ3KSkJADI9X5Lbm5u+dJhzcbGxiSJnVuZ+6hGwv863oeVLFkSU6dOxYABA9CzZ080atTI5PlLly6hYcOG8PT0xOTJkxEQEAAHBwd8++23mDNnTo79PWldYfg8u3btChsbG5PtjMuEVq1aYe/evZg9ezbGjx+PxMRE+Pr6YsSIERg+fHiux2bpsrKyzL7MdHd3x2uvvaYkYnnvjOfP47YlPW47kmGfTk5OJuuMywXDPXceLs8evk5LSkqCRqOBTqfLdTvje/cAT38tW7duXfz000/IjSFpn5SU9Mh64eFYHr7WM5SDgYGBOTruiYhyngcHB8PPzw/ff/89Ro4ciaSkJFSsWBFjxoxBjx49co3Pz88PAJ66XgaAkJAQTJ8+HUOHDsWsWbNQvHhxaDQaVKhQQdlGo9Fg8+bNmDdvHlatWoV58+ZBq9WidevWmDFjBipUqABvb28cOnQIM2fORGhoKMaNGwc3Nzf06NEDU6dOfaoOVYbPbu7cuVi4cKHJcxkZGbC3tzdZZ83X2c+zK1euKMusBwoeE0r0RF588UWTx9988w369++PlStXomvXrsr6n376Ca6urvjjjz9MfsjcuXPH5PVt2rTB2LFjERcXh23btuH1118HADRr1gxr1qzBpUuXcObMGWV9blxdXSEiOXr+3rp1y2S7pUuXokKFCggNDVUq2Ozs7BzbPWzHjh2Ij49HaGioSQVr+FFqSXQ6HW7dugWtVmu2GX1XV1dMnDgRnTt3xqpVq9QORxVZWVlIT0/PcVFcpEgRjB8/HuvXr8fhw4cf2eD7tAwJyYfXubu757p98eLF4eLigjVr1uT6/MM9i/OLiODu3bsmF/6G2IsXL26ynbHcju9hah2TufH29jbLEUoiotz41rh3ojVh+ZI3li/qM9xg2hyJCNzc3DBhwgScOHFC7XBUY2Njg+bNm2PLli1ISUnJUd4YLFu2LNeRJY9zrkRFRSEyMhITJ07EkCFDlOeedmRQy5YtMX/+fKxduxbvvvturtscPXoUcXFxCAoKUhqjckuK37lz55GNVY9K7DxOGVLQgoODsXz5cgwYMMCk4RgAfv/9dyQnJ2PTpk1Kr38AuH//fr68t+Gc/+6779CkSZMczxs3OteuXRuhoaEQERw9ehTfffcdPvzwQxQrVizf6y5zYGtri5IlS6odxlMxLjMvXLigrGdD4vPpcdqSHrcd6XEYEgtpaWkm6x9u/ylatChEJEcyx/Ce+ZU8cHJyyvEZPKxo0aKPrBf+KxZDObh27VqUL18+x/PGiTRDpzC9Xo8DBw5gypQpeOedd+Dr65trGVqyZElUq1YNa9euxddff50jcW8wb948tG/fPte2pKVLl6JFixaYPXu2ss44AWDg7OyMESNGYMSIEbhz5w42btyIkJAQtGrVCufOnYNGo4Gvry+mT5+O6dOnIz4+Hr/88gvGjRuH9PR0pcP6kyhWrBg0Gg169+6Njz/++IlfT88H406rrAcKHhNKBcDHxweXLl2yih/2wcHB+PnnnzFkyBA0a9ZMuRjNyMiAq6uryUVAREQEoqOj8cILLyjrXnnlFXh6euLPP//EwYMHMWPGDAAPEkqjR4/GunXrlF6aj1K5cmUAwL59+9CsWTNl/a5du0y2y8jIgLu7u0kj5ooVK5Cenp5rbzsRgUajQUZGBoAHPdINsrKysGzZMmU7S2H4sVWqVClcvHhR5WjoaaSlpaFMmTIIDAzEunXrcjx///59JCYmPtOQ8EeJiIgw6cFz7tw53Lp1SzlHH9agQQMsXrwYJUqUMLk4vnz5Muzt7XP0OMtPO3bswJtvvqk8PnjwIMqXLw8HBwcADy7WExMTTV4TERGR676MywA1j8mcnD171uw/i7i4OLVDKHQsXx4Pyxd1tWvXDitXrlQ7jGdmzQklABg9ejQ2btyIoUOH4scff8zRCWHLli3o06cPQkJCULFiRZPnHudcye36HgB+/PFHAE9+fR8UFIQqVargk08+wauvvprjd+Dt27fRs2dP3Lt3D6+99hpeeeUV2NjYYNeuXQgKClK2u379Ok6fPm2S5DJmOB7jMiQzM1OZsklNGo0GCxYswEsvvYSvv/7a5LncPu+kpCSsXbsWwLP/nqpduzbs7OwQFxeH4OBgk+eioqKU359bt26Fu7s7XnnlFWg0Grz88stYtGgRVq9ejf3791tlQsnT09MifveNHDlSWWZDonnIrS3pcduRHodxO1Hr1q2V9Q+3E9WtW1dZb1weh4eHA0CeU8Hlt7p162Lv3r05RsWEh4fD3d3dZDTPwwzJ+osXL5pMe6fX63HmzBl4eHhAr9dj/fr18Pf3h7+/P2xsbBAYGIgff/wRJUqUwP79+00SSoY2MQD49NNP0a1bN4wfPx5ffvlljvdfuHAhBg0aBBsbGwwYMCDH8xkZGf9Z5168eBE7d+5Ejx49oNVqUbRoUfTo0QNXr17FyJEjcf36dVy5cgWXLl3CG2+8AQAoU6YMRo8ejT179mD//v15f8CP4OLigpdeegmnTp3KkfSLiYkx22lBrQ2nvCtcWrUDIPOm0WiwcOFCpKWlYeDAgcr6Bg0a4OrVq/j+++8RFxeHX375BYMHD8abb76Jy5cvIyoqCvfv34dGo0GrVq0wc+ZMuLi4KD2+a9SoAVdXV0yfPh2tWrV6ZA8IAOjUqRPc3Nzw4YcfYt++fTh9+jS++OIL/PvvvybbNWjQAJGRkVizZg3i4uIwd+5czJs3D/Xq1UN0dDTOnj0LvV6v9Oz4/fffcfr0adSuXRv29vaYNWsWoqOjcfDgQbz22mtK8ioiIuKRU+4QFTZnZ2eMHTsWGzZsQIcOHRAWFob4+HicPXsW69atQ8uWLXH79m2MGTMm399bq9UiODgYJ06cwJEjRzBgwADY2dnlOnUMAAwfPhxarRadOnXCnj17cOHCBaxfvx4NGzZEz5498z0+AxsbG0yaNAnbtm1DTEwMJk+ejD179qBv377KNvXq1UNYWBg2bNiA8+fPY9GiRdi6davJfgw9mfbt24fjx4/j9u3bqh0TUWFg+fLfWL4Q5Y/AwEDMmjULy5YtQ6tWrbBlyxZcuHABR44cwWeffYb27dujc+fOGDduXI7XPs654u/vD3d3dyxcuBBRUVE4fvw4unTpoiSn9u/fnyPxmxcbGxv89ttv0Gq1qF27NubNm4czZ84gJiYGP//8M+rWrYukpCT8/vvvcHZ2hpeXF/r374958+Zh7ty5OHfuHPbu3YuOHTvC2dkZw4YNy/V9atasCXt7e8yePRtRUVE4ceIE+vTpk2Pqb7VUqlQJn3zySY7p0A0NnVOmTMH58+cRHh6O5s2bo2PHjgAeNJY+PK3Uk/Dw8MDgwYMxY8YMzJ07F9HR0cr9MGrUqIF9+/YBeDD6ISgoCGvXrkVcXBzOnj2LqVOnIiUlBa+++upTvz+pjw2J5ie3tqTHbUd6HJUqVUL9+vUxZ84c/P777zh37hyWLVumdAw2aN++PapVq4YhQ4Zgw4YNiI2NxR9//IGhQ4eiZs2aSuKiMHz66ae4efMmunXrhmPHjuH06dMYM2YM1q9fj08//RRa7aObcF966SW0b98eo0ePRmhoKM6fP48jR46gZ8+eqFOnDmJjY2FjY4OpU6eiY8eO2LZtG+Lj43H69GlMnDgRtra2SjLp4TYx4MGUoiNHjsT48eOVe6nGx8fjwIEDGDRoEAYOHIjhw4fnmkwCHvxvN2/ejB07duDcuXMYP348IiMjUbp0aRw/fhwXLlxAcnIy+vTpg/feew9Hjx7FxYsXERERgdDQUFSrVg2enp44ePAgOnTooLTPxcfHY82aNYiIiFCm4n4aY8eOxZ49ezBs2DAcO3YM586dw7x58/DSSy/h22+/fer9UuExjHjTarXKNJJUgITynY+PjwAQHx8fVfeRn3r16iU2NjaPfH7KlCkCQJYtWyYiIunp6dK/f39xd3cXnU4nrVu3lpiYGNmzZ4+ULFlSdDqdHD9+XEREfvnlFwEg7dq1M9lnUFCQyT7zsnv3bqldu7bY29tLiRIlZNCgQbJy5UoBILt37xYRkRs3bkjnzp2lSJEiUrRoUXn77bfl2rVrsmbNGilSpIgUL15cbty4IWfOnBF/f3+xs7NTYlq5cqVUqFBBHB0dJSAgQJYvXy4ZGRnSpEkTsbe3l88///ypPtf8kl/fl+fte/esmjZtKgAEgKSnp6sdTqEKCwuTt956S8qWLStOTk7i4OAg5cuXl+DgYDl16pSIiOzcuVMAyPLly0VEZMmSJSbnjAEAGTt2rMm6Jk2aSJMmTUy2CQ4OlqlTp4qfn5/Y29tL5cqVZd26dco2ue0/KipKgoKCpFixYmJjYyOlS5eWkSNHSmpqap6vM7yfsV69eomfn5/JOsNrY2NjlW1sbGzk4MGDUr9+fXF0dJQSJUrI8OHDJTMzU3nduXPnpGXLlqLT6aRIkSLStWtXiYyMFACyZMkSZbvRo0eLi4uLuLm5KfE9zjH5+fnJq6++KtakWbNmyvmYlpamdjjPLDY2Vjmerl27qh1OoWL5Yvpali/qi4uLU87HLl26qB1OvhgzZoxyTFu3blU7HNUcOnRIunXrJj4+PmJvby9eXl7SvHlz+fXXXyU7O1tEnv783759u1SvXl0cHR2lXLlyMn36dBER6dq1q9jb20vPnj2Vsn7ChAkmcS1fvlwAyM6dO03W3759W7744gupVq2auLi4iE6nk2rVqsmYMWMkMTHRZNvMzEz58ssvpXz58mJnZydFixaVdu3ayYkTJ5RtHi5LRR78dqpQoYI4ODhI2bJlZfbs2TJ27Fgx/mmf2283w74ejtm4HM7t/UREJkyYYFLeGT7z3Ny/f18CAgJylGmzZs2SMmXKiKOjo9SsWVM2b94sN27ckOrVq4u9vb0sWLDgmeoKvV4vU6dOlUqVKomdnZ24uLhIs2bNJCwsTNnm7t278tFHH0nZsmXFwcFBihYtKnXr1pXQ0NBcj8WSlS5dWgCIt7e32qHkC+PffSkpKWqHQ0aepC3pcduRHrXP8uXLm5QLFy9elHbt2omLi4u4urrK66+/LseOHctRrl+/fl369OkjJUuWFFtbW/H29pb33ntPbt68qWxjKGcTEhKUdYY6wrisE3lwLdarVy+Tx497bRYWFiaNGjUSFxcXcXBwkJdeekkWLVqUY/+57S89PV0++eQTKVeunNja2kqRIkWkbdu2EhkZqWyTmJgowcHBSr3q7u4uTZs2lU2bNinb5NYmZvDXX39J+/btpWTJkmJnZye+vr7Stm1b2bJli8l2D39esbGx0rJlS3F1dRUPDw8ZOHCgpKamyrfffisuLi7KdXZYWJg0a9ZMihYtKvb29lKmTBkJDg6WixcvKvv+7rvvpHr16uLi4iLOzs7i7+8vY8eOlYyMDBHJeV2QW12e23do3bp1Ur9+fXFychJ7e3upVq2afP/998rzj7omoOeDt7e3ABAvLy+1Q7EKGhELmq/rOeHr66tMefe0w8fzYx9kPfLr+2Jp37tmzZopQ9rT09NNhs5T/tJoNAgODsaiRYvUDiVPvXv3RmhoKLKystQOxeo0b94cO3fuBPBg6jRzn54rLi4O5cqVA/Cgx96KFStUjshysXyh/3LhwgWULVsWANClSxeLmPJu7NixGD9+PIAH03S99tprKkdERJakTJkySEhIgLe3Ny5duqR2OM+sUqVKiI6Ohk6ne6bRbkREZH70ej0cHByg1+tRs2ZNHD58WO2QLB6nvCMiIiIiIiIiIrNkmPKO908iIrI+iYmJ0Ov1AFgPFBYmlIiIiIiIiIiIyOykpKQgNTUVABsSiYisEe+jV/hs1Q6AiIjMn7nMnrp06VIsXbpU7TCI6AmwfCEiIqJHMdyIHWBDIhGRNTKuB9ixoHBwhBIREREREREREZkd457pbEgkIrI+HKFU+JhQIiIiIiIiIiIis8MRSkRE1o0jlAofE0pERERERERERGR2OEKJiMi6sR4ofEwoERERERERERGR2WHPdCIi68Yp7wofE0pERERERERERGR22JBIRGTdDB0LtFotPD09VY7GOjChREREREREREREZocJJSIi62aoBzw9PWFra6tyNNaBCSUiIiIiIiIiIjI7hp7pOp0Orq6uKkdDRESFSa/X49q1awA47WlhYkKJiIiIiIiIiIjMjqFnOhsSiYisT2JiIvR6PQDWA4WJCSUiIiIiIiIiIjIrKSkpSE1NBcCGRCIia8RpT9XBhBIREREREREREZkVw3R3ABsSiYiskXE9wI4FhYcJJSIiIiIiIiIiMivGPdPZkEhEZH04QkkdTCgREREREREREZFZ4QglIiLrxhFK6mBCiYiIiIiIiIiIzApHKBERWTfWA+pgQomIiIiIiIiIiMwKRygREVk3TnmnDiaUiIiIiIiIiIjIrLBnOhGRdTN0LNBqtfD09FQ5GuvBhBIREREREREREZkV9kwnIrJuhnrA09MTtra2KkdjPZhQIiIiIiIiIiIis2Loma7T6eDq6qpyNEREVJj0ej2uXbsGgKNUCxsTSkRksTQajbKs1+tVjISIjM9B43PTXLF8IXp+ZGdnK8uWUL4AD6btMGAZQ0T5zVBumnuZaeiZzoZEIiLrk5iYqFwnsx4oXEwoEZHFMu6llpycrGIkRGQ4B21tbeHg4KByNM9Op9MpyyxfiNSVlJSkLBufm+bM+BrG+PiIiPKDoVwx5zIzJSUFqampADjdHRGRNeK0p+phQomILJaPj4+yfOHCBRUjIbJuIqKcg97e3mbfGxYAihUrBkdHRwAsX4jUZnwOWkrvROPjiI+PVzESIrI0t27dUhIx5lxmGqa7A8z7OIiI6OmwHlAPE0pEZLH8/f2V5WPHjqkYCZF1S0hIwO3btwGYnpfmTKPRoFKlSgCAmJgY3L17V+WIiKyXcR1vOC/NnXFZefToUfUCISKLYyllpnHPdDYkEhFZH45QUg8TSkRkserUqaMs79q1S71AiKxceHi4smx8Xpo7w7Ho9Xrs2bNH5WiIrJdxHV+3bl31AslHVatWhZOTE4AHZaiIqBwREVkKSykzjXumsyGRiMj6cISSephQIiKL9corr6BIkSIAgE2bNiE9PV3liIis09q1a5Xlli1bqhhJ/jI+FuNjJKLCk5iYiL///hsA8MILL6BcuXIqR5Q/7Ozs0LRpUwAPel8eOHBA3YCIyCKIiMk1S4sWLVSM5tlwhBIRkXVjPaAeJpSIyGLZ2dmhQ4cOAIDk5GSsXr1a5YiIrM/ly5exYcMGAICXlxcaNGigckT5p02bNnB2dgYArFixAikpKSpHRGR9lixZAr1eDwB46623LOIebQZvvfWWsrxw4UIVIyEiS7F//35ERUUBAAIDA03uOWtuONUREZF1Yz2gHiaUiMii9evXT1meMmWK0uhERIVj2rRpyMrKAgD07dsXNjY2KkeUf1xdXdGtWzcAD5LW33//vcoREVmXtLQ0zJo1S3kcHBysXjAF4K233oKbmxsAIDQ0FPHx8SpHRETmbtKkScqy8e8kc8SpjoiIrJuhHtBqtfD09FQ5GuvChBIRWbTAwEAEBgYCAE6ePMkevkSFKDo6GnPnzgUAODo64oMPPlA5ovw3cuRIZUTEpEmTcPXqVZUjIrIeU6dOVX5IduzYERUqVFA5ovzl6uqKwYMHAwAyMjIQEhKickREZM62b9+O9evXAwB8fHzQvXt3lSN6NuyZTkRk3Qz1gKenJ2xtbVWOxrowoUREFk2j0WDKlCnK448//hixsbEqRkRkHbKystCnTx9kZGQAAD766CN4eXmpHFX+8/f3R9++fQEASUlJGDhwIERE5aiILN/Ro0fx9ddfAwBsbW0xceJElSMqGKNGjULx4sUBACtXrsTvv/+uckREZI6SkpLQv39/5fGECRPg4OCgYkTPztChQKfTwdXVVeVoiIioMOn1ely7dg0AR6mqgQklIrJ4DRs2RJ8+fQAAKSkp6NixI1JTU1WOisiyjRw5Env37gUAvPDCC/j0009VjqjgTJo0CSVKlAAArFu3zmQ6GSLKf4mJiejUqRMyMzMBPChvAgICVI6qYBQrVgzTp09XHvfp0wenTp1SMSIiMjd6vR49e/ZUOtU1atQIvXr1UjmqZ2fomc6GRCIi65OYmKjc0oL1QOFjQomIrMKsWbPw4osvAnjQq7l9+/ZIS0tTOSoiyzRx4kTMnj0bAGBnZ4fQ0FC4uLioHFXB8fDwwNKlS5XHn332GRYsWKBeQEQW7NatW2jTpg3Onz8PAKhVqxbGjRunblAFrFevXnjrrbcAPBhl0KpVK+X4iYjyotfr0b9/f2Wqu6JFi+Knn36CVmveTUEpKSlKB0FOd0dEZH047am6zPsqgojoMbm5ueHPP/9E0aJFATyYQ7x58+YmN3MlomeTmZmJoUOH4osvvlDWzZs3D/Xr11cxqsLxxhtvKNNvAcDAgQPx5ZdfIjs7W8WoiCzL+fPn0ahRIxw+fBjAg96Iv//+u9lP2/RfNBoNfvzxR7z88ssAgISEBDRo0AAHDhxQOTIiep6lpqbirbfewpIlSwA8mB509erVKFeunMqRPTvj33DsmU5EZH1YD6iLCSUishqVK1fG5s2b4ebmBgA4cOAAatSogT///FPlyIjM3+nTp9G4cWPMmTNHWTdt2jQEBwerGFXhGj16ND7++GPl8bhx49CmTRvEx8erGBWR+RMRLFu2DDVr1sTJkycBACVLlsRff/2F0qVLqxxd4XB1dcWWLVtQpUoVAMDVq1fRqFEjTJ48WZn6j4jIYN++fahVq5Zy3zVbW1usWLECLVq0UDmy/GHcM50NiURE1ocjlNTFhBIRWZV69eohPDwcvr6+AIDr16+jffv2aNWqFfbu3QsRUTlCIvOSkJCAoUOHonr16ti/fz+AB9PcLV68GCNGjFA5usKl0WgwefJkTJ06FRqNBgCwbds2+Pv749NPP8X169dVjpDIvIgIwsLC0LBhQ/Tq1QtJSUkAgEqVKmHPnj2oXLmyyhEWLk9PT4SHh6Nx48YAHowK/eSTT1C9enX8+uuvyMrKUjlCIlLbyZMn0aNHDwQGBiI6OhrAg5kaNmzYgM6dO6scXf4x7pnOhkQiIuvDEUrqYkKJiKxOjRo1cOTIEbRt21ZZt23bNjRo0AA1a9bEpEmTcOjQIWRkZKgYJdHzSURw9uxZLFq0CG3btkW5cuUwZ84cpYd8+fLlsXv3bvTt21flSNWh0WgwatQobNu2TbmwTU9Px6RJk1C6dGl07twZy5cvx4ULF5jAJsrFvXv3sHfvXowbNw4BAQFo2bIl9u7dqzzfo0cPHDx4EOXLl1cxSvW4u7sjLCwMISEhyj1QTp8+ja5du6Js2bIYOXIkwsLCkJKSonKkRFQY9Ho9oqKi8O2336JJkyaoUqUKfvnlF+X52rVrIzIyEq1atVIxyvzHEUpERNaN9YC6NMLWjHzn6+uLS5cuwcfHBxcvXlRtH2Q98uv7Ym3fOxHBqlWrEBISggsXLuR43tbWFqVLl4a7uztsbW2VEQdE1kiv1yM5ORkJCQm4e/dujuednZ0xYsQIjB49Gs7OzipE+PxJSkrCuHHj8P333+eaoHZzc4Ovry90Op3Z3xyb6FmICDIzM3Hjxg0kJCTkeu+xgIAATJs2Da+//roKET6fIiMjMXz4cOzZsyfX5729vVGyZEk4ODjwGobIgogI9Ho97ty5g/j4eNy/fz/HNu7u7hgzZgwGDRoEW1tbFaIsWCNGjMCMGTMAAP7+/ihWrJjKERERUWGKjo7GzZs3AQCXLl1iUqmQMaFUAAyN8lqt9qmHX1+5cgXZ2dnPtA+yHvn1fTHsx1oSSgYZGRn45ZdfMG/ePBw8eFDtcIjMiq+vL4KDgzFo0CB4enqqHc5zKSEhAXPmzMFPP/3Eae+InlCTJk0waNAgdOrUCTY2NmqH89wREWzfvh1z5szBpk2bOO0dkZXz9/fHgAED0K9fP+h0OrXDKTD9+vXD4sWL1Q6DiIhUZmdnh7S0NIvsPPE8Y0KpAAQEBOD06dNqh0H01Pz9/XHq1Cm1w1DF+fPnsWXLFuzduxdRUVGIj4/HnTt3ODUVEQAXFxd4e3vD398fderUQYsWLVCnTh2OrnlMWVlZ2LNnD7Zv347IyEicOXMGV69eRVpamtqhEalOq9WiePHi8PPzQ9WqVdGwYUO0bt1auech/bebN29i69at2L17N44ePYrY2FjcvHmTSSYiC2UY6RwQEIB69eqhVatWqFq1qlWMSAwLC0OXLl1w69YttUMhIiKV2Nvb45NPPsG4cePUDsXqMKFUAH777Td88cUXzzR3eXp6OlJSUqDT6eDk5JSP0ZElys/vi06nw4QJEyzqpq35gUUlEayigUINLF+IWL4UJJYxRJaHZSbLNiIiYn2oFiaUiIiIiIiIiIiIiIiIKE+co4aIiIiIiIiIiIiIiIjyxIQSERERERERERERERER5YkJJSIiIiIiIiIiIiIiIsoTE0pERERERERERERERESUJyaUiIiIiIiIiIiIiIiIKE9MKBEREREREREREREREVGemFAiIiIiIiIiIiIiIiKiPDGhRERERERERERERERERHliQomIiIiIiIiIiIiIiIjyxIQSERERERERERERERER5YkJJSIiIiIiIiIiIiIiIsrT/wA5nXVxEDZ3DAAAAABJRU5ErkJggg==\n"
                },
                "metadata": {}
              }
            ]
          }
        },
        "97b7e80b6fda4251870481b2910d7b4d": {
          "model_module": "@jupyter-widgets/base",
          "model_name": "LayoutModel",
          "model_module_version": "1.2.0",
          "state": {
            "_model_module": "@jupyter-widgets/base",
            "_model_module_version": "1.2.0",
            "_model_name": "LayoutModel",
            "_view_count": null,
            "_view_module": "@jupyter-widgets/base",
            "_view_module_version": "1.2.0",
            "_view_name": "LayoutView",
            "align_content": null,
            "align_items": null,
            "align_self": null,
            "border": null,
            "bottom": null,
            "display": null,
            "flex": null,
            "flex_flow": null,
            "grid_area": null,
            "grid_auto_columns": null,
            "grid_auto_flow": null,
            "grid_auto_rows": null,
            "grid_column": null,
            "grid_gap": null,
            "grid_row": null,
            "grid_template_areas": null,
            "grid_template_columns": null,
            "grid_template_rows": null,
            "height": null,
            "justify_content": null,
            "justify_items": null,
            "left": null,
            "margin": null,
            "max_height": null,
            "max_width": null,
            "min_height": null,
            "min_width": null,
            "object_fit": null,
            "object_position": null,
            "order": null,
            "overflow": null,
            "overflow_x": null,
            "overflow_y": null,
            "padding": null,
            "right": null,
            "top": null,
            "visibility": null,
            "width": null
          }
        },
        "47c5000f09bf42a3a03f615919c688bc": {
          "model_module": "@jupyter-widgets/base",
          "model_name": "LayoutModel",
          "model_module_version": "1.2.0",
          "state": {
            "_model_module": "@jupyter-widgets/base",
            "_model_module_version": "1.2.0",
            "_model_name": "LayoutModel",
            "_view_count": null,
            "_view_module": "@jupyter-widgets/base",
            "_view_module_version": "1.2.0",
            "_view_name": "LayoutView",
            "align_content": null,
            "align_items": null,
            "align_self": null,
            "border": null,
            "bottom": null,
            "display": null,
            "flex": null,
            "flex_flow": null,
            "grid_area": null,
            "grid_auto_columns": null,
            "grid_auto_flow": null,
            "grid_auto_rows": null,
            "grid_column": null,
            "grid_gap": null,
            "grid_row": null,
            "grid_template_areas": null,
            "grid_template_columns": null,
            "grid_template_rows": null,
            "height": null,
            "justify_content": null,
            "justify_items": null,
            "left": null,
            "margin": null,
            "max_height": null,
            "max_width": null,
            "min_height": null,
            "min_width": null,
            "object_fit": null,
            "object_position": null,
            "order": null,
            "overflow": null,
            "overflow_x": null,
            "overflow_y": null,
            "padding": null,
            "right": null,
            "top": null,
            "visibility": null,
            "width": null
          }
        },
        "a266c34c133040c6af74a05ddce2cb48": {
          "model_module": "@jupyter-widgets/controls",
          "model_name": "ToggleButtonsStyleModel",
          "model_module_version": "1.5.0",
          "state": {
            "_model_module": "@jupyter-widgets/controls",
            "_model_module_version": "1.5.0",
            "_model_name": "ToggleButtonsStyleModel",
            "_view_count": null,
            "_view_module": "@jupyter-widgets/base",
            "_view_module_version": "1.2.0",
            "_view_name": "StyleView",
            "button_width": "",
            "description_width": "",
            "font_weight": ""
          }
        },
        "73eb917cf81a49a489d8b5bb979fa5d1": {
          "model_module": "@jupyter-widgets/base",
          "model_name": "LayoutModel",
          "model_module_version": "1.2.0",
          "state": {
            "_model_module": "@jupyter-widgets/base",
            "_model_module_version": "1.2.0",
            "_model_name": "LayoutModel",
            "_view_count": null,
            "_view_module": "@jupyter-widgets/base",
            "_view_module_version": "1.2.0",
            "_view_name": "LayoutView",
            "align_content": null,
            "align_items": null,
            "align_self": null,
            "border": null,
            "bottom": null,
            "display": null,
            "flex": null,
            "flex_flow": null,
            "grid_area": null,
            "grid_auto_columns": null,
            "grid_auto_flow": null,
            "grid_auto_rows": null,
            "grid_column": null,
            "grid_gap": null,
            "grid_row": null,
            "grid_template_areas": null,
            "grid_template_columns": null,
            "grid_template_rows": null,
            "height": null,
            "justify_content": null,
            "justify_items": null,
            "left": null,
            "margin": null,
            "max_height": null,
            "max_width": null,
            "min_height": null,
            "min_width": null,
            "object_fit": null,
            "object_position": null,
            "order": null,
            "overflow": null,
            "overflow_x": null,
            "overflow_y": null,
            "padding": null,
            "right": null,
            "top": null,
            "visibility": null,
            "width": null
          }
        }
      }
    }
  },
  "nbformat": 4,
  "nbformat_minor": 5
}